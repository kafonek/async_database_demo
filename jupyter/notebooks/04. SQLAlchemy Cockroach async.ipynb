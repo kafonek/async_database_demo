{
 "cells": [
  {
   "cell_type": "markdown",
   "id": "01e597c7",
   "metadata": {},
   "source": [
    "### Notebook setup"
   ]
  },
  {
   "cell_type": "code",
   "execution_count": 1,
   "id": "279160eb",
   "metadata": {
    "ExecuteTime": {
     "end_time": "2021-11-09T16:12:56.170768Z",
     "start_time": "2021-11-09T16:12:56.054665Z"
    }
   },
   "outputs": [
    {
     "data": {
      "application/javascript": [
       "\n",
       "            setTimeout(function() {\n",
       "                var nbb_cell_id = 1;\n",
       "                var nbb_unformatted_code = \"%load_ext nb_black\";\n",
       "                var nbb_formatted_code = \"%load_ext nb_black\";\n",
       "                var nbb_cells = Jupyter.notebook.get_cells();\n",
       "                for (var i = 0; i < nbb_cells.length; ++i) {\n",
       "                    if (nbb_cells[i].input_prompt_number == nbb_cell_id) {\n",
       "                        if (nbb_cells[i].get_text() == nbb_unformatted_code) {\n",
       "                             nbb_cells[i].set_text(nbb_formatted_code);\n",
       "                        }\n",
       "                        break;\n",
       "                    }\n",
       "                }\n",
       "            }, 500);\n",
       "            "
      ],
      "text/plain": [
       "<IPython.core.display.Javascript object>"
      ]
     },
     "metadata": {},
     "output_type": "display_data"
    }
   ],
   "source": [
    "%load_ext nb_black"
   ]
  },
  {
   "cell_type": "markdown",
   "id": "1e4d309e",
   "metadata": {},
   "source": [
    "### Create Engine/Session"
   ]
  },
  {
   "cell_type": "code",
   "execution_count": 2,
   "id": "e07cc390",
   "metadata": {
    "ExecuteTime": {
     "end_time": "2021-11-09T16:12:56.891323Z",
     "start_time": "2021-11-09T16:12:56.173315Z"
    }
   },
   "outputs": [
    {
     "data": {
      "text/plain": [
       "<module 'sqlalchemy_cockroachdb' from '/opt/conda/lib/python3.9/site-packages/sqlalchemy_cockroachdb/__init__.py'>"
      ]
     },
     "execution_count": 2,
     "metadata": {},
     "output_type": "execute_result"
    },
    {
     "data": {
      "application/javascript": [
       "\n",
       "            setTimeout(function() {\n",
       "                var nbb_cell_id = 2;\n",
       "                var nbb_unformatted_code = \"import sqlalchemy_cockroachdb\\n\\nsqlalchemy_cockroachdb\";\n",
       "                var nbb_formatted_code = \"import sqlalchemy_cockroachdb\\n\\nsqlalchemy_cockroachdb\";\n",
       "                var nbb_cells = Jupyter.notebook.get_cells();\n",
       "                for (var i = 0; i < nbb_cells.length; ++i) {\n",
       "                    if (nbb_cells[i].input_prompt_number == nbb_cell_id) {\n",
       "                        if (nbb_cells[i].get_text() == nbb_unformatted_code) {\n",
       "                             nbb_cells[i].set_text(nbb_formatted_code);\n",
       "                        }\n",
       "                        break;\n",
       "                    }\n",
       "                }\n",
       "            }, 500);\n",
       "            "
      ],
      "text/plain": [
       "<IPython.core.display.Javascript object>"
      ]
     },
     "metadata": {},
     "output_type": "display_data"
    }
   ],
   "source": [
    "import sqlalchemy_cockroachdb\n",
    "\n",
    "sqlalchemy_cockroachdb"
   ]
  },
  {
   "cell_type": "code",
   "execution_count": 3,
   "id": "fecd4e6e",
   "metadata": {
    "ExecuteTime": {
     "end_time": "2021-11-09T16:12:57.194084Z",
     "start_time": "2021-11-09T16:12:56.893437Z"
    }
   },
   "outputs": [
    {
     "data": {
      "text/plain": [
       "'1.4.3.dev0'"
      ]
     },
     "execution_count": 3,
     "metadata": {},
     "output_type": "execute_result"
    },
    {
     "data": {
      "application/javascript": [
       "\n",
       "            setTimeout(function() {\n",
       "                var nbb_cell_id = 3;\n",
       "                var nbb_unformatted_code = \"sqlalchemy_cockroachdb.__version__\";\n",
       "                var nbb_formatted_code = \"sqlalchemy_cockroachdb.__version__\";\n",
       "                var nbb_cells = Jupyter.notebook.get_cells();\n",
       "                for (var i = 0; i < nbb_cells.length; ++i) {\n",
       "                    if (nbb_cells[i].input_prompt_number == nbb_cell_id) {\n",
       "                        if (nbb_cells[i].get_text() == nbb_unformatted_code) {\n",
       "                             nbb_cells[i].set_text(nbb_formatted_code);\n",
       "                        }\n",
       "                        break;\n",
       "                    }\n",
       "                }\n",
       "            }, 500);\n",
       "            "
      ],
      "text/plain": [
       "<IPython.core.display.Javascript object>"
      ]
     },
     "metadata": {},
     "output_type": "display_data"
    }
   ],
   "source": [
    "sqlalchemy_cockroachdb.__version__"
   ]
  },
  {
   "cell_type": "code",
   "execution_count": 4,
   "id": "2c45174e",
   "metadata": {
    "ExecuteTime": {
     "end_time": "2021-11-09T16:12:59.396178Z",
     "start_time": "2021-11-09T16:12:57.197380Z"
    }
   },
   "outputs": [
    {
     "name": "stdout",
     "output_type": "stream",
     "text": [
      "Name: sqlalchemy-cockroachdb\r\n",
      "Version: 1.4.3.dev0\r\n",
      "Summary: CockroachDB dialect for SQLAlchemy\r\n",
      "Home-page: https://github.com/cockroachdb/sqlalchemy-cockroachdb\r\n",
      "Author: Cockroach Labs\r\n",
      "Author-email: cockroach-db@googlegroups.com\r\n",
      "License: http://www.apache.org/licenses/LICENSE-2.0\r\n",
      "Location: /opt/conda/lib/python3.9/site-packages\r\n",
      "Requires: SQLAlchemy\r\n",
      "Required-by: \r\n"
     ]
    },
    {
     "data": {
      "application/javascript": [
       "\n",
       "            setTimeout(function() {\n",
       "                var nbb_cell_id = 4;\n",
       "                var nbb_unformatted_code = \"!pip show sqlalchemy-cockroachdb\";\n",
       "                var nbb_formatted_code = \"!pip show sqlalchemy-cockroachdb\";\n",
       "                var nbb_cells = Jupyter.notebook.get_cells();\n",
       "                for (var i = 0; i < nbb_cells.length; ++i) {\n",
       "                    if (nbb_cells[i].input_prompt_number == nbb_cell_id) {\n",
       "                        if (nbb_cells[i].get_text() == nbb_unformatted_code) {\n",
       "                             nbb_cells[i].set_text(nbb_formatted_code);\n",
       "                        }\n",
       "                        break;\n",
       "                    }\n",
       "                }\n",
       "            }, 500);\n",
       "            "
      ],
      "text/plain": [
       "<IPython.core.display.Javascript object>"
      ]
     },
     "metadata": {},
     "output_type": "display_data"
    }
   ],
   "source": [
    "!pip show sqlalchemy-cockroachdb"
   ]
  },
  {
   "cell_type": "code",
   "execution_count": 5,
   "id": "48c2521d",
   "metadata": {
    "ExecuteTime": {
     "end_time": "2021-11-09T16:12:59.447102Z",
     "start_time": "2021-11-09T16:12:59.398574Z"
    }
   },
   "outputs": [
    {
     "data": {
      "text/plain": [
       "<sqlalchemy.ext.asyncio.engine.AsyncEngine at 0x7fbd01ef9300>"
      ]
     },
     "execution_count": 5,
     "metadata": {},
     "output_type": "execute_result"
    },
    {
     "data": {
      "application/javascript": [
       "\n",
       "            setTimeout(function() {\n",
       "                var nbb_cell_id = 5;\n",
       "                var nbb_unformatted_code = \"import sqlalchemy as sa\\nimport sqlalchemy.orm\\nfrom sqlalchemy.ext.asyncio import create_async_engine, AsyncSession\\n\\n\\nengine = create_async_engine(\\n    \\\"cockroachdb+asyncpg://root@cockroach:26257/defaultdb\\\", echo=True\\n)\\nengine\";\n",
       "                var nbb_formatted_code = \"import sqlalchemy as sa\\nimport sqlalchemy.orm\\nfrom sqlalchemy.ext.asyncio import create_async_engine, AsyncSession\\n\\n\\nengine = create_async_engine(\\n    \\\"cockroachdb+asyncpg://root@cockroach:26257/defaultdb\\\", echo=True\\n)\\nengine\";\n",
       "                var nbb_cells = Jupyter.notebook.get_cells();\n",
       "                for (var i = 0; i < nbb_cells.length; ++i) {\n",
       "                    if (nbb_cells[i].input_prompt_number == nbb_cell_id) {\n",
       "                        if (nbb_cells[i].get_text() == nbb_unformatted_code) {\n",
       "                             nbb_cells[i].set_text(nbb_formatted_code);\n",
       "                        }\n",
       "                        break;\n",
       "                    }\n",
       "                }\n",
       "            }, 500);\n",
       "            "
      ],
      "text/plain": [
       "<IPython.core.display.Javascript object>"
      ]
     },
     "metadata": {},
     "output_type": "display_data"
    }
   ],
   "source": [
    "import sqlalchemy as sa\n",
    "import sqlalchemy.orm\n",
    "from sqlalchemy.ext.asyncio import create_async_engine, AsyncSession\n",
    "\n",
    "\n",
    "engine = create_async_engine(\n",
    "    \"cockroachdb+asyncpg://root@cockroach:26257/defaultdb\", echo=True\n",
    ")\n",
    "engine"
   ]
  },
  {
   "cell_type": "code",
   "execution_count": 6,
   "id": "817661e5",
   "metadata": {
    "ExecuteTime": {
     "end_time": "2021-11-09T16:12:59.729254Z",
     "start_time": "2021-11-09T16:12:59.449638Z"
    }
   },
   "outputs": [
    {
     "data": {
      "text/plain": [
       "sessionmaker(class_='AsyncSession', bind=<sqlalchemy.ext.asyncio.engine.AsyncEngine object at 0x7fbd01ef9300>, autoflush=True, expire_on_commit=True)"
      ]
     },
     "execution_count": 6,
     "metadata": {},
     "output_type": "execute_result"
    },
    {
     "data": {
      "application/javascript": [
       "\n",
       "            setTimeout(function() {\n",
       "                var nbb_cell_id = 6;\n",
       "                var nbb_unformatted_code = \"async_session = sa.orm.sessionmaker(engine, class_=AsyncSession)\\nasync_session\";\n",
       "                var nbb_formatted_code = \"async_session = sa.orm.sessionmaker(engine, class_=AsyncSession)\\nasync_session\";\n",
       "                var nbb_cells = Jupyter.notebook.get_cells();\n",
       "                for (var i = 0; i < nbb_cells.length; ++i) {\n",
       "                    if (nbb_cells[i].input_prompt_number == nbb_cell_id) {\n",
       "                        if (nbb_cells[i].get_text() == nbb_unformatted_code) {\n",
       "                             nbb_cells[i].set_text(nbb_formatted_code);\n",
       "                        }\n",
       "                        break;\n",
       "                    }\n",
       "                }\n",
       "            }, 500);\n",
       "            "
      ],
      "text/plain": [
       "<IPython.core.display.Javascript object>"
      ]
     },
     "metadata": {},
     "output_type": "display_data"
    }
   ],
   "source": [
    "async_session = sa.orm.sessionmaker(engine, class_=AsyncSession)\n",
    "async_session"
   ]
  },
  {
   "cell_type": "markdown",
   "id": "6e36f7c8",
   "metadata": {},
   "source": [
    "### Drop/create tables"
   ]
  },
  {
   "cell_type": "code",
   "execution_count": 7,
   "id": "4c817129",
   "metadata": {
    "ExecuteTime": {
     "end_time": "2021-11-09T16:13:06.523190Z",
     "start_time": "2021-11-09T16:12:59.731831Z"
    },
    "scrolled": false
   },
   "outputs": [
    {
     "name": "stdout",
     "output_type": "stream",
     "text": [
      "2021-11-09 16:13:00,050 INFO sqlalchemy.engine.Engine select current_schema()\n",
      "2021-11-09 16:13:00,051 INFO sqlalchemy.engine.Engine [raw sql] ()\n",
      "2021-11-09 16:13:00,057 INFO sqlalchemy.engine.Engine select version()\n",
      "2021-11-09 16:13:00,057 INFO sqlalchemy.engine.Engine [generated in 0.00071s] ()\n",
      "2021-11-09 16:13:00,144 INFO sqlalchemy.engine.Engine SELECT crdb_internal.increment_feature_counter(%s)\n",
      "2021-11-09 16:13:00,145 INFO sqlalchemy.engine.Engine [generated in 0.00094s] ('sqlalchemy-cockroachdb 1.4.3.dev0',)\n",
      "2021-11-09 16:13:00,148 INFO sqlalchemy.engine.Engine SELECT crdb_internal.increment_feature_counter(%s)\n",
      "2021-11-09 16:13:00,149 INFO sqlalchemy.engine.Engine [cached since 0.004408s ago] ('sqlalchemy 2.0',)\n",
      "2021-11-09 16:13:00,152 INFO sqlalchemy.engine.Engine BEGIN (implicit)\n",
      "2021-11-09 16:13:00,154 INFO sqlalchemy.engine.Engine SELECT table_name FROM information_schema.tables WHERE table_schema=%s\n",
      "2021-11-09 16:13:00,154 INFO sqlalchemy.engine.Engine [generated in 0.00077s] ('public',)\n",
      "2021-11-09 16:13:00,163 INFO sqlalchemy.engine.Engine SELECT table_name FROM information_schema.tables WHERE table_schema=%s\n",
      "2021-11-09 16:13:00,164 INFO sqlalchemy.engine.Engine [cached since 0.01079s ago] ('public',)\n",
      "2021-11-09 16:13:00,169 INFO sqlalchemy.engine.Engine \n",
      "DROP TABLE message\n",
      "2021-11-09 16:13:00,170 INFO sqlalchemy.engine.Engine [no key 0.00095s] ()\n",
      "2021-11-09 16:13:00,178 INFO sqlalchemy.engine.Engine \n",
      "DROP TABLE \"user\"\n",
      "2021-11-09 16:13:00,179 INFO sqlalchemy.engine.Engine [no key 0.00094s] ()\n",
      "2021-11-09 16:13:00,671 INFO sqlalchemy.engine.Engine COMMIT\n"
     ]
    },
    {
     "data": {
      "application/javascript": [
       "\n",
       "            setTimeout(function() {\n",
       "                var nbb_cell_id = 7;\n",
       "                var nbb_unformatted_code = \"from models import Base, User, Message\\n\\nasync with engine.begin() as conn:\\n    await conn.run_sync(Base.metadata.drop_all)\";\n",
       "                var nbb_formatted_code = \"from models import Base, User, Message\\n\\nasync with engine.begin() as conn:\\n    await conn.run_sync(Base.metadata.drop_all)\";\n",
       "                var nbb_cells = Jupyter.notebook.get_cells();\n",
       "                for (var i = 0; i < nbb_cells.length; ++i) {\n",
       "                    if (nbb_cells[i].input_prompt_number == nbb_cell_id) {\n",
       "                        if (nbb_cells[i].get_text() == nbb_unformatted_code) {\n",
       "                             nbb_cells[i].set_text(nbb_formatted_code);\n",
       "                        }\n",
       "                        break;\n",
       "                    }\n",
       "                }\n",
       "            }, 500);\n",
       "            "
      ],
      "text/plain": [
       "<IPython.core.display.Javascript object>"
      ]
     },
     "metadata": {},
     "output_type": "display_data"
    }
   ],
   "source": [
    "from models import Base, User, Message\n",
    "\n",
    "async with engine.begin() as conn:\n",
    "    await conn.run_sync(Base.metadata.drop_all)"
   ]
  },
  {
   "cell_type": "code",
   "execution_count": 8,
   "id": "6b20da62",
   "metadata": {
    "ExecuteTime": {
     "end_time": "2021-11-09T16:13:12.493170Z",
     "start_time": "2021-11-09T16:13:06.525368Z"
    }
   },
   "outputs": [
    {
     "name": "stdout",
     "output_type": "stream",
     "text": [
      "2021-11-09 16:13:06,526 INFO sqlalchemy.engine.Engine BEGIN (implicit)\n",
      "2021-11-09 16:13:06,529 INFO sqlalchemy.engine.Engine SELECT table_name FROM information_schema.tables WHERE table_schema=%s\n",
      "2021-11-09 16:13:06,530 INFO sqlalchemy.engine.Engine [cached since 6.377s ago] ('public',)\n",
      "2021-11-09 16:13:06,539 INFO sqlalchemy.engine.Engine SELECT table_name FROM information_schema.tables WHERE table_schema=%s\n",
      "2021-11-09 16:13:06,540 INFO sqlalchemy.engine.Engine [cached since 6.387s ago] ('public',)\n",
      "2021-11-09 16:13:06,544 INFO sqlalchemy.engine.Engine \n",
      "CREATE TABLE \"user\" (\n",
      "\tid SERIAL, \n",
      "\tname VARCHAR NOT NULL, \n",
      "\tPRIMARY KEY (id)\n",
      ")\n",
      "\n",
      "\n",
      "2021-11-09 16:13:06,545 INFO sqlalchemy.engine.Engine [no key 0.00112s] ()\n",
      "2021-11-09 16:13:06,954 INFO sqlalchemy.engine.Engine CREATE INDEX ix_user_name ON \"user\" (name)\n",
      "2021-11-09 16:13:06,955 INFO sqlalchemy.engine.Engine [no key 0.00081s] ()\n",
      "2021-11-09 16:13:07,321 INFO sqlalchemy.engine.Engine CREATE INDEX ix_user_id ON \"user\" (id)\n",
      "2021-11-09 16:13:07,322 INFO sqlalchemy.engine.Engine [no key 0.00094s] ()\n",
      "2021-11-09 16:13:07,953 INFO sqlalchemy.engine.Engine \n",
      "CREATE TABLE message (\n",
      "\tid SERIAL, \n",
      "\tcontent VARCHAR NOT NULL, \n",
      "\tuser_id INTEGER, \n",
      "\tPRIMARY KEY (id), \n",
      "\tFOREIGN KEY(user_id) REFERENCES \"user\" (id)\n",
      ")\n",
      "\n",
      "\n",
      "2021-11-09 16:13:07,954 INFO sqlalchemy.engine.Engine [no key 0.00086s] ()\n",
      "2021-11-09 16:13:09,212 INFO sqlalchemy.engine.Engine CREATE INDEX ix_message_user_id ON message (user_id)\n",
      "2021-11-09 16:13:09,214 INFO sqlalchemy.engine.Engine [no key 0.00151s] ()\n",
      "2021-11-09 16:13:09,219 INFO sqlalchemy.engine.Engine CREATE INDEX ix_message_content ON message (content)\n",
      "2021-11-09 16:13:09,220 INFO sqlalchemy.engine.Engine [no key 0.00107s] ()\n",
      "2021-11-09 16:13:10,101 INFO sqlalchemy.engine.Engine CREATE INDEX ix_message_id ON message (id)\n",
      "2021-11-09 16:13:10,101 INFO sqlalchemy.engine.Engine [no key 0.00082s] ()\n",
      "2021-11-09 16:13:10,928 INFO sqlalchemy.engine.Engine COMMIT\n"
     ]
    },
    {
     "data": {
      "application/javascript": [
       "\n",
       "            setTimeout(function() {\n",
       "                var nbb_cell_id = 8;\n",
       "                var nbb_unformatted_code = \"async with engine.begin() as conn:\\n    await conn.run_sync(Base.metadata.create_all)\";\n",
       "                var nbb_formatted_code = \"async with engine.begin() as conn:\\n    await conn.run_sync(Base.metadata.create_all)\";\n",
       "                var nbb_cells = Jupyter.notebook.get_cells();\n",
       "                for (var i = 0; i < nbb_cells.length; ++i) {\n",
       "                    if (nbb_cells[i].input_prompt_number == nbb_cell_id) {\n",
       "                        if (nbb_cells[i].get_text() == nbb_unformatted_code) {\n",
       "                             nbb_cells[i].set_text(nbb_formatted_code);\n",
       "                        }\n",
       "                        break;\n",
       "                    }\n",
       "                }\n",
       "            }, 500);\n",
       "            "
      ],
      "text/plain": [
       "<IPython.core.display.Javascript object>"
      ]
     },
     "metadata": {},
     "output_type": "display_data"
    }
   ],
   "source": [
    "async with engine.begin() as conn:\n",
    "    await conn.run_sync(Base.metadata.create_all)"
   ]
  },
  {
   "cell_type": "markdown",
   "id": "9ad058ac",
   "metadata": {
    "jp-MarkdownHeadingCollapsed": true,
    "tags": []
   },
   "source": [
    "### Add data\n",
    "\n",
    "Nick, Eli, and Paul sing 99 bottles of beer..."
   ]
  },
  {
   "cell_type": "code",
   "execution_count": 9,
   "id": "c30ff3a7",
   "metadata": {
    "ExecuteTime": {
     "end_time": "2021-11-09T16:13:12.512765Z",
     "start_time": "2021-11-09T16:13:12.495409Z"
    }
   },
   "outputs": [
    {
     "data": {
      "text/plain": [
       "[User(id=None, name='Nick'),\n",
       " User(id=None, name='Eli'),\n",
       " User(id=None, name='Paul')]"
      ]
     },
     "execution_count": 9,
     "metadata": {},
     "output_type": "execute_result"
    },
    {
     "data": {
      "application/javascript": [
       "\n",
       "            setTimeout(function() {\n",
       "                var nbb_cell_id = 9;\n",
       "                var nbb_unformatted_code = \"users = [User(name=\\\"Nick\\\"), User(name=\\\"Eli\\\"), User(name=\\\"Paul\\\")]\\nusers\";\n",
       "                var nbb_formatted_code = \"users = [User(name=\\\"Nick\\\"), User(name=\\\"Eli\\\"), User(name=\\\"Paul\\\")]\\nusers\";\n",
       "                var nbb_cells = Jupyter.notebook.get_cells();\n",
       "                for (var i = 0; i < nbb_cells.length; ++i) {\n",
       "                    if (nbb_cells[i].input_prompt_number == nbb_cell_id) {\n",
       "                        if (nbb_cells[i].get_text() == nbb_unformatted_code) {\n",
       "                             nbb_cells[i].set_text(nbb_formatted_code);\n",
       "                        }\n",
       "                        break;\n",
       "                    }\n",
       "                }\n",
       "            }, 500);\n",
       "            "
      ],
      "text/plain": [
       "<IPython.core.display.Javascript object>"
      ]
     },
     "metadata": {},
     "output_type": "display_data"
    }
   ],
   "source": [
    "users = [User(name=\"Nick\"), User(name=\"Eli\"), User(name=\"Paul\")]\n",
    "users"
   ]
  },
  {
   "cell_type": "code",
   "execution_count": 10,
   "id": "8aa2e3ee",
   "metadata": {
    "ExecuteTime": {
     "end_time": "2021-11-09T16:13:16.124840Z",
     "start_time": "2021-11-09T16:13:12.514691Z"
    }
   },
   "outputs": [
    {
     "name": "stdout",
     "output_type": "stream",
     "text": [
      "2021-11-09 16:13:13,486 INFO sqlalchemy.engine.Engine BEGIN (implicit)\n",
      "2021-11-09 16:13:13,489 INFO sqlalchemy.engine.Engine INSERT INTO \"user\" (name) VALUES (%s) RETURNING \"user\".id\n",
      "2021-11-09 16:13:13,490 INFO sqlalchemy.engine.Engine [generated in 0.00107s] ('Nick',)\n",
      "2021-11-09 16:13:15,437 INFO sqlalchemy.engine.Engine INSERT INTO \"user\" (name) VALUES (%s) RETURNING \"user\".id\n",
      "2021-11-09 16:13:15,438 INFO sqlalchemy.engine.Engine [cached since 1.949s ago] ('Eli',)\n",
      "2021-11-09 16:13:15,441 INFO sqlalchemy.engine.Engine INSERT INTO \"user\" (name) VALUES (%s) RETURNING \"user\".id\n",
      "2021-11-09 16:13:15,442 INFO sqlalchemy.engine.Engine [cached since 1.953s ago] ('Paul',)\n",
      "2021-11-09 16:13:15,446 INFO sqlalchemy.engine.Engine COMMIT\n"
     ]
    },
    {
     "data": {
      "application/javascript": [
       "\n",
       "            setTimeout(function() {\n",
       "                var nbb_cell_id = 10;\n",
       "                var nbb_unformatted_code = \"async with async_session() as session:\\n    session.add_all(users)\\n    await session.commit()\";\n",
       "                var nbb_formatted_code = \"async with async_session() as session:\\n    session.add_all(users)\\n    await session.commit()\";\n",
       "                var nbb_cells = Jupyter.notebook.get_cells();\n",
       "                for (var i = 0; i < nbb_cells.length; ++i) {\n",
       "                    if (nbb_cells[i].input_prompt_number == nbb_cell_id) {\n",
       "                        if (nbb_cells[i].get_text() == nbb_unformatted_code) {\n",
       "                             nbb_cells[i].set_text(nbb_formatted_code);\n",
       "                        }\n",
       "                        break;\n",
       "                    }\n",
       "                }\n",
       "            }, 500);\n",
       "            "
      ],
      "text/plain": [
       "<IPython.core.display.Javascript object>"
      ]
     },
     "metadata": {},
     "output_type": "display_data"
    }
   ],
   "source": [
    "async with async_session() as session:\n",
    "    session.add_all(users)\n",
    "    await session.commit()"
   ]
  },
  {
   "cell_type": "code",
   "execution_count": 11,
   "id": "60ef5390",
   "metadata": {
    "ExecuteTime": {
     "end_time": "2021-11-09T16:13:19.518577Z",
     "start_time": "2021-11-09T16:13:16.127175Z"
    }
   },
   "outputs": [
    {
     "name": "stdout",
     "output_type": "stream",
     "text": [
      "2021-11-09 16:13:16,141 INFO sqlalchemy.engine.Engine BEGIN (implicit)\n",
      "2021-11-09 16:13:16,146 INFO sqlalchemy.engine.Engine SELECT \"user\".id AS user_id, \"user\".name AS user_name \n",
      "FROM \"user\" \n",
      "WHERE \"user\".id = %s\n",
      "2021-11-09 16:13:16,147 INFO sqlalchemy.engine.Engine [generated in 0.00119s] (709112610343288833,)\n",
      "2021-11-09 16:13:17,728 INFO sqlalchemy.engine.Engine SELECT \"user\".id AS user_id, \"user\".name AS user_name \n",
      "FROM \"user\" \n",
      "WHERE \"user\".id = %s\n",
      "2021-11-09 16:13:17,729 INFO sqlalchemy.engine.Engine [cached since 1.583s ago] (709112612259201025,)\n",
      "2021-11-09 16:13:17,732 INFO sqlalchemy.engine.Engine SELECT \"user\".id AS user_id, \"user\".name AS user_name \n",
      "FROM \"user\" \n",
      "WHERE \"user\".id = %s\n",
      "2021-11-09 16:13:17,733 INFO sqlalchemy.engine.Engine [cached since 1.587s ago] (709112612272340993,)\n",
      "2021-11-09 16:13:17,740 INFO sqlalchemy.engine.Engine INSERT INTO message (content, user_id) VALUES (%s, %s) RETURNING message.id\n",
      "2021-11-09 16:13:17,741 INFO sqlalchemy.engine.Engine [generated in 0.00116s] ('99 bottles of beer on the wall...', 709112610343288833)\n",
      "2021-11-09 16:13:18,507 INFO sqlalchemy.engine.Engine INSERT INTO message (content, user_id) VALUES (%s, %s) RETURNING message.id\n",
      "2021-11-09 16:13:18,508 INFO sqlalchemy.engine.Engine [cached since 0.7688s ago] ('98 bottles of beer on the wall...', 709112612259201025)\n",
      "2021-11-09 16:13:18,511 INFO sqlalchemy.engine.Engine INSERT INTO message (content, user_id) VALUES (%s, %s) RETURNING message.id\n",
      "2021-11-09 16:13:18,513 INFO sqlalchemy.engine.Engine [cached since 0.7735s ago] ('97 bottles of beer on the wall...', 709112612272340993)\n",
      "2021-11-09 16:13:18,516 INFO sqlalchemy.engine.Engine INSERT INTO message (content, user_id) VALUES (%s, %s) RETURNING message.id\n",
      "2021-11-09 16:13:18,517 INFO sqlalchemy.engine.Engine [cached since 0.7775s ago] ('96 bottles of beer on the wall...', 709112610343288833)\n",
      "2021-11-09 16:13:18,520 INFO sqlalchemy.engine.Engine INSERT INTO message (content, user_id) VALUES (%s, %s) RETURNING message.id\n",
      "2021-11-09 16:13:18,521 INFO sqlalchemy.engine.Engine [cached since 0.7814s ago] ('95 bottles of beer on the wall...', 709112612259201025)\n",
      "2021-11-09 16:13:18,525 INFO sqlalchemy.engine.Engine INSERT INTO message (content, user_id) VALUES (%s, %s) RETURNING message.id\n",
      "2021-11-09 16:13:18,527 INFO sqlalchemy.engine.Engine [cached since 0.7876s ago] ('94 bottles of beer on the wall...', 709112612272340993)\n",
      "2021-11-09 16:13:18,530 INFO sqlalchemy.engine.Engine INSERT INTO message (content, user_id) VALUES (%s, %s) RETURNING message.id\n",
      "2021-11-09 16:13:18,532 INFO sqlalchemy.engine.Engine [cached since 0.7921s ago] ('93 bottles of beer on the wall...', 709112610343288833)\n",
      "2021-11-09 16:13:18,534 INFO sqlalchemy.engine.Engine INSERT INTO message (content, user_id) VALUES (%s, %s) RETURNING message.id\n",
      "2021-11-09 16:13:18,536 INFO sqlalchemy.engine.Engine [cached since 0.7962s ago] ('92 bottles of beer on the wall...', 709112612259201025)\n",
      "2021-11-09 16:13:18,539 INFO sqlalchemy.engine.Engine INSERT INTO message (content, user_id) VALUES (%s, %s) RETURNING message.id\n",
      "2021-11-09 16:13:18,540 INFO sqlalchemy.engine.Engine [cached since 0.8004s ago] ('91 bottles of beer on the wall...', 709112612272340993)\n",
      "2021-11-09 16:13:18,543 INFO sqlalchemy.engine.Engine INSERT INTO message (content, user_id) VALUES (%s, %s) RETURNING message.id\n",
      "2021-11-09 16:13:18,544 INFO sqlalchemy.engine.Engine [cached since 0.805s ago] ('90 bottles of beer on the wall...', 709112610343288833)\n",
      "2021-11-09 16:13:18,548 INFO sqlalchemy.engine.Engine INSERT INTO message (content, user_id) VALUES (%s, %s) RETURNING message.id\n",
      "2021-11-09 16:13:18,550 INFO sqlalchemy.engine.Engine [cached since 0.8101s ago] ('89 bottles of beer on the wall...', 709112612259201025)\n",
      "2021-11-09 16:13:18,553 INFO sqlalchemy.engine.Engine INSERT INTO message (content, user_id) VALUES (%s, %s) RETURNING message.id\n",
      "2021-11-09 16:13:18,555 INFO sqlalchemy.engine.Engine [cached since 0.8151s ago] ('88 bottles of beer on the wall...', 709112612272340993)\n",
      "2021-11-09 16:13:18,558 INFO sqlalchemy.engine.Engine INSERT INTO message (content, user_id) VALUES (%s, %s) RETURNING message.id\n",
      "2021-11-09 16:13:18,559 INFO sqlalchemy.engine.Engine [cached since 0.8198s ago] ('87 bottles of beer on the wall...', 709112610343288833)\n",
      "2021-11-09 16:13:18,563 INFO sqlalchemy.engine.Engine INSERT INTO message (content, user_id) VALUES (%s, %s) RETURNING message.id\n",
      "2021-11-09 16:13:18,564 INFO sqlalchemy.engine.Engine [cached since 0.8244s ago] ('86 bottles of beer on the wall...', 709112612259201025)\n",
      "2021-11-09 16:13:18,567 INFO sqlalchemy.engine.Engine INSERT INTO message (content, user_id) VALUES (%s, %s) RETURNING message.id\n",
      "2021-11-09 16:13:18,569 INFO sqlalchemy.engine.Engine [cached since 0.8293s ago] ('85 bottles of beer on the wall...', 709112612272340993)\n",
      "2021-11-09 16:13:18,572 INFO sqlalchemy.engine.Engine INSERT INTO message (content, user_id) VALUES (%s, %s) RETURNING message.id\n",
      "2021-11-09 16:13:18,573 INFO sqlalchemy.engine.Engine [cached since 0.8336s ago] ('84 bottles of beer on the wall...', 709112610343288833)\n",
      "2021-11-09 16:13:18,576 INFO sqlalchemy.engine.Engine INSERT INTO message (content, user_id) VALUES (%s, %s) RETURNING message.id\n",
      "2021-11-09 16:13:18,577 INFO sqlalchemy.engine.Engine [cached since 0.8378s ago] ('83 bottles of beer on the wall...', 709112612259201025)\n",
      "2021-11-09 16:13:18,580 INFO sqlalchemy.engine.Engine INSERT INTO message (content, user_id) VALUES (%s, %s) RETURNING message.id\n",
      "2021-11-09 16:13:18,581 INFO sqlalchemy.engine.Engine [cached since 0.8417s ago] ('82 bottles of beer on the wall...', 709112612272340993)\n",
      "2021-11-09 16:13:18,584 INFO sqlalchemy.engine.Engine INSERT INTO message (content, user_id) VALUES (%s, %s) RETURNING message.id\n",
      "2021-11-09 16:13:18,586 INFO sqlalchemy.engine.Engine [cached since 0.8463s ago] ('81 bottles of beer on the wall...', 709112610343288833)\n",
      "2021-11-09 16:13:18,589 INFO sqlalchemy.engine.Engine INSERT INTO message (content, user_id) VALUES (%s, %s) RETURNING message.id\n",
      "2021-11-09 16:13:18,590 INFO sqlalchemy.engine.Engine [cached since 0.8502s ago] ('80 bottles of beer on the wall...', 709112612259201025)\n",
      "2021-11-09 16:13:18,593 INFO sqlalchemy.engine.Engine INSERT INTO message (content, user_id) VALUES (%s, %s) RETURNING message.id\n",
      "2021-11-09 16:13:18,595 INFO sqlalchemy.engine.Engine [cached since 0.8555s ago] ('79 bottles of beer on the wall...', 709112612272340993)\n",
      "2021-11-09 16:13:18,598 INFO sqlalchemy.engine.Engine INSERT INTO message (content, user_id) VALUES (%s, %s) RETURNING message.id\n",
      "2021-11-09 16:13:18,599 INFO sqlalchemy.engine.Engine [cached since 0.8599s ago] ('78 bottles of beer on the wall...', 709112610343288833)\n",
      "2021-11-09 16:13:18,602 INFO sqlalchemy.engine.Engine INSERT INTO message (content, user_id) VALUES (%s, %s) RETURNING message.id\n",
      "2021-11-09 16:13:18,604 INFO sqlalchemy.engine.Engine [cached since 0.8641s ago] ('77 bottles of beer on the wall...', 709112612259201025)\n",
      "2021-11-09 16:13:18,608 INFO sqlalchemy.engine.Engine INSERT INTO message (content, user_id) VALUES (%s, %s) RETURNING message.id\n",
      "2021-11-09 16:13:18,609 INFO sqlalchemy.engine.Engine [cached since 0.8694s ago] ('76 bottles of beer on the wall...', 709112612272340993)\n",
      "2021-11-09 16:13:18,612 INFO sqlalchemy.engine.Engine INSERT INTO message (content, user_id) VALUES (%s, %s) RETURNING message.id\n",
      "2021-11-09 16:13:18,614 INFO sqlalchemy.engine.Engine [cached since 0.8741s ago] ('75 bottles of beer on the wall...', 709112610343288833)\n",
      "2021-11-09 16:13:18,617 INFO sqlalchemy.engine.Engine INSERT INTO message (content, user_id) VALUES (%s, %s) RETURNING message.id\n",
      "2021-11-09 16:13:18,617 INFO sqlalchemy.engine.Engine [cached since 0.8781s ago] ('74 bottles of beer on the wall...', 709112612259201025)\n",
      "2021-11-09 16:13:18,620 INFO sqlalchemy.engine.Engine INSERT INTO message (content, user_id) VALUES (%s, %s) RETURNING message.id\n",
      "2021-11-09 16:13:18,622 INFO sqlalchemy.engine.Engine [cached since 0.8822s ago] ('73 bottles of beer on the wall...', 709112612272340993)\n",
      "2021-11-09 16:13:18,625 INFO sqlalchemy.engine.Engine INSERT INTO message (content, user_id) VALUES (%s, %s) RETURNING message.id\n"
     ]
    },
    {
     "name": "stdout",
     "output_type": "stream",
     "text": [
      "2021-11-09 16:13:18,625 INFO sqlalchemy.engine.Engine [cached since 0.886s ago] ('72 bottles of beer on the wall...', 709112610343288833)\n",
      "2021-11-09 16:13:18,629 INFO sqlalchemy.engine.Engine INSERT INTO message (content, user_id) VALUES (%s, %s) RETURNING message.id\n",
      "2021-11-09 16:13:18,630 INFO sqlalchemy.engine.Engine [cached since 0.8904s ago] ('71 bottles of beer on the wall...', 709112612259201025)\n",
      "2021-11-09 16:13:18,633 INFO sqlalchemy.engine.Engine INSERT INTO message (content, user_id) VALUES (%s, %s) RETURNING message.id\n",
      "2021-11-09 16:13:18,634 INFO sqlalchemy.engine.Engine [cached since 0.8945s ago] ('70 bottles of beer on the wall...', 709112612272340993)\n",
      "2021-11-09 16:13:18,637 INFO sqlalchemy.engine.Engine INSERT INTO message (content, user_id) VALUES (%s, %s) RETURNING message.id\n",
      "2021-11-09 16:13:18,638 INFO sqlalchemy.engine.Engine [cached since 0.8982s ago] ('69 bottles of beer on the wall...', 709112610343288833)\n",
      "2021-11-09 16:13:18,642 INFO sqlalchemy.engine.Engine INSERT INTO message (content, user_id) VALUES (%s, %s) RETURNING message.id\n",
      "2021-11-09 16:13:18,644 INFO sqlalchemy.engine.Engine [cached since 0.9041s ago] ('68 bottles of beer on the wall...', 709112612259201025)\n",
      "2021-11-09 16:13:18,647 INFO sqlalchemy.engine.Engine INSERT INTO message (content, user_id) VALUES (%s, %s) RETURNING message.id\n",
      "2021-11-09 16:13:18,649 INFO sqlalchemy.engine.Engine [cached since 0.9094s ago] ('67 bottles of beer on the wall...', 709112612272340993)\n",
      "2021-11-09 16:13:18,652 INFO sqlalchemy.engine.Engine INSERT INTO message (content, user_id) VALUES (%s, %s) RETURNING message.id\n",
      "2021-11-09 16:13:18,653 INFO sqlalchemy.engine.Engine [cached since 0.9139s ago] ('66 bottles of beer on the wall...', 709112610343288833)\n",
      "2021-11-09 16:13:18,656 INFO sqlalchemy.engine.Engine INSERT INTO message (content, user_id) VALUES (%s, %s) RETURNING message.id\n",
      "2021-11-09 16:13:18,657 INFO sqlalchemy.engine.Engine [cached since 0.9179s ago] ('65 bottles of beer on the wall...', 709112612259201025)\n",
      "2021-11-09 16:13:18,660 INFO sqlalchemy.engine.Engine INSERT INTO message (content, user_id) VALUES (%s, %s) RETURNING message.id\n",
      "2021-11-09 16:13:18,662 INFO sqlalchemy.engine.Engine [cached since 0.9226s ago] ('64 bottles of beer on the wall...', 709112612272340993)\n",
      "2021-11-09 16:13:18,666 INFO sqlalchemy.engine.Engine INSERT INTO message (content, user_id) VALUES (%s, %s) RETURNING message.id\n",
      "2021-11-09 16:13:18,667 INFO sqlalchemy.engine.Engine [cached since 0.9277s ago] ('63 bottles of beer on the wall...', 709112610343288833)\n",
      "2021-11-09 16:13:18,671 INFO sqlalchemy.engine.Engine INSERT INTO message (content, user_id) VALUES (%s, %s) RETURNING message.id\n",
      "2021-11-09 16:13:18,672 INFO sqlalchemy.engine.Engine [cached since 0.9328s ago] ('62 bottles of beer on the wall...', 709112612259201025)\n",
      "2021-11-09 16:13:18,676 INFO sqlalchemy.engine.Engine INSERT INTO message (content, user_id) VALUES (%s, %s) RETURNING message.id\n",
      "2021-11-09 16:13:18,678 INFO sqlalchemy.engine.Engine [cached since 0.9382s ago] ('61 bottles of beer on the wall...', 709112612272340993)\n",
      "2021-11-09 16:13:18,681 INFO sqlalchemy.engine.Engine INSERT INTO message (content, user_id) VALUES (%s, %s) RETURNING message.id\n",
      "2021-11-09 16:13:18,682 INFO sqlalchemy.engine.Engine [cached since 0.9427s ago] ('60 bottles of beer on the wall...', 709112610343288833)\n",
      "2021-11-09 16:13:18,686 INFO sqlalchemy.engine.Engine INSERT INTO message (content, user_id) VALUES (%s, %s) RETURNING message.id\n",
      "2021-11-09 16:13:18,687 INFO sqlalchemy.engine.Engine [cached since 0.9471s ago] ('59 bottles of beer on the wall...', 709112612259201025)\n",
      "2021-11-09 16:13:18,690 INFO sqlalchemy.engine.Engine INSERT INTO message (content, user_id) VALUES (%s, %s) RETURNING message.id\n",
      "2021-11-09 16:13:18,691 INFO sqlalchemy.engine.Engine [cached since 0.9516s ago] ('58 bottles of beer on the wall...', 709112612272340993)\n",
      "2021-11-09 16:13:18,695 INFO sqlalchemy.engine.Engine INSERT INTO message (content, user_id) VALUES (%s, %s) RETURNING message.id\n",
      "2021-11-09 16:13:18,696 INFO sqlalchemy.engine.Engine [cached since 0.9567s ago] ('57 bottles of beer on the wall...', 709112610343288833)\n",
      "2021-11-09 16:13:18,699 INFO sqlalchemy.engine.Engine INSERT INTO message (content, user_id) VALUES (%s, %s) RETURNING message.id\n",
      "2021-11-09 16:13:18,700 INFO sqlalchemy.engine.Engine [cached since 0.9607s ago] ('56 bottles of beer on the wall...', 709112612259201025)\n",
      "2021-11-09 16:13:18,703 INFO sqlalchemy.engine.Engine INSERT INTO message (content, user_id) VALUES (%s, %s) RETURNING message.id\n",
      "2021-11-09 16:13:18,704 INFO sqlalchemy.engine.Engine [cached since 0.9649s ago] ('55 bottles of beer on the wall...', 709112612272340993)\n",
      "2021-11-09 16:13:18,708 INFO sqlalchemy.engine.Engine INSERT INTO message (content, user_id) VALUES (%s, %s) RETURNING message.id\n",
      "2021-11-09 16:13:18,709 INFO sqlalchemy.engine.Engine [cached since 0.9692s ago] ('54 bottles of beer on the wall...', 709112610343288833)\n",
      "2021-11-09 16:13:18,712 INFO sqlalchemy.engine.Engine INSERT INTO message (content, user_id) VALUES (%s, %s) RETURNING message.id\n",
      "2021-11-09 16:13:18,713 INFO sqlalchemy.engine.Engine [cached since 0.9737s ago] ('53 bottles of beer on the wall...', 709112612259201025)\n",
      "2021-11-09 16:13:18,717 INFO sqlalchemy.engine.Engine INSERT INTO message (content, user_id) VALUES (%s, %s) RETURNING message.id\n",
      "2021-11-09 16:13:18,718 INFO sqlalchemy.engine.Engine [cached since 0.9789s ago] ('52 bottles of beer on the wall...', 709112612272340993)\n",
      "2021-11-09 16:13:18,722 INFO sqlalchemy.engine.Engine INSERT INTO message (content, user_id) VALUES (%s, %s) RETURNING message.id\n",
      "2021-11-09 16:13:18,723 INFO sqlalchemy.engine.Engine [cached since 0.9835s ago] ('51 bottles of beer on the wall...', 709112610343288833)\n",
      "2021-11-09 16:13:18,727 INFO sqlalchemy.engine.Engine INSERT INTO message (content, user_id) VALUES (%s, %s) RETURNING message.id\n",
      "2021-11-09 16:13:18,728 INFO sqlalchemy.engine.Engine [cached since 0.9889s ago] ('50 bottles of beer on the wall...', 709112612259201025)\n",
      "2021-11-09 16:13:18,732 INFO sqlalchemy.engine.Engine INSERT INTO message (content, user_id) VALUES (%s, %s) RETURNING message.id\n",
      "2021-11-09 16:13:18,733 INFO sqlalchemy.engine.Engine [cached since 0.9934s ago] ('49 bottles of beer on the wall...', 709112612272340993)\n",
      "2021-11-09 16:13:18,736 INFO sqlalchemy.engine.Engine INSERT INTO message (content, user_id) VALUES (%s, %s) RETURNING message.id\n",
      "2021-11-09 16:13:18,737 INFO sqlalchemy.engine.Engine [cached since 0.998s ago] ('48 bottles of beer on the wall...', 709112610343288833)\n",
      "2021-11-09 16:13:18,741 INFO sqlalchemy.engine.Engine INSERT INTO message (content, user_id) VALUES (%s, %s) RETURNING message.id\n",
      "2021-11-09 16:13:18,741 INFO sqlalchemy.engine.Engine [cached since 1.002s ago] ('47 bottles of beer on the wall...', 709112612259201025)\n",
      "2021-11-09 16:13:18,745 INFO sqlalchemy.engine.Engine INSERT INTO message (content, user_id) VALUES (%s, %s) RETURNING message.id\n",
      "2021-11-09 16:13:18,746 INFO sqlalchemy.engine.Engine [cached since 1.007s ago] ('46 bottles of beer on the wall...', 709112612272340993)\n",
      "2021-11-09 16:13:18,749 INFO sqlalchemy.engine.Engine INSERT INTO message (content, user_id) VALUES (%s, %s) RETURNING message.id\n",
      "2021-11-09 16:13:18,751 INFO sqlalchemy.engine.Engine [cached since 1.011s ago] ('45 bottles of beer on the wall...', 709112610343288833)\n",
      "2021-11-09 16:13:18,754 INFO sqlalchemy.engine.Engine INSERT INTO message (content, user_id) VALUES (%s, %s) RETURNING message.id\n",
      "2021-11-09 16:13:18,756 INFO sqlalchemy.engine.Engine [cached since 1.016s ago] ('44 bottles of beer on the wall...', 709112612259201025)\n",
      "2021-11-09 16:13:18,760 INFO sqlalchemy.engine.Engine INSERT INTO message (content, user_id) VALUES (%s, %s) RETURNING message.id\n",
      "2021-11-09 16:13:18,761 INFO sqlalchemy.engine.Engine [cached since 1.021s ago] ('43 bottles of beer on the wall...', 709112612272340993)\n",
      "2021-11-09 16:13:18,764 INFO sqlalchemy.engine.Engine INSERT INTO message (content, user_id) VALUES (%s, %s) RETURNING message.id\n",
      "2021-11-09 16:13:18,766 INFO sqlalchemy.engine.Engine [cached since 1.026s ago] ('42 bottles of beer on the wall...', 709112610343288833)\n"
     ]
    },
    {
     "name": "stdout",
     "output_type": "stream",
     "text": [
      "2021-11-09 16:13:18,769 INFO sqlalchemy.engine.Engine INSERT INTO message (content, user_id) VALUES (%s, %s) RETURNING message.id\n",
      "2021-11-09 16:13:18,770 INFO sqlalchemy.engine.Engine [cached since 1.031s ago] ('41 bottles of beer on the wall...', 709112612259201025)\n",
      "2021-11-09 16:13:18,775 INFO sqlalchemy.engine.Engine INSERT INTO message (content, user_id) VALUES (%s, %s) RETURNING message.id\n",
      "2021-11-09 16:13:18,776 INFO sqlalchemy.engine.Engine [cached since 1.036s ago] ('40 bottles of beer on the wall...', 709112612272340993)\n",
      "2021-11-09 16:13:18,779 INFO sqlalchemy.engine.Engine INSERT INTO message (content, user_id) VALUES (%s, %s) RETURNING message.id\n",
      "2021-11-09 16:13:18,780 INFO sqlalchemy.engine.Engine [cached since 1.041s ago] ('39 bottles of beer on the wall...', 709112610343288833)\n",
      "2021-11-09 16:13:18,783 INFO sqlalchemy.engine.Engine INSERT INTO message (content, user_id) VALUES (%s, %s) RETURNING message.id\n",
      "2021-11-09 16:13:18,784 INFO sqlalchemy.engine.Engine [cached since 1.045s ago] ('38 bottles of beer on the wall...', 709112612259201025)\n",
      "2021-11-09 16:13:18,788 INFO sqlalchemy.engine.Engine INSERT INTO message (content, user_id) VALUES (%s, %s) RETURNING message.id\n",
      "2021-11-09 16:13:18,789 INFO sqlalchemy.engine.Engine [cached since 1.049s ago] ('37 bottles of beer on the wall...', 709112612272340993)\n",
      "2021-11-09 16:13:18,792 INFO sqlalchemy.engine.Engine INSERT INTO message (content, user_id) VALUES (%s, %s) RETURNING message.id\n",
      "2021-11-09 16:13:18,793 INFO sqlalchemy.engine.Engine [cached since 1.054s ago] ('36 bottles of beer on the wall...', 709112610343288833)\n",
      "2021-11-09 16:13:18,797 INFO sqlalchemy.engine.Engine INSERT INTO message (content, user_id) VALUES (%s, %s) RETURNING message.id\n",
      "2021-11-09 16:13:18,798 INFO sqlalchemy.engine.Engine [cached since 1.058s ago] ('35 bottles of beer on the wall...', 709112612259201025)\n",
      "2021-11-09 16:13:18,801 INFO sqlalchemy.engine.Engine INSERT INTO message (content, user_id) VALUES (%s, %s) RETURNING message.id\n",
      "2021-11-09 16:13:18,802 INFO sqlalchemy.engine.Engine [cached since 1.063s ago] ('34 bottles of beer on the wall...', 709112612272340993)\n",
      "2021-11-09 16:13:18,805 INFO sqlalchemy.engine.Engine INSERT INTO message (content, user_id) VALUES (%s, %s) RETURNING message.id\n",
      "2021-11-09 16:13:18,807 INFO sqlalchemy.engine.Engine [cached since 1.067s ago] ('33 bottles of beer on the wall...', 709112610343288833)\n",
      "2021-11-09 16:13:18,810 INFO sqlalchemy.engine.Engine INSERT INTO message (content, user_id) VALUES (%s, %s) RETURNING message.id\n",
      "2021-11-09 16:13:18,811 INFO sqlalchemy.engine.Engine [cached since 1.071s ago] ('32 bottles of beer on the wall...', 709112612259201025)\n",
      "2021-11-09 16:13:18,813 INFO sqlalchemy.engine.Engine INSERT INTO message (content, user_id) VALUES (%s, %s) RETURNING message.id\n",
      "2021-11-09 16:13:18,815 INFO sqlalchemy.engine.Engine [cached since 1.075s ago] ('31 bottles of beer on the wall...', 709112612272340993)\n",
      "2021-11-09 16:13:18,817 INFO sqlalchemy.engine.Engine INSERT INTO message (content, user_id) VALUES (%s, %s) RETURNING message.id\n",
      "2021-11-09 16:13:18,818 INFO sqlalchemy.engine.Engine [cached since 1.079s ago] ('30 bottles of beer on the wall...', 709112610343288833)\n",
      "2021-11-09 16:13:18,821 INFO sqlalchemy.engine.Engine INSERT INTO message (content, user_id) VALUES (%s, %s) RETURNING message.id\n",
      "2021-11-09 16:13:18,822 INFO sqlalchemy.engine.Engine [cached since 1.083s ago] ('29 bottles of beer on the wall...', 709112612259201025)\n",
      "2021-11-09 16:13:18,825 INFO sqlalchemy.engine.Engine INSERT INTO message (content, user_id) VALUES (%s, %s) RETURNING message.id\n",
      "2021-11-09 16:13:18,826 INFO sqlalchemy.engine.Engine [cached since 1.087s ago] ('28 bottles of beer on the wall...', 709112612272340993)\n",
      "2021-11-09 16:13:18,829 INFO sqlalchemy.engine.Engine INSERT INTO message (content, user_id) VALUES (%s, %s) RETURNING message.id\n",
      "2021-11-09 16:13:18,830 INFO sqlalchemy.engine.Engine [cached since 1.09s ago] ('27 bottles of beer on the wall...', 709112610343288833)\n",
      "2021-11-09 16:13:18,832 INFO sqlalchemy.engine.Engine INSERT INTO message (content, user_id) VALUES (%s, %s) RETURNING message.id\n",
      "2021-11-09 16:13:18,833 INFO sqlalchemy.engine.Engine [cached since 1.094s ago] ('26 bottles of beer on the wall...', 709112612259201025)\n",
      "2021-11-09 16:13:18,835 INFO sqlalchemy.engine.Engine INSERT INTO message (content, user_id) VALUES (%s, %s) RETURNING message.id\n",
      "2021-11-09 16:13:18,836 INFO sqlalchemy.engine.Engine [cached since 1.097s ago] ('25 bottles of beer on the wall...', 709112612272340993)\n",
      "2021-11-09 16:13:18,839 INFO sqlalchemy.engine.Engine INSERT INTO message (content, user_id) VALUES (%s, %s) RETURNING message.id\n",
      "2021-11-09 16:13:18,840 INFO sqlalchemy.engine.Engine [cached since 1.101s ago] ('24 bottles of beer on the wall...', 709112610343288833)\n",
      "2021-11-09 16:13:18,844 INFO sqlalchemy.engine.Engine INSERT INTO message (content, user_id) VALUES (%s, %s) RETURNING message.id\n",
      "2021-11-09 16:13:18,845 INFO sqlalchemy.engine.Engine [cached since 1.106s ago] ('23 bottles of beer on the wall...', 709112612259201025)\n",
      "2021-11-09 16:13:18,848 INFO sqlalchemy.engine.Engine INSERT INTO message (content, user_id) VALUES (%s, %s) RETURNING message.id\n",
      "2021-11-09 16:13:18,849 INFO sqlalchemy.engine.Engine [cached since 1.11s ago] ('22 bottles of beer on the wall...', 709112612272340993)\n",
      "2021-11-09 16:13:18,852 INFO sqlalchemy.engine.Engine INSERT INTO message (content, user_id) VALUES (%s, %s) RETURNING message.id\n",
      "2021-11-09 16:13:18,853 INFO sqlalchemy.engine.Engine [cached since 1.114s ago] ('21 bottles of beer on the wall...', 709112610343288833)\n",
      "2021-11-09 16:13:18,857 INFO sqlalchemy.engine.Engine INSERT INTO message (content, user_id) VALUES (%s, %s) RETURNING message.id\n",
      "2021-11-09 16:13:18,858 INFO sqlalchemy.engine.Engine [cached since 1.119s ago] ('20 bottles of beer on the wall...', 709112612259201025)\n",
      "2021-11-09 16:13:18,861 INFO sqlalchemy.engine.Engine INSERT INTO message (content, user_id) VALUES (%s, %s) RETURNING message.id\n",
      "2021-11-09 16:13:18,863 INFO sqlalchemy.engine.Engine [cached since 1.123s ago] ('19 bottles of beer on the wall...', 709112612272340993)\n",
      "2021-11-09 16:13:18,866 INFO sqlalchemy.engine.Engine INSERT INTO message (content, user_id) VALUES (%s, %s) RETURNING message.id\n",
      "2021-11-09 16:13:18,867 INFO sqlalchemy.engine.Engine [cached since 1.128s ago] ('18 bottles of beer on the wall...', 709112610343288833)\n",
      "2021-11-09 16:13:18,871 INFO sqlalchemy.engine.Engine INSERT INTO message (content, user_id) VALUES (%s, %s) RETURNING message.id\n",
      "2021-11-09 16:13:18,872 INFO sqlalchemy.engine.Engine [cached since 1.132s ago] ('17 bottles of beer on the wall...', 709112612259201025)\n",
      "2021-11-09 16:13:18,875 INFO sqlalchemy.engine.Engine INSERT INTO message (content, user_id) VALUES (%s, %s) RETURNING message.id\n",
      "2021-11-09 16:13:18,876 INFO sqlalchemy.engine.Engine [cached since 1.137s ago] ('16 bottles of beer on the wall...', 709112612272340993)\n",
      "2021-11-09 16:13:18,879 INFO sqlalchemy.engine.Engine INSERT INTO message (content, user_id) VALUES (%s, %s) RETURNING message.id\n",
      "2021-11-09 16:13:18,881 INFO sqlalchemy.engine.Engine [cached since 1.141s ago] ('15 bottles of beer on the wall...', 709112610343288833)\n",
      "2021-11-09 16:13:18,884 INFO sqlalchemy.engine.Engine INSERT INTO message (content, user_id) VALUES (%s, %s) RETURNING message.id\n",
      "2021-11-09 16:13:18,885 INFO sqlalchemy.engine.Engine [cached since 1.145s ago] ('14 bottles of beer on the wall...', 709112612259201025)\n",
      "2021-11-09 16:13:18,888 INFO sqlalchemy.engine.Engine INSERT INTO message (content, user_id) VALUES (%s, %s) RETURNING message.id\n",
      "2021-11-09 16:13:18,889 INFO sqlalchemy.engine.Engine [cached since 1.149s ago] ('13 bottles of beer on the wall...', 709112612272340993)\n",
      "2021-11-09 16:13:18,891 INFO sqlalchemy.engine.Engine INSERT INTO message (content, user_id) VALUES (%s, %s) RETURNING message.id\n",
      "2021-11-09 16:13:18,892 INFO sqlalchemy.engine.Engine [cached since 1.153s ago] ('12 bottles of beer on the wall...', 709112610343288833)\n",
      "2021-11-09 16:13:18,896 INFO sqlalchemy.engine.Engine INSERT INTO message (content, user_id) VALUES (%s, %s) RETURNING message.id\n",
      "2021-11-09 16:13:18,897 INFO sqlalchemy.engine.Engine [cached since 1.157s ago] ('11 bottles of beer on the wall...', 709112612259201025)\n"
     ]
    },
    {
     "name": "stdout",
     "output_type": "stream",
     "text": [
      "2021-11-09 16:13:18,899 INFO sqlalchemy.engine.Engine INSERT INTO message (content, user_id) VALUES (%s, %s) RETURNING message.id\n",
      "2021-11-09 16:13:18,901 INFO sqlalchemy.engine.Engine [cached since 1.161s ago] ('10 bottles of beer on the wall...', 709112612272340993)\n",
      "2021-11-09 16:13:18,904 INFO sqlalchemy.engine.Engine INSERT INTO message (content, user_id) VALUES (%s, %s) RETURNING message.id\n",
      "2021-11-09 16:13:18,905 INFO sqlalchemy.engine.Engine [cached since 1.165s ago] ('9 bottles of beer on the wall...', 709112610343288833)\n",
      "2021-11-09 16:13:18,907 INFO sqlalchemy.engine.Engine INSERT INTO message (content, user_id) VALUES (%s, %s) RETURNING message.id\n",
      "2021-11-09 16:13:18,908 INFO sqlalchemy.engine.Engine [cached since 1.169s ago] ('8 bottles of beer on the wall...', 709112612259201025)\n",
      "2021-11-09 16:13:18,911 INFO sqlalchemy.engine.Engine INSERT INTO message (content, user_id) VALUES (%s, %s) RETURNING message.id\n",
      "2021-11-09 16:13:18,912 INFO sqlalchemy.engine.Engine [cached since 1.173s ago] ('7 bottles of beer on the wall...', 709112612272340993)\n",
      "2021-11-09 16:13:18,915 INFO sqlalchemy.engine.Engine INSERT INTO message (content, user_id) VALUES (%s, %s) RETURNING message.id\n",
      "2021-11-09 16:13:18,916 INFO sqlalchemy.engine.Engine [cached since 1.176s ago] ('6 bottles of beer on the wall...', 709112610343288833)\n",
      "2021-11-09 16:13:18,919 INFO sqlalchemy.engine.Engine INSERT INTO message (content, user_id) VALUES (%s, %s) RETURNING message.id\n",
      "2021-11-09 16:13:18,920 INFO sqlalchemy.engine.Engine [cached since 1.181s ago] ('5 bottles of beer on the wall...', 709112612259201025)\n",
      "2021-11-09 16:13:18,923 INFO sqlalchemy.engine.Engine INSERT INTO message (content, user_id) VALUES (%s, %s) RETURNING message.id\n",
      "2021-11-09 16:13:18,924 INFO sqlalchemy.engine.Engine [cached since 1.185s ago] ('4 bottles of beer on the wall...', 709112612272340993)\n",
      "2021-11-09 16:13:18,927 INFO sqlalchemy.engine.Engine INSERT INTO message (content, user_id) VALUES (%s, %s) RETURNING message.id\n",
      "2021-11-09 16:13:18,928 INFO sqlalchemy.engine.Engine [cached since 1.189s ago] ('3 bottles of beer on the wall...', 709112610343288833)\n",
      "2021-11-09 16:13:18,931 INFO sqlalchemy.engine.Engine INSERT INTO message (content, user_id) VALUES (%s, %s) RETURNING message.id\n",
      "2021-11-09 16:13:18,932 INFO sqlalchemy.engine.Engine [cached since 1.193s ago] ('2 bottles of beer on the wall...', 709112612259201025)\n",
      "2021-11-09 16:13:18,935 INFO sqlalchemy.engine.Engine INSERT INTO message (content, user_id) VALUES (%s, %s) RETURNING message.id\n",
      "2021-11-09 16:13:18,936 INFO sqlalchemy.engine.Engine [cached since 1.196s ago] ('1 bottles of beer on the wall...', 709112612272340993)\n",
      "2021-11-09 16:13:18,939 INFO sqlalchemy.engine.Engine INSERT INTO message (content, user_id) VALUES (%s, %s) RETURNING message.id\n",
      "2021-11-09 16:13:18,940 INFO sqlalchemy.engine.Engine [cached since 1.201s ago] ('0 bottles of beer on the wall...', 709112610343288833)\n",
      "2021-11-09 16:13:18,945 INFO sqlalchemy.engine.Engine COMMIT\n"
     ]
    },
    {
     "data": {
      "application/javascript": [
       "\n",
       "            setTimeout(function() {\n",
       "                var nbb_cell_id = 11;\n",
       "                var nbb_unformatted_code = \"import itertools\\n\\ncycle = itertools.cycle(users)\\nmessages = []\\n\\nfor i in reversed(range(100)):\\n    content = f\\\"{i} bottles of beer on the wall...\\\"\\n    user = next(cycle)\\n    message = Message(user=user, content=content)\\n    messages.append(message)\\n\\nasync with async_session() as session:\\n    session.add_all(messages)\\n    await session.commit()\";\n",
       "                var nbb_formatted_code = \"import itertools\\n\\ncycle = itertools.cycle(users)\\nmessages = []\\n\\nfor i in reversed(range(100)):\\n    content = f\\\"{i} bottles of beer on the wall...\\\"\\n    user = next(cycle)\\n    message = Message(user=user, content=content)\\n    messages.append(message)\\n\\nasync with async_session() as session:\\n    session.add_all(messages)\\n    await session.commit()\";\n",
       "                var nbb_cells = Jupyter.notebook.get_cells();\n",
       "                for (var i = 0; i < nbb_cells.length; ++i) {\n",
       "                    if (nbb_cells[i].input_prompt_number == nbb_cell_id) {\n",
       "                        if (nbb_cells[i].get_text() == nbb_unformatted_code) {\n",
       "                             nbb_cells[i].set_text(nbb_formatted_code);\n",
       "                        }\n",
       "                        break;\n",
       "                    }\n",
       "                }\n",
       "            }, 500);\n",
       "            "
      ],
      "text/plain": [
       "<IPython.core.display.Javascript object>"
      ]
     },
     "metadata": {},
     "output_type": "display_data"
    }
   ],
   "source": [
    "import itertools\n",
    "\n",
    "cycle = itertools.cycle(users)\n",
    "messages = []\n",
    "\n",
    "for i in reversed(range(100)):\n",
    "    content = f\"{i} bottles of beer on the wall...\"\n",
    "    user = next(cycle)\n",
    "    message = Message(user=user, content=content)\n",
    "    messages.append(message)\n",
    "\n",
    "async with async_session() as session:\n",
    "    session.add_all(messages)\n",
    "    await session.commit()"
   ]
  },
  {
   "cell_type": "markdown",
   "id": "358ff1c7",
   "metadata": {},
   "source": [
    "### Query for data"
   ]
  },
  {
   "cell_type": "markdown",
   "id": "47626310",
   "metadata": {},
   "source": [
    "#### Count queries"
   ]
  },
  {
   "cell_type": "code",
   "execution_count": 12,
   "id": "a20a6972",
   "metadata": {
    "ExecuteTime": {
     "end_time": "2021-11-09T16:13:19.549139Z",
     "start_time": "2021-11-09T16:13:19.521671Z"
    }
   },
   "outputs": [
    {
     "name": "stdout",
     "output_type": "stream",
     "text": [
      "2021-11-09 16:13:19,524 INFO sqlalchemy.engine.Engine BEGIN (implicit)\n",
      "2021-11-09 16:13:19,527 INFO sqlalchemy.engine.Engine SELECT count(\"user\".id) AS count_1 \n",
      "FROM \"user\"\n",
      "2021-11-09 16:13:19,528 INFO sqlalchemy.engine.Engine [generated in 0.00143s] ()\n",
      "2021-11-09 16:13:19,535 INFO sqlalchemy.engine.Engine ROLLBACK\n"
     ]
    },
    {
     "data": {
      "text/plain": [
       "3"
      ]
     },
     "execution_count": 12,
     "metadata": {},
     "output_type": "execute_result"
    },
    {
     "data": {
      "application/javascript": [
       "\n",
       "            setTimeout(function() {\n",
       "                var nbb_cell_id = 12;\n",
       "                var nbb_unformatted_code = \"async with async_session() as session:\\n    # alternatively:\\n    # statement = sa.select(sa.func.count()).select_from(User)\\n    statement = sa.select(sa.func.count(User.id))\\n    results = await session.scalar(statement)\\n\\n\\nresults\";\n",
       "                var nbb_formatted_code = \"async with async_session() as session:\\n    # alternatively:\\n    # statement = sa.select(sa.func.count()).select_from(User)\\n    statement = sa.select(sa.func.count(User.id))\\n    results = await session.scalar(statement)\\n\\n\\nresults\";\n",
       "                var nbb_cells = Jupyter.notebook.get_cells();\n",
       "                for (var i = 0; i < nbb_cells.length; ++i) {\n",
       "                    if (nbb_cells[i].input_prompt_number == nbb_cell_id) {\n",
       "                        if (nbb_cells[i].get_text() == nbb_unformatted_code) {\n",
       "                             nbb_cells[i].set_text(nbb_formatted_code);\n",
       "                        }\n",
       "                        break;\n",
       "                    }\n",
       "                }\n",
       "            }, 500);\n",
       "            "
      ],
      "text/plain": [
       "<IPython.core.display.Javascript object>"
      ]
     },
     "metadata": {},
     "output_type": "display_data"
    }
   ],
   "source": [
    "async with async_session() as session:\n",
    "    # alternatively:\n",
    "    # statement = sa.select(sa.func.count()).select_from(User)\n",
    "    statement = sa.select(sa.func.count(User.id))\n",
    "    results = await session.scalar(statement)\n",
    "\n",
    "\n",
    "results"
   ]
  },
  {
   "cell_type": "code",
   "execution_count": 13,
   "id": "1ee5fc5a",
   "metadata": {
    "ExecuteTime": {
     "end_time": "2021-11-09T16:13:20.374412Z",
     "start_time": "2021-11-09T16:13:19.552029Z"
    }
   },
   "outputs": [
    {
     "name": "stdout",
     "output_type": "stream",
     "text": [
      "2021-11-09 16:13:20,301 INFO sqlalchemy.engine.Engine BEGIN (implicit)\n",
      "2021-11-09 16:13:20,304 INFO sqlalchemy.engine.Engine SELECT count(message.id) AS count_1 \n",
      "FROM message\n",
      "2021-11-09 16:13:20,305 INFO sqlalchemy.engine.Engine [generated in 0.00114s] ()\n",
      "2021-11-09 16:13:20,361 INFO sqlalchemy.engine.Engine ROLLBACK\n"
     ]
    },
    {
     "data": {
      "text/plain": [
       "100"
      ]
     },
     "execution_count": 13,
     "metadata": {},
     "output_type": "execute_result"
    },
    {
     "data": {
      "application/javascript": [
       "\n",
       "            setTimeout(function() {\n",
       "                var nbb_cell_id = 13;\n",
       "                var nbb_unformatted_code = \"async with async_session() as session:\\n    statement = sa.select(sa.func.count(Message.id))\\n    results = await session.scalar(statement)\\n\\nresults\";\n",
       "                var nbb_formatted_code = \"async with async_session() as session:\\n    statement = sa.select(sa.func.count(Message.id))\\n    results = await session.scalar(statement)\\n\\nresults\";\n",
       "                var nbb_cells = Jupyter.notebook.get_cells();\n",
       "                for (var i = 0; i < nbb_cells.length; ++i) {\n",
       "                    if (nbb_cells[i].input_prompt_number == nbb_cell_id) {\n",
       "                        if (nbb_cells[i].get_text() == nbb_unformatted_code) {\n",
       "                             nbb_cells[i].set_text(nbb_formatted_code);\n",
       "                        }\n",
       "                        break;\n",
       "                    }\n",
       "                }\n",
       "            }, 500);\n",
       "            "
      ],
      "text/plain": [
       "<IPython.core.display.Javascript object>"
      ]
     },
     "metadata": {},
     "output_type": "display_data"
    }
   ],
   "source": [
    "async with async_session() as session:\n",
    "    statement = sa.select(sa.func.count(Message.id))\n",
    "    results = await session.scalar(statement)\n",
    "\n",
    "results"
   ]
  },
  {
   "cell_type": "markdown",
   "id": "9d8dc959",
   "metadata": {},
   "source": [
    "#### Query for user with messages"
   ]
  },
  {
   "cell_type": "code",
   "execution_count": 14,
   "id": "d63df651",
   "metadata": {
    "ExecuteTime": {
     "end_time": "2021-11-09T16:13:21.295767Z",
     "start_time": "2021-11-09T16:13:20.377599Z"
    }
   },
   "outputs": [
    {
     "name": "stdout",
     "output_type": "stream",
     "text": [
      "2021-11-09 16:13:21,274 INFO sqlalchemy.engine.Engine BEGIN (implicit)\n",
      "2021-11-09 16:13:21,278 INFO sqlalchemy.engine.Engine SELECT \"user\".id, \"user\".name, message_1.id AS id_1, message_1.content, message_1.user_id \n",
      "FROM \"user\" LEFT OUTER JOIN message AS message_1 ON \"user\".id = message_1.user_id\n",
      "2021-11-09 16:13:21,278 INFO sqlalchemy.engine.Engine [generated in 0.00070s] ()\n",
      "2021-11-09 16:13:21,285 INFO sqlalchemy.engine.Engine ROLLBACK\n"
     ]
    },
    {
     "data": {
      "text/plain": [
       "<sqlalchemy.engine.result.ChunkedIteratorResult at 0x7fbd00f3d520>"
      ]
     },
     "execution_count": 14,
     "metadata": {},
     "output_type": "execute_result"
    },
    {
     "data": {
      "application/javascript": [
       "\n",
       "            setTimeout(function() {\n",
       "                var nbb_cell_id = 14;\n",
       "                var nbb_unformatted_code = \"async with async_session() as session:\\n    statement = sa.select(User).options(sa.orm.joinedload(User.messages))\\n    results = await session.execute(statement)\\n\\nresults\";\n",
       "                var nbb_formatted_code = \"async with async_session() as session:\\n    statement = sa.select(User).options(sa.orm.joinedload(User.messages))\\n    results = await session.execute(statement)\\n\\nresults\";\n",
       "                var nbb_cells = Jupyter.notebook.get_cells();\n",
       "                for (var i = 0; i < nbb_cells.length; ++i) {\n",
       "                    if (nbb_cells[i].input_prompt_number == nbb_cell_id) {\n",
       "                        if (nbb_cells[i].get_text() == nbb_unformatted_code) {\n",
       "                             nbb_cells[i].set_text(nbb_formatted_code);\n",
       "                        }\n",
       "                        break;\n",
       "                    }\n",
       "                }\n",
       "            }, 500);\n",
       "            "
      ],
      "text/plain": [
       "<IPython.core.display.Javascript object>"
      ]
     },
     "metadata": {},
     "output_type": "display_data"
    }
   ],
   "source": [
    "async with async_session() as session:\n",
    "    statement = sa.select(User).options(sa.orm.joinedload(User.messages))\n",
    "    results = await session.execute(statement)\n",
    "\n",
    "results"
   ]
  },
  {
   "cell_type": "code",
   "execution_count": 15,
   "id": "a3aad0bc",
   "metadata": {
    "ExecuteTime": {
     "end_time": "2021-11-09T16:13:22.359178Z",
     "start_time": "2021-11-09T16:13:21.298201Z"
    }
   },
   "outputs": [
    {
     "data": {
      "text/plain": [
       "[User(id=709112610343288833, name='Nick', messages=[Message(id=709112622307409921, user_id=709112610343288833, content='99 bottles of beer on the wall...'), Message(id=709112623735341057, user_id=709112610343288833, content='0 bottles of beer on the wall...'), Message(id=709112623694741505, user_id=709112610343288833, content='3 bottles of beer on the wall...'), Message(id=709112623654862849, user_id=709112610343288833, content='6 bottles of beer on the wall...'), Message(id=709112623617540097, user_id=709112610343288833, content='9 bottles of beer on the wall...'), Message(id=709112623577661441, user_id=709112610343288833, content='12 bottles of beer on the wall...'), Message(id=709112623538569217, user_id=709112610343288833, content='15 bottles of beer on the wall...'), Message(id=709112623495708673, user_id=709112610343288833, content='18 bottles of beer on the wall...'), Message(id=709112623452422145, user_id=709112610343288833, content='21 bottles of beer on the wall...'), Message(id=709112623408807937, user_id=709112610343288833, content='24 bottles of beer on the wall...'), Message(id=709112623371878401, user_id=709112610343288833, content='27 bottles of beer on the wall...'), Message(id=709112623334293505, user_id=709112610343288833, content='30 bottles of beer on the wall...'), Message(id=709112623296610305, user_id=709112610343288833, content='33 bottles of beer on the wall...'), Message(id=709112623254634497, user_id=709112610343288833, content='36 bottles of beer on the wall...'), Message(id=709112623209349121, user_id=709112610343288833, content='39 bottles of beer on the wall...'), Message(id=709112623164162049, user_id=709112610343288833, content='42 bottles of beer on the wall...'), Message(id=709112623113961473, user_id=709112610343288833, content='45 bottles of beer on the wall...'), Message(id=709112623070412801, user_id=709112610343288833, content='48 bottles of beer on the wall...'), Message(id=709112623022538753, user_id=709112610343288833, content='51 bottles of beer on the wall...'), Message(id=709112622975582209, user_id=709112610343288833, content='54 bottles of beer on the wall...'), Message(id=709112622934753281, user_id=709112610343288833, content='57 bottles of beer on the wall...'), Message(id=709112622889566209, user_id=709112610343288833, content='60 bottles of beer on the wall...'), Message(id=709112622841167873, user_id=709112610343288833, content='63 bottles of beer on the wall...'), Message(id=709112622794866689, user_id=709112610343288833, content='66 bottles of beer on the wall...'), Message(id=709112622748106753, user_id=709112610343288833, content='69 bottles of beer on the wall...'), Message(id=709112622703968257, user_id=709112610343288833, content='72 bottles of beer on the wall...'), Message(id=709112622665138177, user_id=709112610343288833, content='75 bottles of beer on the wall...'), Message(id=709112622617591809, user_id=709112610343288833, content='78 bottles of beer on the wall...'), Message(id=709112622573223937, user_id=709112610343288833, content='81 bottles of beer on the wall...'), Message(id=709112622531379201, user_id=709112610343288833, content='84 bottles of beer on the wall...'), Message(id=709112622487568385, user_id=709112610343288833, content='87 bottles of beer on the wall...'), Message(id=709112622439596033, user_id=709112610343288833, content='90 bottles of beer on the wall...'), Message(id=709112622395228161, user_id=709112610343288833, content='93 bottles of beer on the wall...'), Message(id=709112622347354113, user_id=709112610343288833, content='96 bottles of beer on the wall...')]),\n",
       " User(id=709112612259201025, name='Eli', messages=[Message(id=709112622318911489, user_id=709112612259201025, content='98 bottles of beer on the wall...'), Message(id=709112623707095041, user_id=709112612259201025, content='2 bottles of beer on the wall...'), Message(id=709112623669313537, user_id=709112612259201025, content='5 bottles of beer on the wall...'), Message(id=709112623628976129, user_id=709112612259201025, content='8 bottles of beer on the wall...'), Message(id=709112623591063553, user_id=709112612259201025, content='11 bottles of beer on the wall...'), Message(id=709112623551938561, user_id=709112612259201025, content='14 bottles of beer on the wall...'), Message(id=709112623509078017, user_id=709112612259201025, content='17 bottles of beer on the wall...'), Message(id=709112623466545153, user_id=709112612259201025, content='20 bottles of beer on the wall...'), Message(id=709112623423586305, user_id=709112612259201025, content='23 bottles of beer on the wall...'), Message(id=709112623382167553, user_id=709112612259201025, content='26 bottles of beer on the wall...'), Message(id=709112623348482049, user_id=709112612259201025, content='29 bottles of beer on the wall...'), Message(id=709112623309422593, user_id=709112612259201025, content='32 bottles of beer on the wall...'), Message(id=709112623268593665, user_id=709112612259201025, content='35 bottles of beer on the wall...'), Message(id=709112623223963649, user_id=709112612259201025, content='38 bottles of beer on the wall...'), Message(id=709112623181004801, user_id=709112612259201025, content='41 bottles of beer on the wall...'), Message(id=709112623132147713, user_id=709112612259201025, content='44 bottles of beer on the wall...'), Message(id=709112623082930177, user_id=709112612259201025, content='47 bottles of beer on the wall...'), Message(id=709112623041216513, user_id=709112612259201025, content='50 bottles of beer on the wall...'), Message(id=709112622991933441, user_id=709112612259201025, content='53 bottles of beer on the wall...'), Message(id=709112622948515841, user_id=709112612259201025, content='56 bottles of beer on the wall...'), Message(id=709112622904541185, user_id=709112612259201025, content='59 bottles of beer on the wall...'), Message(id=709112622858076161, user_id=709112612259201025, content='62 bottles of beer on the wall...'), Message(id=709112622807449601, user_id=709112612259201025, content='65 bottles of beer on the wall...'), Message(id=709112622763671553, user_id=709112612259201025, content='68 bottles of beer on the wall...'), Message(id=709112622718713857, user_id=709112612259201025, content='71 bottles of beer on the wall...'), Message(id=709112622677131265, user_id=709112612259201025, content='74 bottles of beer on the wall...'), Message(id=709112622634434561, user_id=709112612259201025, content='77 bottles of beer on the wall...'), Message(id=709112622586396673, user_id=709112612259201025, content='80 bottles of beer on the wall...'), Message(id=709112622545076225, user_id=709112612259201025, content='83 bottles of beer on the wall...'), Message(id=709112622501462017, user_id=709112612259201025, content='86 bottles of beer on the wall...'), Message(id=709112622455554049, user_id=709112612259201025, content='89 bottles of beer on the wall...'), Message(id=709112622409220097, user_id=709112612259201025, content='92 bottles of beer on the wall...'), Message(id=709112622362787841, user_id=709112612259201025, content='95 bottles of beer on the wall...')]),\n",
       " User(id=709112612272340993, name='Paul', messages=[Message(id=709112622334410753, user_id=709112612272340993, content='97 bottles of beer on the wall...'), Message(id=709112623719907329, user_id=709112612272340993, content='1 bottles of beer on the wall...'), Message(id=709112623681470465, user_id=709112612272340993, content='4 bottles of beer on the wall...'), Message(id=709112623642673153, user_id=709112612272340993, content='7 bottles of beer on the wall...'), Message(id=709112623604432897, user_id=709112612272340993, content='10 bottles of beer on the wall...'), Message(id=709112623564816385, user_id=709112612272340993, content='13 bottles of beer on the wall...'), Message(id=709112623525003265, user_id=709112612272340993, content='16 bottles of beer on the wall...'), Message(id=709112623480668161, user_id=709112612272340993, content='19 bottles of beer on the wall...'), Message(id=709112623436431361, user_id=709112612272340993, content='22 bottles of beer on the wall...'), Message(id=709112623392096257, user_id=709112612272340993, content='25 bottles of beer on the wall...'), Message(id=709112623361327105, user_id=709112612272340993, content='28 bottles of beer on the wall...'), Message(id=709112623322202113, user_id=709112612272340993, content='31 bottles of beer on the wall...'), Message(id=709112623282290689, user_id=709112612272340993, content='34 bottles of beer on the wall...'), Message(id=709112623238348801, user_id=709112612272340993, content='37 bottles of beer on the wall...'), Message(id=709112623196471297, user_id=709112612272340993, content='40 bottles of beer on the wall...'), Message(id=709112623147352065, user_id=709112612272340993, content='43 bottles of beer on the wall...'), Message(id=709112623098036225, user_id=709112612272340993, content='46 bottles of beer on the wall...'), Message(id=709112623055339521, user_id=709112612272340993, content='49 bottles of beer on the wall...'), Message(id=709112623008186369, user_id=709112612272340993, content='52 bottles of beer on the wall...'), Message(id=709112622962769921, user_id=709112612272340993, content='55 bottles of beer on the wall...'), Message(id=709112622919090177, user_id=709112612272340993, content='58 bottles of beer on the wall...'), Message(id=709112622875508737, user_id=709112612272340993, content='61 bottles of beer on the wall...'), Message(id=709112622824226817, user_id=709112612272340993, content='64 bottles of beer on the wall...'), Message(id=709112622780055553, user_id=709112612272340993, content='67 bottles of beer on the wall...'), Message(id=709112622730444801, user_id=709112612272340993, content='70 bottles of beer on the wall...'), Message(id=709112622690893825, user_id=709112612272340993, content='73 bottles of beer on the wall...'), Message(id=709112622649212929, user_id=709112612272340993, content='76 bottles of beer on the wall...'), Message(id=709112622603862017, user_id=709112612272340993, content='79 bottles of beer on the wall...'), Message(id=709112622558183425, user_id=709112612272340993, content='82 bottles of beer on the wall...'), Message(id=709112622517092353, user_id=709112612272340993, content='85 bottles of beer on the wall...'), Message(id=709112622471086081, user_id=709112612272340993, content='88 bottles of beer on the wall...'), Message(id=709112622423113729, user_id=709112612272340993, content='91 bottles of beer on the wall...'), Message(id=709112622381170689, user_id=709112612272340993, content='94 bottles of beer on the wall...')])]"
      ]
     },
     "execution_count": 15,
     "metadata": {},
     "output_type": "execute_result"
    },
    {
     "data": {
      "application/javascript": [
       "\n",
       "            setTimeout(function() {\n",
       "                var nbb_cell_id = 15;\n",
       "                var nbb_unformatted_code = \"users = results.unique().scalars().all()\\nusers\";\n",
       "                var nbb_formatted_code = \"users = results.unique().scalars().all()\\nusers\";\n",
       "                var nbb_cells = Jupyter.notebook.get_cells();\n",
       "                for (var i = 0; i < nbb_cells.length; ++i) {\n",
       "                    if (nbb_cells[i].input_prompt_number == nbb_cell_id) {\n",
       "                        if (nbb_cells[i].get_text() == nbb_unformatted_code) {\n",
       "                             nbb_cells[i].set_text(nbb_formatted_code);\n",
       "                        }\n",
       "                        break;\n",
       "                    }\n",
       "                }\n",
       "            }, 500);\n",
       "            "
      ],
      "text/plain": [
       "<IPython.core.display.Javascript object>"
      ]
     },
     "metadata": {},
     "output_type": "display_data"
    }
   ],
   "source": [
    "users = results.unique().scalars().all()\n",
    "users"
   ]
  },
  {
   "cell_type": "code",
   "execution_count": 16,
   "id": "fdafa60e",
   "metadata": {
    "ExecuteTime": {
     "end_time": "2021-11-09T16:13:23.559591Z",
     "start_time": "2021-11-09T16:13:22.361237Z"
    }
   },
   "outputs": [
    {
     "data": {
      "text/plain": [
       "'Nick'"
      ]
     },
     "execution_count": 16,
     "metadata": {},
     "output_type": "execute_result"
    },
    {
     "data": {
      "application/javascript": [
       "\n",
       "            setTimeout(function() {\n",
       "                var nbb_cell_id = 16;\n",
       "                var nbb_unformatted_code = \"users[0].name\";\n",
       "                var nbb_formatted_code = \"users[0].name\";\n",
       "                var nbb_cells = Jupyter.notebook.get_cells();\n",
       "                for (var i = 0; i < nbb_cells.length; ++i) {\n",
       "                    if (nbb_cells[i].input_prompt_number == nbb_cell_id) {\n",
       "                        if (nbb_cells[i].get_text() == nbb_unformatted_code) {\n",
       "                             nbb_cells[i].set_text(nbb_formatted_code);\n",
       "                        }\n",
       "                        break;\n",
       "                    }\n",
       "                }\n",
       "            }, 500);\n",
       "            "
      ],
      "text/plain": [
       "<IPython.core.display.Javascript object>"
      ]
     },
     "metadata": {},
     "output_type": "display_data"
    }
   ],
   "source": [
    "users[0].name"
   ]
  },
  {
   "cell_type": "code",
   "execution_count": 17,
   "id": "4b3caf5b",
   "metadata": {
    "ExecuteTime": {
     "end_time": "2021-11-09T16:13:24.350341Z",
     "start_time": "2021-11-09T16:13:23.562316Z"
    }
   },
   "outputs": [
    {
     "data": {
      "text/plain": [
       "[Message(id=709112622307409921, user_id=709112610343288833, content='99 bottles of beer on the wall...'),\n",
       " Message(id=709112623735341057, user_id=709112610343288833, content='0 bottles of beer on the wall...'),\n",
       " Message(id=709112623694741505, user_id=709112610343288833, content='3 bottles of beer on the wall...'),\n",
       " Message(id=709112623654862849, user_id=709112610343288833, content='6 bottles of beer on the wall...'),\n",
       " Message(id=709112623617540097, user_id=709112610343288833, content='9 bottles of beer on the wall...')]"
      ]
     },
     "execution_count": 17,
     "metadata": {},
     "output_type": "execute_result"
    },
    {
     "data": {
      "application/javascript": [
       "\n",
       "            setTimeout(function() {\n",
       "                var nbb_cell_id = 17;\n",
       "                var nbb_unformatted_code = \"users[0].messages[:5]\";\n",
       "                var nbb_formatted_code = \"users[0].messages[:5]\";\n",
       "                var nbb_cells = Jupyter.notebook.get_cells();\n",
       "                for (var i = 0; i < nbb_cells.length; ++i) {\n",
       "                    if (nbb_cells[i].input_prompt_number == nbb_cell_id) {\n",
       "                        if (nbb_cells[i].get_text() == nbb_unformatted_code) {\n",
       "                             nbb_cells[i].set_text(nbb_formatted_code);\n",
       "                        }\n",
       "                        break;\n",
       "                    }\n",
       "                }\n",
       "            }, 500);\n",
       "            "
      ],
      "text/plain": [
       "<IPython.core.display.Javascript object>"
      ]
     },
     "metadata": {},
     "output_type": "display_data"
    }
   ],
   "source": [
    "users[0].messages[:5]"
   ]
  },
  {
   "cell_type": "code",
   "execution_count": 18,
   "id": "750f115d",
   "metadata": {
    "ExecuteTime": {
     "end_time": "2021-11-09T16:13:24.900055Z",
     "start_time": "2021-11-09T16:13:24.352527Z"
    }
   },
   "outputs": [
    {
     "name": "stdout",
     "output_type": "stream",
     "text": [
      "99 bottles of beer on the wall...\n",
      "0 bottles of beer on the wall...\n",
      "3 bottles of beer on the wall...\n",
      "6 bottles of beer on the wall...\n",
      "9 bottles of beer on the wall...\n"
     ]
    },
    {
     "data": {
      "application/javascript": [
       "\n",
       "            setTimeout(function() {\n",
       "                var nbb_cell_id = 18;\n",
       "                var nbb_unformatted_code = \"for m in users[0].messages[:5]:\\n    print(m.content)\";\n",
       "                var nbb_formatted_code = \"for m in users[0].messages[:5]:\\n    print(m.content)\";\n",
       "                var nbb_cells = Jupyter.notebook.get_cells();\n",
       "                for (var i = 0; i < nbb_cells.length; ++i) {\n",
       "                    if (nbb_cells[i].input_prompt_number == nbb_cell_id) {\n",
       "                        if (nbb_cells[i].get_text() == nbb_unformatted_code) {\n",
       "                             nbb_cells[i].set_text(nbb_formatted_code);\n",
       "                        }\n",
       "                        break;\n",
       "                    }\n",
       "                }\n",
       "            }, 500);\n",
       "            "
      ],
      "text/plain": [
       "<IPython.core.display.Javascript object>"
      ]
     },
     "metadata": {},
     "output_type": "display_data"
    }
   ],
   "source": [
    "for m in users[0].messages[:5]:\n",
    "    print(m.content)"
   ]
  },
  {
   "cell_type": "markdown",
   "id": "e63f88b2",
   "metadata": {},
   "source": [
    "#### Chained statement example"
   ]
  },
  {
   "cell_type": "code",
   "execution_count": 19,
   "id": "5099b520",
   "metadata": {
    "ExecuteTime": {
     "end_time": "2021-11-09T16:13:25.791054Z",
     "start_time": "2021-11-09T16:13:24.902188Z"
    }
   },
   "outputs": [
    {
     "name": "stdout",
     "output_type": "stream",
     "text": [
      "2021-11-09 16:13:25,760 INFO sqlalchemy.engine.Engine BEGIN (implicit)\n",
      "2021-11-09 16:13:25,762 INFO sqlalchemy.engine.Engine SELECT \"user\".id, \"user\".name \n",
      "FROM \"user\" \n",
      "WHERE \"user\".name = %s\n",
      "2021-11-09 16:13:25,763 INFO sqlalchemy.engine.Engine [generated in 0.00095s] ('Eli',)\n",
      "2021-11-09 16:13:25,770 INFO sqlalchemy.engine.Engine SELECT message.user_id AS message_user_id, message.id AS message_id, message.content AS message_content \n",
      "FROM message \n",
      "WHERE message.user_id IN (%s)\n",
      "2021-11-09 16:13:25,771 INFO sqlalchemy.engine.Engine [generated in 0.00120s] (709112612259201025,)\n",
      "2021-11-09 16:13:25,776 INFO sqlalchemy.engine.Engine ROLLBACK\n"
     ]
    },
    {
     "data": {
      "text/plain": [
       "User(id=709112612259201025, name='Eli', messages=[Message(id=709112622318911489, user_id=709112612259201025, content='98 bottles of beer on the wall...'), Message(id=709112622362787841, user_id=709112612259201025, content='95 bottles of beer on the wall...'), Message(id=709112622409220097, user_id=709112612259201025, content='92 bottles of beer on the wall...'), Message(id=709112622455554049, user_id=709112612259201025, content='89 bottles of beer on the wall...'), Message(id=709112622501462017, user_id=709112612259201025, content='86 bottles of beer on the wall...'), Message(id=709112622545076225, user_id=709112612259201025, content='83 bottles of beer on the wall...'), Message(id=709112622586396673, user_id=709112612259201025, content='80 bottles of beer on the wall...'), Message(id=709112622634434561, user_id=709112612259201025, content='77 bottles of beer on the wall...'), Message(id=709112622677131265, user_id=709112612259201025, content='74 bottles of beer on the wall...'), Message(id=709112622718713857, user_id=709112612259201025, content='71 bottles of beer on the wall...'), Message(id=709112622763671553, user_id=709112612259201025, content='68 bottles of beer on the wall...'), Message(id=709112622807449601, user_id=709112612259201025, content='65 bottles of beer on the wall...'), Message(id=709112622858076161, user_id=709112612259201025, content='62 bottles of beer on the wall...'), Message(id=709112622904541185, user_id=709112612259201025, content='59 bottles of beer on the wall...'), Message(id=709112622948515841, user_id=709112612259201025, content='56 bottles of beer on the wall...'), Message(id=709112622991933441, user_id=709112612259201025, content='53 bottles of beer on the wall...'), Message(id=709112623041216513, user_id=709112612259201025, content='50 bottles of beer on the wall...'), Message(id=709112623082930177, user_id=709112612259201025, content='47 bottles of beer on the wall...'), Message(id=709112623132147713, user_id=709112612259201025, content='44 bottles of beer on the wall...'), Message(id=709112623181004801, user_id=709112612259201025, content='41 bottles of beer on the wall...'), Message(id=709112623223963649, user_id=709112612259201025, content='38 bottles of beer on the wall...'), Message(id=709112623268593665, user_id=709112612259201025, content='35 bottles of beer on the wall...'), Message(id=709112623309422593, user_id=709112612259201025, content='32 bottles of beer on the wall...'), Message(id=709112623348482049, user_id=709112612259201025, content='29 bottles of beer on the wall...'), Message(id=709112623382167553, user_id=709112612259201025, content='26 bottles of beer on the wall...'), Message(id=709112623423586305, user_id=709112612259201025, content='23 bottles of beer on the wall...'), Message(id=709112623466545153, user_id=709112612259201025, content='20 bottles of beer on the wall...'), Message(id=709112623509078017, user_id=709112612259201025, content='17 bottles of beer on the wall...'), Message(id=709112623551938561, user_id=709112612259201025, content='14 bottles of beer on the wall...'), Message(id=709112623591063553, user_id=709112612259201025, content='11 bottles of beer on the wall...'), Message(id=709112623628976129, user_id=709112612259201025, content='8 bottles of beer on the wall...'), Message(id=709112623669313537, user_id=709112612259201025, content='5 bottles of beer on the wall...'), Message(id=709112623707095041, user_id=709112612259201025, content='2 bottles of beer on the wall...')])"
      ]
     },
     "execution_count": 19,
     "metadata": {},
     "output_type": "execute_result"
    },
    {
     "data": {
      "application/javascript": [
       "\n",
       "            setTimeout(function() {\n",
       "                var nbb_cell_id = 19;\n",
       "                var nbb_unformatted_code = \"async with async_session() as session:\\n    statement = sa.select(User)\\n    statement = statement.where(User.name == \\\"Eli\\\")\\n    statement = statement.options(sa.orm.selectinload(User.messages))\\n    results = await session.execute(statement)\\n\\nuser = results.scalars().first()\\nuser\";\n",
       "                var nbb_formatted_code = \"async with async_session() as session:\\n    statement = sa.select(User)\\n    statement = statement.where(User.name == \\\"Eli\\\")\\n    statement = statement.options(sa.orm.selectinload(User.messages))\\n    results = await session.execute(statement)\\n\\nuser = results.scalars().first()\\nuser\";\n",
       "                var nbb_cells = Jupyter.notebook.get_cells();\n",
       "                for (var i = 0; i < nbb_cells.length; ++i) {\n",
       "                    if (nbb_cells[i].input_prompt_number == nbb_cell_id) {\n",
       "                        if (nbb_cells[i].get_text() == nbb_unformatted_code) {\n",
       "                             nbb_cells[i].set_text(nbb_formatted_code);\n",
       "                        }\n",
       "                        break;\n",
       "                    }\n",
       "                }\n",
       "            }, 500);\n",
       "            "
      ],
      "text/plain": [
       "<IPython.core.display.Javascript object>"
      ]
     },
     "metadata": {},
     "output_type": "display_data"
    }
   ],
   "source": [
    "async with async_session() as session:\n",
    "    statement = sa.select(User)\n",
    "    statement = statement.where(User.name == \"Eli\")\n",
    "    statement = statement.options(sa.orm.selectinload(User.messages))\n",
    "    results = await session.execute(statement)\n",
    "\n",
    "user = results.scalars().first()\n",
    "user"
   ]
  },
  {
   "cell_type": "code",
   "execution_count": 20,
   "id": "e63b1e00",
   "metadata": {
    "ExecuteTime": {
     "end_time": "2021-11-09T16:13:26.607895Z",
     "start_time": "2021-11-09T16:13:25.793774Z"
    }
   },
   "outputs": [
    {
     "data": {
      "text/plain": [
       "'Eli'"
      ]
     },
     "execution_count": 20,
     "metadata": {},
     "output_type": "execute_result"
    },
    {
     "data": {
      "application/javascript": [
       "\n",
       "            setTimeout(function() {\n",
       "                var nbb_cell_id = 20;\n",
       "                var nbb_unformatted_code = \"user.name\";\n",
       "                var nbb_formatted_code = \"user.name\";\n",
       "                var nbb_cells = Jupyter.notebook.get_cells();\n",
       "                for (var i = 0; i < nbb_cells.length; ++i) {\n",
       "                    if (nbb_cells[i].input_prompt_number == nbb_cell_id) {\n",
       "                        if (nbb_cells[i].get_text() == nbb_unformatted_code) {\n",
       "                             nbb_cells[i].set_text(nbb_formatted_code);\n",
       "                        }\n",
       "                        break;\n",
       "                    }\n",
       "                }\n",
       "            }, 500);\n",
       "            "
      ],
      "text/plain": [
       "<IPython.core.display.Javascript object>"
      ]
     },
     "metadata": {},
     "output_type": "display_data"
    }
   ],
   "source": [
    "user.name"
   ]
  },
  {
   "cell_type": "code",
   "execution_count": 21,
   "id": "ede438d3",
   "metadata": {
    "ExecuteTime": {
     "end_time": "2021-11-09T16:13:27.290885Z",
     "start_time": "2021-11-09T16:13:26.610473Z"
    }
   },
   "outputs": [
    {
     "name": "stdout",
     "output_type": "stream",
     "text": [
      "98 bottles of beer on the wall...\n",
      "95 bottles of beer on the wall...\n",
      "92 bottles of beer on the wall...\n",
      "89 bottles of beer on the wall...\n",
      "86 bottles of beer on the wall...\n"
     ]
    },
    {
     "data": {
      "application/javascript": [
       "\n",
       "            setTimeout(function() {\n",
       "                var nbb_cell_id = 21;\n",
       "                var nbb_unformatted_code = \"for m in user.messages[:5]:\\n    print(m.content)\";\n",
       "                var nbb_formatted_code = \"for m in user.messages[:5]:\\n    print(m.content)\";\n",
       "                var nbb_cells = Jupyter.notebook.get_cells();\n",
       "                for (var i = 0; i < nbb_cells.length; ++i) {\n",
       "                    if (nbb_cells[i].input_prompt_number == nbb_cell_id) {\n",
       "                        if (nbb_cells[i].get_text() == nbb_unformatted_code) {\n",
       "                             nbb_cells[i].set_text(nbb_formatted_code);\n",
       "                        }\n",
       "                        break;\n",
       "                    }\n",
       "                }\n",
       "            }, 500);\n",
       "            "
      ],
      "text/plain": [
       "<IPython.core.display.Javascript object>"
      ]
     },
     "metadata": {},
     "output_type": "display_data"
    }
   ],
   "source": [
    "for m in user.messages[:5]:\n",
    "    print(m.content)"
   ]
  },
  {
   "cell_type": "markdown",
   "id": "c29f9b3b",
   "metadata": {},
   "source": [
    "### Using classmethod queries"
   ]
  },
  {
   "cell_type": "code",
   "execution_count": 22,
   "id": "fcb16677",
   "metadata": {
    "ExecuteTime": {
     "end_time": "2021-11-09T16:13:28.246655Z",
     "start_time": "2021-11-09T16:13:27.293571Z"
    }
   },
   "outputs": [
    {
     "name": "stdout",
     "output_type": "stream",
     "text": [
      "2021-11-09 16:13:28,226 INFO sqlalchemy.engine.Engine BEGIN (implicit)\n",
      "2021-11-09 16:13:28,228 INFO sqlalchemy.engine.Engine SELECT message.id, message.content, message.user_id \n",
      "FROM message JOIN \"user\" ON \"user\".id = message.user_id \n",
      "WHERE \"user\".name = %s\n",
      "2021-11-09 16:13:28,229 INFO sqlalchemy.engine.Engine [generated in 0.00102s] ('Eli',)\n",
      "2021-11-09 16:13:28,236 INFO sqlalchemy.engine.Engine ROLLBACK\n"
     ]
    },
    {
     "data": {
      "text/plain": [
       "33"
      ]
     },
     "execution_count": 22,
     "metadata": {},
     "output_type": "execute_result"
    },
    {
     "data": {
      "application/javascript": [
       "\n",
       "            setTimeout(function() {\n",
       "                var nbb_cell_id = 22;\n",
       "                var nbb_unformatted_code = \"async with async_session() as session:\\n    messages = await Message.afrom_user(session, \\\"Eli\\\")\\n\\nlen(messages)\";\n",
       "                var nbb_formatted_code = \"async with async_session() as session:\\n    messages = await Message.afrom_user(session, \\\"Eli\\\")\\n\\nlen(messages)\";\n",
       "                var nbb_cells = Jupyter.notebook.get_cells();\n",
       "                for (var i = 0; i < nbb_cells.length; ++i) {\n",
       "                    if (nbb_cells[i].input_prompt_number == nbb_cell_id) {\n",
       "                        if (nbb_cells[i].get_text() == nbb_unformatted_code) {\n",
       "                             nbb_cells[i].set_text(nbb_formatted_code);\n",
       "                        }\n",
       "                        break;\n",
       "                    }\n",
       "                }\n",
       "            }, 500);\n",
       "            "
      ],
      "text/plain": [
       "<IPython.core.display.Javascript object>"
      ]
     },
     "metadata": {},
     "output_type": "display_data"
    }
   ],
   "source": [
    "async with async_session() as session:\n",
    "    messages = await Message.afrom_user(session, \"Eli\")\n",
    "\n",
    "len(messages)"
   ]
  },
  {
   "cell_type": "code",
   "execution_count": 23,
   "id": "3b1b498b",
   "metadata": {
    "ExecuteTime": {
     "end_time": "2021-11-09T16:13:28.865684Z",
     "start_time": "2021-11-09T16:13:28.249112Z"
    }
   },
   "outputs": [
    {
     "data": {
      "text/plain": [
       "[Message(id=709112622318911489, user_id=709112612259201025, content='98 bottles of beer on the wall...'),\n",
       " Message(id=709112622362787841, user_id=709112612259201025, content='95 bottles of beer on the wall...'),\n",
       " Message(id=709112622409220097, user_id=709112612259201025, content='92 bottles of beer on the wall...'),\n",
       " Message(id=709112622455554049, user_id=709112612259201025, content='89 bottles of beer on the wall...'),\n",
       " Message(id=709112622501462017, user_id=709112612259201025, content='86 bottles of beer on the wall...')]"
      ]
     },
     "execution_count": 23,
     "metadata": {},
     "output_type": "execute_result"
    },
    {
     "data": {
      "application/javascript": [
       "\n",
       "            setTimeout(function() {\n",
       "                var nbb_cell_id = 23;\n",
       "                var nbb_unformatted_code = \"messages[:5]\";\n",
       "                var nbb_formatted_code = \"messages[:5]\";\n",
       "                var nbb_cells = Jupyter.notebook.get_cells();\n",
       "                for (var i = 0; i < nbb_cells.length; ++i) {\n",
       "                    if (nbb_cells[i].input_prompt_number == nbb_cell_id) {\n",
       "                        if (nbb_cells[i].get_text() == nbb_unformatted_code) {\n",
       "                             nbb_cells[i].set_text(nbb_formatted_code);\n",
       "                        }\n",
       "                        break;\n",
       "                    }\n",
       "                }\n",
       "            }, 500);\n",
       "            "
      ],
      "text/plain": [
       "<IPython.core.display.Javascript object>"
      ]
     },
     "metadata": {},
     "output_type": "display_data"
    }
   ],
   "source": [
    "messages[:5]"
   ]
  },
  {
   "cell_type": "code",
   "execution_count": null,
   "id": "265fe2ae",
   "metadata": {},
   "outputs": [],
   "source": []
  }
 ],
 "metadata": {
  "kernelspec": {
   "display_name": "Python 3 (ipykernel)",
   "language": "python",
   "name": "python3"
  },
  "language_info": {
   "codemirror_mode": {
    "name": "ipython",
    "version": 3
   },
   "file_extension": ".py",
   "mimetype": "text/x-python",
   "name": "python",
   "nbconvert_exporter": "python",
   "pygments_lexer": "ipython3",
   "version": "3.9.7"
  },
  "toc": {
   "base_numbering": 1,
   "nav_menu": {},
   "number_sections": true,
   "sideBar": true,
   "skip_h1_title": false,
   "title_cell": "Table of Contents",
   "title_sidebar": "Contents",
   "toc_cell": false,
   "toc_position": {
    "height": "calc(100% - 180px)",
    "left": "10px",
    "top": "150px",
    "width": "383.594px"
   },
   "toc_section_display": true,
   "toc_window_display": true
  }
 },
 "nbformat": 4,
 "nbformat_minor": 5
}
