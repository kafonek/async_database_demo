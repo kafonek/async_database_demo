{
 "cells": [
  {
   "cell_type": "markdown",
   "id": "431e0682",
   "metadata": {},
   "source": [
    "### Notebook setup"
   ]
  },
  {
   "cell_type": "code",
   "execution_count": 1,
   "id": "5f5546e9",
   "metadata": {
    "ExecuteTime": {
     "end_time": "2021-11-09T16:10:51.953305Z",
     "start_time": "2021-11-09T16:10:51.838522Z"
    }
   },
   "outputs": [
    {
     "data": {
      "application/javascript": [
       "\n",
       "            setTimeout(function() {\n",
       "                var nbb_cell_id = 1;\n",
       "                var nbb_unformatted_code = \"%load_ext nb_black\";\n",
       "                var nbb_formatted_code = \"%load_ext nb_black\";\n",
       "                var nbb_cells = Jupyter.notebook.get_cells();\n",
       "                for (var i = 0; i < nbb_cells.length; ++i) {\n",
       "                    if (nbb_cells[i].input_prompt_number == nbb_cell_id) {\n",
       "                        if (nbb_cells[i].get_text() == nbb_unformatted_code) {\n",
       "                             nbb_cells[i].set_text(nbb_formatted_code);\n",
       "                        }\n",
       "                        break;\n",
       "                    }\n",
       "                }\n",
       "            }, 500);\n",
       "            "
      ],
      "text/plain": [
       "<IPython.core.display.Javascript object>"
      ]
     },
     "metadata": {},
     "output_type": "display_data"
    }
   ],
   "source": [
    "%load_ext nb_black"
   ]
  },
  {
   "cell_type": "markdown",
   "id": "7e0aa863",
   "metadata": {},
   "source": [
    "### Create Engine/Session"
   ]
  },
  {
   "cell_type": "code",
   "execution_count": 2,
   "id": "e024348c",
   "metadata": {
    "ExecuteTime": {
     "end_time": "2021-11-09T16:10:52.658120Z",
     "start_time": "2021-11-09T16:10:51.956031Z"
    }
   },
   "outputs": [
    {
     "data": {
      "text/plain": [
       "Engine(cockroachdb://root@cockroach:26257/defaultdb?sslmode=disable)"
      ]
     },
     "execution_count": 2,
     "metadata": {},
     "output_type": "execute_result"
    },
    {
     "data": {
      "application/javascript": [
       "\n",
       "            setTimeout(function() {\n",
       "                var nbb_cell_id = 2;\n",
       "                var nbb_unformatted_code = \"import sqlalchemy as sa\\nimport sqlalchemy.orm\\n\\nengine = sa.create_engine(\\n    \\\"cockroachdb://root@cockroach:26257/defaultdb?sslmode=disable\\\", echo=True\\n)\\nengine\";\n",
       "                var nbb_formatted_code = \"import sqlalchemy as sa\\nimport sqlalchemy.orm\\n\\nengine = sa.create_engine(\\n    \\\"cockroachdb://root@cockroach:26257/defaultdb?sslmode=disable\\\", echo=True\\n)\\nengine\";\n",
       "                var nbb_cells = Jupyter.notebook.get_cells();\n",
       "                for (var i = 0; i < nbb_cells.length; ++i) {\n",
       "                    if (nbb_cells[i].input_prompt_number == nbb_cell_id) {\n",
       "                        if (nbb_cells[i].get_text() == nbb_unformatted_code) {\n",
       "                             nbb_cells[i].set_text(nbb_formatted_code);\n",
       "                        }\n",
       "                        break;\n",
       "                    }\n",
       "                }\n",
       "            }, 500);\n",
       "            "
      ],
      "text/plain": [
       "<IPython.core.display.Javascript object>"
      ]
     },
     "metadata": {},
     "output_type": "display_data"
    }
   ],
   "source": [
    "import sqlalchemy as sa\n",
    "import sqlalchemy.orm\n",
    "\n",
    "engine = sa.create_engine(\n",
    "    \"cockroachdb://root@cockroach:26257/defaultdb?sslmode=disable\", echo=True\n",
    ")\n",
    "engine"
   ]
  },
  {
   "cell_type": "code",
   "execution_count": 3,
   "id": "a84fa3c2",
   "metadata": {
    "ExecuteTime": {
     "end_time": "2021-11-09T16:10:52.855026Z",
     "start_time": "2021-11-09T16:10:52.660119Z"
    }
   },
   "outputs": [
    {
     "data": {
      "text/plain": [
       "sessionmaker(class_='Session', bind=Engine(cockroachdb://root@cockroach:26257/defaultdb?sslmode=disable), autoflush=True, expire_on_commit=True)"
      ]
     },
     "execution_count": 3,
     "metadata": {},
     "output_type": "execute_result"
    },
    {
     "data": {
      "application/javascript": [
       "\n",
       "            setTimeout(function() {\n",
       "                var nbb_cell_id = 3;\n",
       "                var nbb_unformatted_code = \"LocalSession = sa.orm.sessionmaker(engine)\\nLocalSession\";\n",
       "                var nbb_formatted_code = \"LocalSession = sa.orm.sessionmaker(engine)\\nLocalSession\";\n",
       "                var nbb_cells = Jupyter.notebook.get_cells();\n",
       "                for (var i = 0; i < nbb_cells.length; ++i) {\n",
       "                    if (nbb_cells[i].input_prompt_number == nbb_cell_id) {\n",
       "                        if (nbb_cells[i].get_text() == nbb_unformatted_code) {\n",
       "                             nbb_cells[i].set_text(nbb_formatted_code);\n",
       "                        }\n",
       "                        break;\n",
       "                    }\n",
       "                }\n",
       "            }, 500);\n",
       "            "
      ],
      "text/plain": [
       "<IPython.core.display.Javascript object>"
      ]
     },
     "metadata": {},
     "output_type": "display_data"
    }
   ],
   "source": [
    "LocalSession = sa.orm.sessionmaker(engine)\n",
    "LocalSession"
   ]
  },
  {
   "cell_type": "markdown",
   "id": "accce803",
   "metadata": {},
   "source": [
    "### Cockroachdb cluster id"
   ]
  },
  {
   "cell_type": "code",
   "execution_count": 4,
   "id": "c4816a18",
   "metadata": {
    "ExecuteTime": {
     "end_time": "2021-11-09T16:10:53.512280Z",
     "start_time": "2021-11-09T16:10:52.858202Z"
    }
   },
   "outputs": [
    {
     "name": "stdout",
     "output_type": "stream",
     "text": [
      "2021-11-09 16:10:53,405 INFO sqlalchemy.engine.Engine select current_schema()\n",
      "2021-11-09 16:10:53,407 INFO sqlalchemy.engine.Engine [raw sql] {}\n",
      "2021-11-09 16:10:53,411 INFO sqlalchemy.engine.Engine select version()\n",
      "2021-11-09 16:10:53,412 INFO sqlalchemy.engine.Engine [generated in 0.00110s] {}\n",
      "2021-11-09 16:10:53,489 INFO sqlalchemy.engine.Engine SELECT crdb_internal.increment_feature_counter(%(val)s)\n",
      "2021-11-09 16:10:53,490 INFO sqlalchemy.engine.Engine [generated in 0.00090s] {'val': 'sqlalchemy-cockroachdb 1.4.3.dev0'}\n",
      "2021-11-09 16:10:53,491 INFO sqlalchemy.engine.Engine SELECT crdb_internal.increment_feature_counter(%(val)s)\n",
      "2021-11-09 16:10:53,492 INFO sqlalchemy.engine.Engine [cached since 0.002882s ago] {'val': 'sqlalchemy 2.0'}\n",
      "2021-11-09 16:10:53,494 INFO sqlalchemy.engine.Engine BEGIN (implicit)\n",
      "2021-11-09 16:10:53,496 INFO sqlalchemy.engine.Engine SELECT value FROM crdb_internal.node_build_info WHERE field = 'ClusterID';\n",
      "2021-11-09 16:10:53,497 INFO sqlalchemy.engine.Engine [generated in 0.00085s] {}\n",
      "2021-11-09 16:10:53,499 INFO sqlalchemy.engine.Engine ROLLBACK\n"
     ]
    },
    {
     "data": {
      "text/plain": [
       "('74642f88-2b37-4537-b7e2-ad70560857cd',)"
      ]
     },
     "execution_count": 4,
     "metadata": {},
     "output_type": "execute_result"
    },
    {
     "data": {
      "application/javascript": [
       "\n",
       "            setTimeout(function() {\n",
       "                var nbb_cell_id = 4;\n",
       "                var nbb_unformatted_code = \"with LocalSession() as session:\\n    statement = sa.text(\\n        \\\"SELECT value FROM crdb_internal.node_build_info WHERE field = 'ClusterID';\\\"\\n    )\\n    result = session.execute(statement)\\n\\nresult.first()\";\n",
       "                var nbb_formatted_code = \"with LocalSession() as session:\\n    statement = sa.text(\\n        \\\"SELECT value FROM crdb_internal.node_build_info WHERE field = 'ClusterID';\\\"\\n    )\\n    result = session.execute(statement)\\n\\nresult.first()\";\n",
       "                var nbb_cells = Jupyter.notebook.get_cells();\n",
       "                for (var i = 0; i < nbb_cells.length; ++i) {\n",
       "                    if (nbb_cells[i].input_prompt_number == nbb_cell_id) {\n",
       "                        if (nbb_cells[i].get_text() == nbb_unformatted_code) {\n",
       "                             nbb_cells[i].set_text(nbb_formatted_code);\n",
       "                        }\n",
       "                        break;\n",
       "                    }\n",
       "                }\n",
       "            }, 500);\n",
       "            "
      ],
      "text/plain": [
       "<IPython.core.display.Javascript object>"
      ]
     },
     "metadata": {},
     "output_type": "display_data"
    }
   ],
   "source": [
    "with LocalSession() as session:\n",
    "    statement = sa.text(\n",
    "        \"SELECT value FROM crdb_internal.node_build_info WHERE field = 'ClusterID';\"\n",
    "    )\n",
    "    result = session.execute(statement)\n",
    "\n",
    "result.first()"
   ]
  },
  {
   "cell_type": "markdown",
   "id": "97e08b64",
   "metadata": {},
   "source": [
    "### Drop/Create tables"
   ]
  },
  {
   "cell_type": "code",
   "execution_count": 5,
   "id": "6867dc26",
   "metadata": {
    "ExecuteTime": {
     "end_time": "2021-11-09T16:11:03.286125Z",
     "start_time": "2021-11-09T16:10:53.515209Z"
    }
   },
   "outputs": [
    {
     "name": "stdout",
     "output_type": "stream",
     "text": [
      "2021-11-09 16:10:53,948 INFO sqlalchemy.engine.Engine BEGIN (implicit)\n",
      "2021-11-09 16:10:53,949 INFO sqlalchemy.engine.Engine SELECT table_name FROM information_schema.tables WHERE table_schema=%(schema)s\n",
      "2021-11-09 16:10:53,950 INFO sqlalchemy.engine.Engine [generated in 0.00086s] {'schema': 'public'}\n",
      "2021-11-09 16:10:53,956 INFO sqlalchemy.engine.Engine SELECT table_name FROM information_schema.tables WHERE table_schema=%(schema)s\n",
      "2021-11-09 16:10:53,957 INFO sqlalchemy.engine.Engine [cached since 0.007688s ago] {'schema': 'public'}\n",
      "2021-11-09 16:10:53,960 INFO sqlalchemy.engine.Engine \n",
      "DROP TABLE message\n",
      "2021-11-09 16:10:53,961 INFO sqlalchemy.engine.Engine [no key 0.00118s] {}\n",
      "2021-11-09 16:10:54,573 INFO sqlalchemy.engine.Engine \n",
      "DROP TABLE \"user\"\n",
      "2021-11-09 16:10:54,574 INFO sqlalchemy.engine.Engine [no key 0.00094s] {}\n",
      "2021-11-09 16:10:54,578 INFO sqlalchemy.engine.Engine COMMIT\n",
      "2021-11-09 16:11:00,314 INFO sqlalchemy.engine.Engine BEGIN (implicit)\n",
      "2021-11-09 16:11:00,315 INFO sqlalchemy.engine.Engine SELECT table_name FROM information_schema.tables WHERE table_schema=%(schema)s\n",
      "2021-11-09 16:11:00,315 INFO sqlalchemy.engine.Engine [cached since 6.366s ago] {'schema': 'public'}\n",
      "2021-11-09 16:11:00,322 INFO sqlalchemy.engine.Engine SELECT table_name FROM information_schema.tables WHERE table_schema=%(schema)s\n",
      "2021-11-09 16:11:00,323 INFO sqlalchemy.engine.Engine [cached since 6.374s ago] {'schema': 'public'}\n",
      "2021-11-09 16:11:00,327 INFO sqlalchemy.engine.Engine \n",
      "CREATE TABLE \"user\" (\n",
      "\tid SERIAL, \n",
      "\tname VARCHAR NOT NULL, \n",
      "\tPRIMARY KEY (id)\n",
      ")\n",
      "\n",
      "\n",
      "2021-11-09 16:11:00,328 INFO sqlalchemy.engine.Engine [no key 0.00117s] {}\n",
      "2021-11-09 16:11:00,439 INFO sqlalchemy.engine.Engine CREATE INDEX ix_user_id ON \"user\" (id)\n",
      "2021-11-09 16:11:00,440 INFO sqlalchemy.engine.Engine [no key 0.00144s] {}\n",
      "2021-11-09 16:11:00,738 INFO sqlalchemy.engine.Engine CREATE INDEX ix_user_name ON \"user\" (name)\n",
      "2021-11-09 16:11:00,739 INFO sqlalchemy.engine.Engine [no key 0.00131s] {}\n",
      "2021-11-09 16:11:01,412 INFO sqlalchemy.engine.Engine \n",
      "CREATE TABLE message (\n",
      "\tid SERIAL, \n",
      "\tcontent VARCHAR NOT NULL, \n",
      "\tuser_id INTEGER, \n",
      "\tPRIMARY KEY (id), \n",
      "\tFOREIGN KEY(user_id) REFERENCES \"user\" (id)\n",
      ")\n",
      "\n",
      "\n",
      "2021-11-09 16:11:01,413 INFO sqlalchemy.engine.Engine [no key 0.00091s] {}\n",
      "2021-11-09 16:11:01,979 INFO sqlalchemy.engine.Engine CREATE INDEX ix_message_user_id ON message (user_id)\n",
      "2021-11-09 16:11:01,980 INFO sqlalchemy.engine.Engine [no key 0.00083s] {}\n",
      "2021-11-09 16:11:01,983 INFO sqlalchemy.engine.Engine CREATE INDEX ix_message_content ON message (content)\n",
      "2021-11-09 16:11:01,984 INFO sqlalchemy.engine.Engine [no key 0.00129s] {}\n",
      "2021-11-09 16:11:02,172 INFO sqlalchemy.engine.Engine CREATE INDEX ix_message_id ON message (id)\n",
      "2021-11-09 16:11:02,173 INFO sqlalchemy.engine.Engine [no key 0.00092s] {}\n",
      "2021-11-09 16:11:02,655 INFO sqlalchemy.engine.Engine COMMIT\n"
     ]
    },
    {
     "data": {
      "application/javascript": [
       "\n",
       "            setTimeout(function() {\n",
       "                var nbb_cell_id = 5;\n",
       "                var nbb_unformatted_code = \"from models import Base, User, Message\\n\\nBase.metadata.drop_all(engine)\\nBase.metadata.create_all(engine)\";\n",
       "                var nbb_formatted_code = \"from models import Base, User, Message\\n\\nBase.metadata.drop_all(engine)\\nBase.metadata.create_all(engine)\";\n",
       "                var nbb_cells = Jupyter.notebook.get_cells();\n",
       "                for (var i = 0; i < nbb_cells.length; ++i) {\n",
       "                    if (nbb_cells[i].input_prompt_number == nbb_cell_id) {\n",
       "                        if (nbb_cells[i].get_text() == nbb_unformatted_code) {\n",
       "                             nbb_cells[i].set_text(nbb_formatted_code);\n",
       "                        }\n",
       "                        break;\n",
       "                    }\n",
       "                }\n",
       "            }, 500);\n",
       "            "
      ],
      "text/plain": [
       "<IPython.core.display.Javascript object>"
      ]
     },
     "metadata": {},
     "output_type": "display_data"
    }
   ],
   "source": [
    "from models import Base, User, Message\n",
    "\n",
    "Base.metadata.drop_all(engine)\n",
    "Base.metadata.create_all(engine)"
   ]
  },
  {
   "cell_type": "markdown",
   "id": "19da74c3",
   "metadata": {},
   "source": [
    "### Add data\n",
    "\n",
    "Nick, Eli, and Paul sing 99 bottles of beer..."
   ]
  },
  {
   "cell_type": "code",
   "execution_count": 6,
   "id": "b8bc89c2",
   "metadata": {
    "ExecuteTime": {
     "end_time": "2021-11-09T16:11:03.307174Z",
     "start_time": "2021-11-09T16:11:03.289190Z"
    }
   },
   "outputs": [
    {
     "data": {
      "text/plain": [
       "[User(id=None, name='Nick'),\n",
       " User(id=None, name='Eli'),\n",
       " User(id=None, name='Paul')]"
      ]
     },
     "execution_count": 6,
     "metadata": {},
     "output_type": "execute_result"
    },
    {
     "data": {
      "application/javascript": [
       "\n",
       "            setTimeout(function() {\n",
       "                var nbb_cell_id = 6;\n",
       "                var nbb_unformatted_code = \"users = [User(name=\\\"Nick\\\"), User(name=\\\"Eli\\\"), User(name=\\\"Paul\\\")]\\nusers\";\n",
       "                var nbb_formatted_code = \"users = [User(name=\\\"Nick\\\"), User(name=\\\"Eli\\\"), User(name=\\\"Paul\\\")]\\nusers\";\n",
       "                var nbb_cells = Jupyter.notebook.get_cells();\n",
       "                for (var i = 0; i < nbb_cells.length; ++i) {\n",
       "                    if (nbb_cells[i].input_prompt_number == nbb_cell_id) {\n",
       "                        if (nbb_cells[i].get_text() == nbb_unformatted_code) {\n",
       "                             nbb_cells[i].set_text(nbb_formatted_code);\n",
       "                        }\n",
       "                        break;\n",
       "                    }\n",
       "                }\n",
       "            }, 500);\n",
       "            "
      ],
      "text/plain": [
       "<IPython.core.display.Javascript object>"
      ]
     },
     "metadata": {},
     "output_type": "display_data"
    }
   ],
   "source": [
    "users = [User(name=\"Nick\"), User(name=\"Eli\"), User(name=\"Paul\")]\n",
    "users"
   ]
  },
  {
   "cell_type": "code",
   "execution_count": 7,
   "id": "7f0c2caf",
   "metadata": {
    "ExecuteTime": {
     "end_time": "2021-11-09T16:11:04.925512Z",
     "start_time": "2021-11-09T16:11:03.309366Z"
    }
   },
   "outputs": [
    {
     "name": "stdout",
     "output_type": "stream",
     "text": [
      "2021-11-09 16:11:03,720 INFO sqlalchemy.engine.Engine BEGIN (implicit)\n",
      "2021-11-09 16:11:03,722 INFO sqlalchemy.engine.Engine INSERT INTO \"user\" (name) VALUES (%(name)s) RETURNING \"user\".id\n",
      "2021-11-09 16:11:03,723 INFO sqlalchemy.engine.Engine [generated in 0.00087s] ({'name': 'Nick'}, {'name': 'Eli'}, {'name': 'Paul'})\n",
      "2021-11-09 16:11:04,480 INFO sqlalchemy.engine.Engine COMMIT\n"
     ]
    },
    {
     "data": {
      "application/javascript": [
       "\n",
       "            setTimeout(function() {\n",
       "                var nbb_cell_id = 7;\n",
       "                var nbb_unformatted_code = \"with LocalSession() as session:\\n    session.add_all(users)\\n    session.commit()\";\n",
       "                var nbb_formatted_code = \"with LocalSession() as session:\\n    session.add_all(users)\\n    session.commit()\";\n",
       "                var nbb_cells = Jupyter.notebook.get_cells();\n",
       "                for (var i = 0; i < nbb_cells.length; ++i) {\n",
       "                    if (nbb_cells[i].input_prompt_number == nbb_cell_id) {\n",
       "                        if (nbb_cells[i].get_text() == nbb_unformatted_code) {\n",
       "                             nbb_cells[i].set_text(nbb_formatted_code);\n",
       "                        }\n",
       "                        break;\n",
       "                    }\n",
       "                }\n",
       "            }, 500);\n",
       "            "
      ],
      "text/plain": [
       "<IPython.core.display.Javascript object>"
      ]
     },
     "metadata": {},
     "output_type": "display_data"
    }
   ],
   "source": [
    "with LocalSession() as session:\n",
    "    session.add_all(users)\n",
    "    session.commit()"
   ]
  },
  {
   "cell_type": "code",
   "execution_count": 8,
   "id": "28d8b790",
   "metadata": {
    "ExecuteTime": {
     "end_time": "2021-11-09T16:11:07.264114Z",
     "start_time": "2021-11-09T16:11:04.928608Z"
    }
   },
   "outputs": [
    {
     "name": "stdout",
     "output_type": "stream",
     "text": [
      "2021-11-09 16:11:04,943 INFO sqlalchemy.engine.Engine BEGIN (implicit)\n",
      "2021-11-09 16:11:04,947 INFO sqlalchemy.engine.Engine SELECT \"user\".id AS user_id, \"user\".name AS user_name \n",
      "FROM \"user\" \n",
      "WHERE \"user\".id = %(pk_1)s\n",
      "2021-11-09 16:11:04,948 INFO sqlalchemy.engine.Engine [generated in 0.00110s] {'pk_1': 709112183126392833}\n",
      "2021-11-09 16:11:05,304 INFO sqlalchemy.engine.Engine SELECT \"user\".id AS user_id, \"user\".name AS user_name \n",
      "FROM \"user\" \n",
      "WHERE \"user\".id = %(pk_1)s\n",
      "2021-11-09 16:11:05,305 INFO sqlalchemy.engine.Engine [cached since 0.3582s ago] {'pk_1': 709112183126425601}\n",
      "2021-11-09 16:11:05,308 INFO sqlalchemy.engine.Engine SELECT \"user\".id AS user_id, \"user\".name AS user_name \n",
      "FROM \"user\" \n",
      "WHERE \"user\".id = %(pk_1)s\n",
      "2021-11-09 16:11:05,309 INFO sqlalchemy.engine.Engine [cached since 0.3623s ago] {'pk_1': 709112183126327297}\n",
      "2021-11-09 16:11:05,316 INFO sqlalchemy.engine.Engine INSERT INTO message (content, user_id) VALUES (%(content)s, %(user_id)s) RETURNING message.id\n",
      "2021-11-09 16:11:05,317 INFO sqlalchemy.engine.Engine [generated in 0.00186s] ({'content': '99 bottles of beer on the wall...', 'user_id': 709112183126327297}, {'content': '98 bottles of beer on the wall...', 'user_id': 709112183126392833}, {'content': '97 bottles of beer on the wall...', 'user_id': 709112183126425601}, {'content': '96 bottles of beer on the wall...', 'user_id': 709112183126327297}, {'content': '95 bottles of beer on the wall...', 'user_id': 709112183126392833}, {'content': '94 bottles of beer on the wall...', 'user_id': 709112183126425601}, {'content': '93 bottles of beer on the wall...', 'user_id': 709112183126327297}, {'content': '92 bottles of beer on the wall...', 'user_id': 709112183126392833}  ... displaying 10 of 100 total bound parameter sets ...  {'content': '1 bottles of beer on the wall...', 'user_id': 709112183126425601}, {'content': '0 bottles of beer on the wall...', 'user_id': 709112183126327297})\n",
      "2021-11-09 16:11:06,347 INFO sqlalchemy.engine.Engine COMMIT\n"
     ]
    },
    {
     "data": {
      "application/javascript": [
       "\n",
       "            setTimeout(function() {\n",
       "                var nbb_cell_id = 8;\n",
       "                var nbb_unformatted_code = \"import itertools\\n\\ncycle = itertools.cycle(users)\\nmessages = []\\n\\nfor i in reversed(range(100)):\\n    content = f\\\"{i} bottles of beer on the wall...\\\"\\n    user = next(cycle)\\n    message = Message(user=user, content=content)\\n    messages.append(message)\\n\\nwith LocalSession() as session:\\n    session.add_all(messages)\\n    session.commit()\";\n",
       "                var nbb_formatted_code = \"import itertools\\n\\ncycle = itertools.cycle(users)\\nmessages = []\\n\\nfor i in reversed(range(100)):\\n    content = f\\\"{i} bottles of beer on the wall...\\\"\\n    user = next(cycle)\\n    message = Message(user=user, content=content)\\n    messages.append(message)\\n\\nwith LocalSession() as session:\\n    session.add_all(messages)\\n    session.commit()\";\n",
       "                var nbb_cells = Jupyter.notebook.get_cells();\n",
       "                for (var i = 0; i < nbb_cells.length; ++i) {\n",
       "                    if (nbb_cells[i].input_prompt_number == nbb_cell_id) {\n",
       "                        if (nbb_cells[i].get_text() == nbb_unformatted_code) {\n",
       "                             nbb_cells[i].set_text(nbb_formatted_code);\n",
       "                        }\n",
       "                        break;\n",
       "                    }\n",
       "                }\n",
       "            }, 500);\n",
       "            "
      ],
      "text/plain": [
       "<IPython.core.display.Javascript object>"
      ]
     },
     "metadata": {},
     "output_type": "display_data"
    }
   ],
   "source": [
    "import itertools\n",
    "\n",
    "cycle = itertools.cycle(users)\n",
    "messages = []\n",
    "\n",
    "for i in reversed(range(100)):\n",
    "    content = f\"{i} bottles of beer on the wall...\"\n",
    "    user = next(cycle)\n",
    "    message = Message(user=user, content=content)\n",
    "    messages.append(message)\n",
    "\n",
    "with LocalSession() as session:\n",
    "    session.add_all(messages)\n",
    "    session.commit()"
   ]
  },
  {
   "cell_type": "markdown",
   "id": "20472c35",
   "metadata": {},
   "source": [
    "### Query for data"
   ]
  },
  {
   "cell_type": "markdown",
   "id": "e026c804",
   "metadata": {},
   "source": [
    "#### Count query"
   ]
  },
  {
   "cell_type": "code",
   "execution_count": 9,
   "id": "2bd95088",
   "metadata": {
    "ExecuteTime": {
     "end_time": "2021-11-09T16:11:07.293161Z",
     "start_time": "2021-11-09T16:11:07.267035Z"
    }
   },
   "outputs": [
    {
     "name": "stdout",
     "output_type": "stream",
     "text": [
      "2021-11-09 16:11:07,269 INFO sqlalchemy.engine.Engine BEGIN (implicit)\n",
      "2021-11-09 16:11:07,273 INFO sqlalchemy.engine.Engine SELECT count(\"user\".id) AS count_1 \n",
      "FROM \"user\"\n",
      "2021-11-09 16:11:07,275 INFO sqlalchemy.engine.Engine [generated in 0.00237s] {}\n",
      "2021-11-09 16:11:07,279 INFO sqlalchemy.engine.Engine ROLLBACK\n"
     ]
    },
    {
     "data": {
      "text/plain": [
       "3"
      ]
     },
     "execution_count": 9,
     "metadata": {},
     "output_type": "execute_result"
    },
    {
     "data": {
      "application/javascript": [
       "\n",
       "            setTimeout(function() {\n",
       "                var nbb_cell_id = 9;\n",
       "                var nbb_unformatted_code = \"### Expect to see 3 users here\\n\\nwith LocalSession() as session:\\n    statement = sa.select(sa.func.count(User.id))\\n    results = session.scalar(statement)\\n\\nresults\";\n",
       "                var nbb_formatted_code = \"### Expect to see 3 users here\\n\\nwith LocalSession() as session:\\n    statement = sa.select(sa.func.count(User.id))\\n    results = session.scalar(statement)\\n\\nresults\";\n",
       "                var nbb_cells = Jupyter.notebook.get_cells();\n",
       "                for (var i = 0; i < nbb_cells.length; ++i) {\n",
       "                    if (nbb_cells[i].input_prompt_number == nbb_cell_id) {\n",
       "                        if (nbb_cells[i].get_text() == nbb_unformatted_code) {\n",
       "                             nbb_cells[i].set_text(nbb_formatted_code);\n",
       "                        }\n",
       "                        break;\n",
       "                    }\n",
       "                }\n",
       "            }, 500);\n",
       "            "
      ],
      "text/plain": [
       "<IPython.core.display.Javascript object>"
      ]
     },
     "metadata": {},
     "output_type": "display_data"
    }
   ],
   "source": [
    "### Expect to see 3 users here\n",
    "\n",
    "with LocalSession() as session:\n",
    "    statement = sa.select(sa.func.count(User.id))\n",
    "    results = session.scalar(statement)\n",
    "\n",
    "results"
   ]
  },
  {
   "cell_type": "code",
   "execution_count": 10,
   "id": "5af4f89a",
   "metadata": {
    "ExecuteTime": {
     "end_time": "2021-11-09T16:11:07.621576Z",
     "start_time": "2021-11-09T16:11:07.297873Z"
    }
   },
   "outputs": [
    {
     "name": "stdout",
     "output_type": "stream",
     "text": [
      "2021-11-09 16:11:07,603 INFO sqlalchemy.engine.Engine BEGIN (implicit)\n",
      "2021-11-09 16:11:07,605 INFO sqlalchemy.engine.Engine SELECT count(message.id) AS count_1 \n",
      "FROM message\n",
      "2021-11-09 16:11:07,606 INFO sqlalchemy.engine.Engine [generated in 0.00095s] {}\n",
      "2021-11-09 16:11:07,609 INFO sqlalchemy.engine.Engine ROLLBACK\n"
     ]
    },
    {
     "data": {
      "text/plain": [
       "100"
      ]
     },
     "execution_count": 10,
     "metadata": {},
     "output_type": "execute_result"
    },
    {
     "data": {
      "application/javascript": [
       "\n",
       "            setTimeout(function() {\n",
       "                var nbb_cell_id = 10;\n",
       "                var nbb_unformatted_code = \"### Expect to see 100 messages here\\n\\nwith LocalSession() as session:\\n    statement = sa.select(sa.func.count(Message.id))\\n    results = session.scalar(statement)\\n\\nresults\";\n",
       "                var nbb_formatted_code = \"### Expect to see 100 messages here\\n\\nwith LocalSession() as session:\\n    statement = sa.select(sa.func.count(Message.id))\\n    results = session.scalar(statement)\\n\\nresults\";\n",
       "                var nbb_cells = Jupyter.notebook.get_cells();\n",
       "                for (var i = 0; i < nbb_cells.length; ++i) {\n",
       "                    if (nbb_cells[i].input_prompt_number == nbb_cell_id) {\n",
       "                        if (nbb_cells[i].get_text() == nbb_unformatted_code) {\n",
       "                             nbb_cells[i].set_text(nbb_formatted_code);\n",
       "                        }\n",
       "                        break;\n",
       "                    }\n",
       "                }\n",
       "            }, 500);\n",
       "            "
      ],
      "text/plain": [
       "<IPython.core.display.Javascript object>"
      ]
     },
     "metadata": {},
     "output_type": "display_data"
    }
   ],
   "source": [
    "### Expect to see 100 messages here\n",
    "\n",
    "with LocalSession() as session:\n",
    "    statement = sa.select(sa.func.count(Message.id))\n",
    "    results = session.scalar(statement)\n",
    "\n",
    "results"
   ]
  },
  {
   "cell_type": "markdown",
   "id": "77c4b3df",
   "metadata": {},
   "source": [
    "#### Query users with messages"
   ]
  },
  {
   "cell_type": "code",
   "execution_count": 11,
   "id": "982598bd",
   "metadata": {
    "ExecuteTime": {
     "end_time": "2021-11-09T16:11:08.001703Z",
     "start_time": "2021-11-09T16:11:07.624113Z"
    }
   },
   "outputs": [
    {
     "name": "stdout",
     "output_type": "stream",
     "text": [
      "2021-11-09 16:11:07,978 INFO sqlalchemy.engine.Engine BEGIN (implicit)\n",
      "2021-11-09 16:11:07,984 INFO sqlalchemy.engine.Engine SELECT \"user\".id, \"user\".name, message_1.id AS id_1, message_1.content, message_1.user_id \n",
      "FROM \"user\" LEFT OUTER JOIN message AS message_1 ON \"user\".id = message_1.user_id\n",
      "2021-11-09 16:11:07,985 INFO sqlalchemy.engine.Engine [generated in 0.00157s] {}\n",
      "2021-11-09 16:11:07,989 INFO sqlalchemy.engine.Engine ROLLBACK\n"
     ]
    },
    {
     "data": {
      "text/plain": [
       "<sqlalchemy.engine.result.ChunkedIteratorResult at 0x7f4b1d5f33d0>"
      ]
     },
     "execution_count": 11,
     "metadata": {},
     "output_type": "execute_result"
    },
    {
     "data": {
      "application/javascript": [
       "\n",
       "            setTimeout(function() {\n",
       "                var nbb_cell_id = 11;\n",
       "                var nbb_unformatted_code = \"with LocalSession() as session:\\n    statement = sa.select(User).options(sa.orm.joinedload(User.messages))\\n    results = session.execute(statement)\\n\\nresults\";\n",
       "                var nbb_formatted_code = \"with LocalSession() as session:\\n    statement = sa.select(User).options(sa.orm.joinedload(User.messages))\\n    results = session.execute(statement)\\n\\nresults\";\n",
       "                var nbb_cells = Jupyter.notebook.get_cells();\n",
       "                for (var i = 0; i < nbb_cells.length; ++i) {\n",
       "                    if (nbb_cells[i].input_prompt_number == nbb_cell_id) {\n",
       "                        if (nbb_cells[i].get_text() == nbb_unformatted_code) {\n",
       "                             nbb_cells[i].set_text(nbb_formatted_code);\n",
       "                        }\n",
       "                        break;\n",
       "                    }\n",
       "                }\n",
       "            }, 500);\n",
       "            "
      ],
      "text/plain": [
       "<IPython.core.display.Javascript object>"
      ]
     },
     "metadata": {},
     "output_type": "display_data"
    }
   ],
   "source": [
    "with LocalSession() as session:\n",
    "    statement = sa.select(User).options(sa.orm.joinedload(User.messages))\n",
    "    results = session.execute(statement)\n",
    "\n",
    "results"
   ]
  },
  {
   "cell_type": "code",
   "execution_count": 12,
   "id": "445774c3",
   "metadata": {
    "ExecuteTime": {
     "end_time": "2021-11-09T16:11:08.199565Z",
     "start_time": "2021-11-09T16:11:08.004550Z"
    },
    "scrolled": true
   },
   "outputs": [
    {
     "name": "stdout",
     "output_type": "stream",
     "text": [
      "2021-11-09 16:11:08,176 INFO sqlalchemy.engine.Engine BEGIN (implicit)\n",
      "2021-11-09 16:11:08,177 INFO sqlalchemy.engine.Engine SELECT \"user\".id, \"user\".name, message_1.id AS id_1, message_1.content, message_1.user_id \n",
      "FROM \"user\" LEFT OUTER JOIN message AS message_1 ON \"user\".id = message_1.user_id\n",
      "2021-11-09 16:11:08,178 INFO sqlalchemy.engine.Engine [cached since 0.1945s ago] {}\n",
      "2021-11-09 16:11:08,184 INFO sqlalchemy.engine.Engine ROLLBACK\n"
     ]
    },
    {
     "data": {
      "text/plain": [
       "[User(name='Nick', id=709112183126327297, messages=[Message(id=709112187769880577, user_id=709112183126327297, content='99 bottles of beer on the wall...'), Message(id=709112187773157377, user_id=709112183126327297, content='0 bottles of beer on the wall...'), Message(id=709112187773059073, user_id=709112183126327297, content='3 bottles of beer on the wall...'), Message(id=709112187772960769, user_id=709112183126327297, content='6 bottles of beer on the wall...'), Message(id=709112187772862465, user_id=709112183126327297, content='9 bottles of beer on the wall...'), Message(id=709112187772764161, user_id=709112183126327297, content='12 bottles of beer on the wall...'), Message(id=709112187772665857, user_id=709112183126327297, content='15 bottles of beer on the wall...'), Message(id=709112187772567553, user_id=709112183126327297, content='18 bottles of beer on the wall...'), Message(id=709112187772469249, user_id=709112183126327297, content='21 bottles of beer on the wall...'), Message(id=709112187772370945, user_id=709112183126327297, content='24 bottles of beer on the wall...'), Message(id=709112187772272641, user_id=709112183126327297, content='27 bottles of beer on the wall...'), Message(id=709112187772174337, user_id=709112183126327297, content='30 bottles of beer on the wall...'), Message(id=709112187772076033, user_id=709112183126327297, content='33 bottles of beer on the wall...'), Message(id=709112187771977729, user_id=709112183126327297, content='36 bottles of beer on the wall...'), Message(id=709112187771879425, user_id=709112183126327297, content='39 bottles of beer on the wall...'), Message(id=709112187771781121, user_id=709112183126327297, content='42 bottles of beer on the wall...'), Message(id=709112187771682817, user_id=709112183126327297, content='45 bottles of beer on the wall...'), Message(id=709112187771584513, user_id=709112183126327297, content='48 bottles of beer on the wall...'), Message(id=709112187771486209, user_id=709112183126327297, content='51 bottles of beer on the wall...'), Message(id=709112187771387905, user_id=709112183126327297, content='54 bottles of beer on the wall...'), Message(id=709112187771289601, user_id=709112183126327297, content='57 bottles of beer on the wall...'), Message(id=709112187771191297, user_id=709112183126327297, content='60 bottles of beer on the wall...'), Message(id=709112187771092993, user_id=709112183126327297, content='63 bottles of beer on the wall...'), Message(id=709112187770994689, user_id=709112183126327297, content='66 bottles of beer on the wall...'), Message(id=709112187770896385, user_id=709112183126327297, content='69 bottles of beer on the wall...'), Message(id=709112187770798081, user_id=709112183126327297, content='72 bottles of beer on the wall...'), Message(id=709112187770699777, user_id=709112183126327297, content='75 bottles of beer on the wall...'), Message(id=709112187770601473, user_id=709112183126327297, content='78 bottles of beer on the wall...'), Message(id=709112187770503169, user_id=709112183126327297, content='81 bottles of beer on the wall...'), Message(id=709112187770404865, user_id=709112183126327297, content='84 bottles of beer on the wall...'), Message(id=709112187770306561, user_id=709112183126327297, content='87 bottles of beer on the wall...'), Message(id=709112187770208257, user_id=709112183126327297, content='90 bottles of beer on the wall...'), Message(id=709112187770109953, user_id=709112183126327297, content='93 bottles of beer on the wall...'), Message(id=709112187770011649, user_id=709112183126327297, content='96 bottles of beer on the wall...')]),\n",
       " User(name='Eli', id=709112183126392833, messages=[Message(id=709112187769946113, user_id=709112183126392833, content='98 bottles of beer on the wall...'), Message(id=709112187773091841, user_id=709112183126392833, content='2 bottles of beer on the wall...'), Message(id=709112187772993537, user_id=709112183126392833, content='5 bottles of beer on the wall...'), Message(id=709112187772895233, user_id=709112183126392833, content='8 bottles of beer on the wall...'), Message(id=709112187772796929, user_id=709112183126392833, content='11 bottles of beer on the wall...'), Message(id=709112187772698625, user_id=709112183126392833, content='14 bottles of beer on the wall...'), Message(id=709112187772600321, user_id=709112183126392833, content='17 bottles of beer on the wall...'), Message(id=709112187772502017, user_id=709112183126392833, content='20 bottles of beer on the wall...'), Message(id=709112187772403713, user_id=709112183126392833, content='23 bottles of beer on the wall...'), Message(id=709112187772305409, user_id=709112183126392833, content='26 bottles of beer on the wall...'), Message(id=709112187772207105, user_id=709112183126392833, content='29 bottles of beer on the wall...'), Message(id=709112187772108801, user_id=709112183126392833, content='32 bottles of beer on the wall...'), Message(id=709112187772010497, user_id=709112183126392833, content='35 bottles of beer on the wall...'), Message(id=709112187771912193, user_id=709112183126392833, content='38 bottles of beer on the wall...'), Message(id=709112187771813889, user_id=709112183126392833, content='41 bottles of beer on the wall...'), Message(id=709112187771715585, user_id=709112183126392833, content='44 bottles of beer on the wall...'), Message(id=709112187771617281, user_id=709112183126392833, content='47 bottles of beer on the wall...'), Message(id=709112187771518977, user_id=709112183126392833, content='50 bottles of beer on the wall...'), Message(id=709112187771420673, user_id=709112183126392833, content='53 bottles of beer on the wall...'), Message(id=709112187771322369, user_id=709112183126392833, content='56 bottles of beer on the wall...'), Message(id=709112187771224065, user_id=709112183126392833, content='59 bottles of beer on the wall...'), Message(id=709112187771125761, user_id=709112183126392833, content='62 bottles of beer on the wall...'), Message(id=709112187771027457, user_id=709112183126392833, content='65 bottles of beer on the wall...'), Message(id=709112187770929153, user_id=709112183126392833, content='68 bottles of beer on the wall...'), Message(id=709112187770830849, user_id=709112183126392833, content='71 bottles of beer on the wall...'), Message(id=709112187770732545, user_id=709112183126392833, content='74 bottles of beer on the wall...'), Message(id=709112187770634241, user_id=709112183126392833, content='77 bottles of beer on the wall...'), Message(id=709112187770535937, user_id=709112183126392833, content='80 bottles of beer on the wall...'), Message(id=709112187770437633, user_id=709112183126392833, content='83 bottles of beer on the wall...'), Message(id=709112187770339329, user_id=709112183126392833, content='86 bottles of beer on the wall...'), Message(id=709112187770241025, user_id=709112183126392833, content='89 bottles of beer on the wall...'), Message(id=709112187770142721, user_id=709112183126392833, content='92 bottles of beer on the wall...'), Message(id=709112187770044417, user_id=709112183126392833, content='95 bottles of beer on the wall...')]),\n",
       " User(name='Paul', id=709112183126425601, messages=[Message(id=709112187769978881, user_id=709112183126425601, content='97 bottles of beer on the wall...'), Message(id=709112187773124609, user_id=709112183126425601, content='1 bottles of beer on the wall...'), Message(id=709112187773026305, user_id=709112183126425601, content='4 bottles of beer on the wall...'), Message(id=709112187772928001, user_id=709112183126425601, content='7 bottles of beer on the wall...'), Message(id=709112187772829697, user_id=709112183126425601, content='10 bottles of beer on the wall...'), Message(id=709112187772731393, user_id=709112183126425601, content='13 bottles of beer on the wall...'), Message(id=709112187772633089, user_id=709112183126425601, content='16 bottles of beer on the wall...'), Message(id=709112187772534785, user_id=709112183126425601, content='19 bottles of beer on the wall...'), Message(id=709112187772436481, user_id=709112183126425601, content='22 bottles of beer on the wall...'), Message(id=709112187772338177, user_id=709112183126425601, content='25 bottles of beer on the wall...'), Message(id=709112187772239873, user_id=709112183126425601, content='28 bottles of beer on the wall...'), Message(id=709112187772141569, user_id=709112183126425601, content='31 bottles of beer on the wall...'), Message(id=709112187772043265, user_id=709112183126425601, content='34 bottles of beer on the wall...'), Message(id=709112187771944961, user_id=709112183126425601, content='37 bottles of beer on the wall...'), Message(id=709112187771846657, user_id=709112183126425601, content='40 bottles of beer on the wall...'), Message(id=709112187771748353, user_id=709112183126425601, content='43 bottles of beer on the wall...'), Message(id=709112187771650049, user_id=709112183126425601, content='46 bottles of beer on the wall...'), Message(id=709112187771551745, user_id=709112183126425601, content='49 bottles of beer on the wall...'), Message(id=709112187771453441, user_id=709112183126425601, content='52 bottles of beer on the wall...'), Message(id=709112187771355137, user_id=709112183126425601, content='55 bottles of beer on the wall...'), Message(id=709112187771256833, user_id=709112183126425601, content='58 bottles of beer on the wall...'), Message(id=709112187771158529, user_id=709112183126425601, content='61 bottles of beer on the wall...'), Message(id=709112187771060225, user_id=709112183126425601, content='64 bottles of beer on the wall...'), Message(id=709112187770961921, user_id=709112183126425601, content='67 bottles of beer on the wall...'), Message(id=709112187770863617, user_id=709112183126425601, content='70 bottles of beer on the wall...'), Message(id=709112187770765313, user_id=709112183126425601, content='73 bottles of beer on the wall...'), Message(id=709112187770667009, user_id=709112183126425601, content='76 bottles of beer on the wall...'), Message(id=709112187770568705, user_id=709112183126425601, content='79 bottles of beer on the wall...'), Message(id=709112187770470401, user_id=709112183126425601, content='82 bottles of beer on the wall...'), Message(id=709112187770372097, user_id=709112183126425601, content='85 bottles of beer on the wall...'), Message(id=709112187770273793, user_id=709112183126425601, content='88 bottles of beer on the wall...'), Message(id=709112187770175489, user_id=709112183126425601, content='91 bottles of beer on the wall...'), Message(id=709112187770077185, user_id=709112183126425601, content='94 bottles of beer on the wall...')])]"
      ]
     },
     "execution_count": 12,
     "metadata": {},
     "output_type": "execute_result"
    },
    {
     "data": {
      "application/javascript": [
       "\n",
       "            setTimeout(function() {\n",
       "                var nbb_cell_id = 12;\n",
       "                var nbb_unformatted_code = \"with LocalSession() as session:\\n    statement = sa.select(User).options(sa.orm.joinedload(User.messages))\\n    results = session.execute(statement)\\n    users = results.unique().scalars().all()\\nusers\";\n",
       "                var nbb_formatted_code = \"with LocalSession() as session:\\n    statement = sa.select(User).options(sa.orm.joinedload(User.messages))\\n    results = session.execute(statement)\\n    users = results.unique().scalars().all()\\nusers\";\n",
       "                var nbb_cells = Jupyter.notebook.get_cells();\n",
       "                for (var i = 0; i < nbb_cells.length; ++i) {\n",
       "                    if (nbb_cells[i].input_prompt_number == nbb_cell_id) {\n",
       "                        if (nbb_cells[i].get_text() == nbb_unformatted_code) {\n",
       "                             nbb_cells[i].set_text(nbb_formatted_code);\n",
       "                        }\n",
       "                        break;\n",
       "                    }\n",
       "                }\n",
       "            }, 500);\n",
       "            "
      ],
      "text/plain": [
       "<IPython.core.display.Javascript object>"
      ]
     },
     "metadata": {},
     "output_type": "display_data"
    }
   ],
   "source": [
    "with LocalSession() as session:\n",
    "    statement = sa.select(User).options(sa.orm.joinedload(User.messages))\n",
    "    results = session.execute(statement)\n",
    "    users = results.unique().scalars().all()\n",
    "users"
   ]
  },
  {
   "cell_type": "code",
   "execution_count": 13,
   "id": "dfdb1a81",
   "metadata": {
    "ExecuteTime": {
     "end_time": "2021-11-09T16:11:08.434915Z",
     "start_time": "2021-11-09T16:11:08.202550Z"
    }
   },
   "outputs": [
    {
     "data": {
      "text/plain": [
       "'Nick'"
      ]
     },
     "execution_count": 13,
     "metadata": {},
     "output_type": "execute_result"
    },
    {
     "data": {
      "application/javascript": [
       "\n",
       "            setTimeout(function() {\n",
       "                var nbb_cell_id = 13;\n",
       "                var nbb_unformatted_code = \"users[0].name\";\n",
       "                var nbb_formatted_code = \"users[0].name\";\n",
       "                var nbb_cells = Jupyter.notebook.get_cells();\n",
       "                for (var i = 0; i < nbb_cells.length; ++i) {\n",
       "                    if (nbb_cells[i].input_prompt_number == nbb_cell_id) {\n",
       "                        if (nbb_cells[i].get_text() == nbb_unformatted_code) {\n",
       "                             nbb_cells[i].set_text(nbb_formatted_code);\n",
       "                        }\n",
       "                        break;\n",
       "                    }\n",
       "                }\n",
       "            }, 500);\n",
       "            "
      ],
      "text/plain": [
       "<IPython.core.display.Javascript object>"
      ]
     },
     "metadata": {},
     "output_type": "display_data"
    }
   ],
   "source": [
    "users[0].name"
   ]
  },
  {
   "cell_type": "code",
   "execution_count": 14,
   "id": "eb989a81",
   "metadata": {
    "ExecuteTime": {
     "end_time": "2021-11-09T16:11:08.903867Z",
     "start_time": "2021-11-09T16:11:08.437250Z"
    }
   },
   "outputs": [
    {
     "data": {
      "text/plain": [
       "[Message(id=709112187769880577, user_id=709112183126327297, content='99 bottles of beer on the wall...'),\n",
       " Message(id=709112187773157377, user_id=709112183126327297, content='0 bottles of beer on the wall...'),\n",
       " Message(id=709112187773059073, user_id=709112183126327297, content='3 bottles of beer on the wall...'),\n",
       " Message(id=709112187772960769, user_id=709112183126327297, content='6 bottles of beer on the wall...'),\n",
       " Message(id=709112187772862465, user_id=709112183126327297, content='9 bottles of beer on the wall...')]"
      ]
     },
     "execution_count": 14,
     "metadata": {},
     "output_type": "execute_result"
    },
    {
     "data": {
      "application/javascript": [
       "\n",
       "            setTimeout(function() {\n",
       "                var nbb_cell_id = 14;\n",
       "                var nbb_unformatted_code = \"users[0].messages[:5]\";\n",
       "                var nbb_formatted_code = \"users[0].messages[:5]\";\n",
       "                var nbb_cells = Jupyter.notebook.get_cells();\n",
       "                for (var i = 0; i < nbb_cells.length; ++i) {\n",
       "                    if (nbb_cells[i].input_prompt_number == nbb_cell_id) {\n",
       "                        if (nbb_cells[i].get_text() == nbb_unformatted_code) {\n",
       "                             nbb_cells[i].set_text(nbb_formatted_code);\n",
       "                        }\n",
       "                        break;\n",
       "                    }\n",
       "                }\n",
       "            }, 500);\n",
       "            "
      ],
      "text/plain": [
       "<IPython.core.display.Javascript object>"
      ]
     },
     "metadata": {},
     "output_type": "display_data"
    }
   ],
   "source": [
    "users[0].messages[:5]"
   ]
  },
  {
   "cell_type": "code",
   "execution_count": 15,
   "id": "4ad64ccf",
   "metadata": {
    "ExecuteTime": {
     "end_time": "2021-11-09T16:11:09.077351Z",
     "start_time": "2021-11-09T16:11:08.906574Z"
    }
   },
   "outputs": [
    {
     "name": "stdout",
     "output_type": "stream",
     "text": [
      "99 bottles of beer on the wall...\n",
      "0 bottles of beer on the wall...\n",
      "3 bottles of beer on the wall...\n",
      "6 bottles of beer on the wall...\n",
      "9 bottles of beer on the wall...\n"
     ]
    },
    {
     "data": {
      "application/javascript": [
       "\n",
       "            setTimeout(function() {\n",
       "                var nbb_cell_id = 15;\n",
       "                var nbb_unformatted_code = \"for m in users[0].messages[:5]:\\n    print(m.content)\";\n",
       "                var nbb_formatted_code = \"for m in users[0].messages[:5]:\\n    print(m.content)\";\n",
       "                var nbb_cells = Jupyter.notebook.get_cells();\n",
       "                for (var i = 0; i < nbb_cells.length; ++i) {\n",
       "                    if (nbb_cells[i].input_prompt_number == nbb_cell_id) {\n",
       "                        if (nbb_cells[i].get_text() == nbb_unformatted_code) {\n",
       "                             nbb_cells[i].set_text(nbb_formatted_code);\n",
       "                        }\n",
       "                        break;\n",
       "                    }\n",
       "                }\n",
       "            }, 500);\n",
       "            "
      ],
      "text/plain": [
       "<IPython.core.display.Javascript object>"
      ]
     },
     "metadata": {},
     "output_type": "display_data"
    }
   ],
   "source": [
    "for m in users[0].messages[:5]:\n",
    "    print(m.content)"
   ]
  },
  {
   "cell_type": "markdown",
   "id": "de7d0d8b",
   "metadata": {},
   "source": [
    "#### Chained statement example"
   ]
  },
  {
   "cell_type": "code",
   "execution_count": 16,
   "id": "facc515c",
   "metadata": {
    "ExecuteTime": {
     "end_time": "2021-11-09T16:11:09.318631Z",
     "start_time": "2021-11-09T16:11:09.079457Z"
    },
    "scrolled": true
   },
   "outputs": [
    {
     "name": "stdout",
     "output_type": "stream",
     "text": [
      "2021-11-09 16:11:09,287 INFO sqlalchemy.engine.Engine BEGIN (implicit)\n",
      "2021-11-09 16:11:09,290 INFO sqlalchemy.engine.Engine SELECT \"user\".id, \"user\".name \n",
      "FROM \"user\" \n",
      "WHERE \"user\".name = %(name_1)s\n",
      "2021-11-09 16:11:09,290 INFO sqlalchemy.engine.Engine [generated in 0.00074s] {'name_1': 'Eli'}\n",
      "2021-11-09 16:11:09,296 INFO sqlalchemy.engine.Engine SELECT message.user_id AS message_user_id, message.id AS message_id, message.content AS message_content \n",
      "FROM message \n",
      "WHERE message.user_id IN (%(primary_keys_1)s)\n",
      "2021-11-09 16:11:09,297 INFO sqlalchemy.engine.Engine [generated in 0.00159s] {'primary_keys_1': 709112183126392833}\n",
      "2021-11-09 16:11:09,302 INFO sqlalchemy.engine.Engine ROLLBACK\n"
     ]
    },
    {
     "data": {
      "text/plain": [
       "User(name='Eli', id=709112183126392833, messages=[Message(id=709112187769946113, user_id=709112183126392833, content='98 bottles of beer on the wall...'), Message(id=709112187770044417, user_id=709112183126392833, content='95 bottles of beer on the wall...'), Message(id=709112187770142721, user_id=709112183126392833, content='92 bottles of beer on the wall...'), Message(id=709112187770241025, user_id=709112183126392833, content='89 bottles of beer on the wall...'), Message(id=709112187770339329, user_id=709112183126392833, content='86 bottles of beer on the wall...'), Message(id=709112187770437633, user_id=709112183126392833, content='83 bottles of beer on the wall...'), Message(id=709112187770535937, user_id=709112183126392833, content='80 bottles of beer on the wall...'), Message(id=709112187770634241, user_id=709112183126392833, content='77 bottles of beer on the wall...'), Message(id=709112187770732545, user_id=709112183126392833, content='74 bottles of beer on the wall...'), Message(id=709112187770830849, user_id=709112183126392833, content='71 bottles of beer on the wall...'), Message(id=709112187770929153, user_id=709112183126392833, content='68 bottles of beer on the wall...'), Message(id=709112187771027457, user_id=709112183126392833, content='65 bottles of beer on the wall...'), Message(id=709112187771125761, user_id=709112183126392833, content='62 bottles of beer on the wall...'), Message(id=709112187771224065, user_id=709112183126392833, content='59 bottles of beer on the wall...'), Message(id=709112187771322369, user_id=709112183126392833, content='56 bottles of beer on the wall...'), Message(id=709112187771420673, user_id=709112183126392833, content='53 bottles of beer on the wall...'), Message(id=709112187771518977, user_id=709112183126392833, content='50 bottles of beer on the wall...'), Message(id=709112187771617281, user_id=709112183126392833, content='47 bottles of beer on the wall...'), Message(id=709112187771715585, user_id=709112183126392833, content='44 bottles of beer on the wall...'), Message(id=709112187771813889, user_id=709112183126392833, content='41 bottles of beer on the wall...'), Message(id=709112187771912193, user_id=709112183126392833, content='38 bottles of beer on the wall...'), Message(id=709112187772010497, user_id=709112183126392833, content='35 bottles of beer on the wall...'), Message(id=709112187772108801, user_id=709112183126392833, content='32 bottles of beer on the wall...'), Message(id=709112187772207105, user_id=709112183126392833, content='29 bottles of beer on the wall...'), Message(id=709112187772305409, user_id=709112183126392833, content='26 bottles of beer on the wall...'), Message(id=709112187772403713, user_id=709112183126392833, content='23 bottles of beer on the wall...'), Message(id=709112187772502017, user_id=709112183126392833, content='20 bottles of beer on the wall...'), Message(id=709112187772600321, user_id=709112183126392833, content='17 bottles of beer on the wall...'), Message(id=709112187772698625, user_id=709112183126392833, content='14 bottles of beer on the wall...'), Message(id=709112187772796929, user_id=709112183126392833, content='11 bottles of beer on the wall...'), Message(id=709112187772895233, user_id=709112183126392833, content='8 bottles of beer on the wall...'), Message(id=709112187772993537, user_id=709112183126392833, content='5 bottles of beer on the wall...'), Message(id=709112187773091841, user_id=709112183126392833, content='2 bottles of beer on the wall...')])"
      ]
     },
     "execution_count": 16,
     "metadata": {},
     "output_type": "execute_result"
    },
    {
     "data": {
      "application/javascript": [
       "\n",
       "            setTimeout(function() {\n",
       "                var nbb_cell_id = 16;\n",
       "                var nbb_unformatted_code = \"with LocalSession() as session:\\n    statement = sa.select(User)\\n    statement = statement.where(User.name == \\\"Eli\\\")\\n    statement = statement.options(sa.orm.selectinload(User.messages))\\n    results = session.execute(statement)\\n    user = results.scalars().first()\\n    \\nuser\";\n",
       "                var nbb_formatted_code = \"with LocalSession() as session:\\n    statement = sa.select(User)\\n    statement = statement.where(User.name == \\\"Eli\\\")\\n    statement = statement.options(sa.orm.selectinload(User.messages))\\n    results = session.execute(statement)\\n    user = results.scalars().first()\\n\\nuser\";\n",
       "                var nbb_cells = Jupyter.notebook.get_cells();\n",
       "                for (var i = 0; i < nbb_cells.length; ++i) {\n",
       "                    if (nbb_cells[i].input_prompt_number == nbb_cell_id) {\n",
       "                        if (nbb_cells[i].get_text() == nbb_unformatted_code) {\n",
       "                             nbb_cells[i].set_text(nbb_formatted_code);\n",
       "                        }\n",
       "                        break;\n",
       "                    }\n",
       "                }\n",
       "            }, 500);\n",
       "            "
      ],
      "text/plain": [
       "<IPython.core.display.Javascript object>"
      ]
     },
     "metadata": {},
     "output_type": "display_data"
    }
   ],
   "source": [
    "with LocalSession() as session:\n",
    "    statement = sa.select(User)\n",
    "    statement = statement.where(User.name == \"Eli\")\n",
    "    statement = statement.options(sa.orm.selectinload(User.messages))\n",
    "    results = session.execute(statement)\n",
    "    user = results.scalars().first()\n",
    "\n",
    "user"
   ]
  },
  {
   "cell_type": "code",
   "execution_count": 17,
   "id": "c42aaf74",
   "metadata": {
    "ExecuteTime": {
     "end_time": "2021-11-09T16:11:09.501944Z",
     "start_time": "2021-11-09T16:11:09.321707Z"
    }
   },
   "outputs": [
    {
     "data": {
      "text/plain": [
       "'Eli'"
      ]
     },
     "execution_count": 17,
     "metadata": {},
     "output_type": "execute_result"
    },
    {
     "data": {
      "application/javascript": [
       "\n",
       "            setTimeout(function() {\n",
       "                var nbb_cell_id = 17;\n",
       "                var nbb_unformatted_code = \"user.name\";\n",
       "                var nbb_formatted_code = \"user.name\";\n",
       "                var nbb_cells = Jupyter.notebook.get_cells();\n",
       "                for (var i = 0; i < nbb_cells.length; ++i) {\n",
       "                    if (nbb_cells[i].input_prompt_number == nbb_cell_id) {\n",
       "                        if (nbb_cells[i].get_text() == nbb_unformatted_code) {\n",
       "                             nbb_cells[i].set_text(nbb_formatted_code);\n",
       "                        }\n",
       "                        break;\n",
       "                    }\n",
       "                }\n",
       "            }, 500);\n",
       "            "
      ],
      "text/plain": [
       "<IPython.core.display.Javascript object>"
      ]
     },
     "metadata": {},
     "output_type": "display_data"
    }
   ],
   "source": [
    "user.name"
   ]
  },
  {
   "cell_type": "code",
   "execution_count": 18,
   "id": "db5e27e8",
   "metadata": {
    "ExecuteTime": {
     "end_time": "2021-11-09T16:11:09.860176Z",
     "start_time": "2021-11-09T16:11:09.504389Z"
    }
   },
   "outputs": [
    {
     "name": "stdout",
     "output_type": "stream",
     "text": [
      "98 bottles of beer on the wall...\n",
      "95 bottles of beer on the wall...\n",
      "92 bottles of beer on the wall...\n",
      "89 bottles of beer on the wall...\n",
      "86 bottles of beer on the wall...\n"
     ]
    },
    {
     "data": {
      "application/javascript": [
       "\n",
       "            setTimeout(function() {\n",
       "                var nbb_cell_id = 18;\n",
       "                var nbb_unformatted_code = \"for m in user.messages[:5]:\\n    print(m.content)\";\n",
       "                var nbb_formatted_code = \"for m in user.messages[:5]:\\n    print(m.content)\";\n",
       "                var nbb_cells = Jupyter.notebook.get_cells();\n",
       "                for (var i = 0; i < nbb_cells.length; ++i) {\n",
       "                    if (nbb_cells[i].input_prompt_number == nbb_cell_id) {\n",
       "                        if (nbb_cells[i].get_text() == nbb_unformatted_code) {\n",
       "                             nbb_cells[i].set_text(nbb_formatted_code);\n",
       "                        }\n",
       "                        break;\n",
       "                    }\n",
       "                }\n",
       "            }, 500);\n",
       "            "
      ],
      "text/plain": [
       "<IPython.core.display.Javascript object>"
      ]
     },
     "metadata": {},
     "output_type": "display_data"
    }
   ],
   "source": [
    "for m in user.messages[:5]:\n",
    "    print(m.content)"
   ]
  },
  {
   "cell_type": "markdown",
   "id": "f8342d61",
   "metadata": {},
   "source": [
    "### Using classmethod queries"
   ]
  },
  {
   "cell_type": "code",
   "execution_count": 19,
   "id": "1d23d662",
   "metadata": {
    "ExecuteTime": {
     "end_time": "2021-11-09T16:11:10.232346Z",
     "start_time": "2021-11-09T16:11:09.863121Z"
    }
   },
   "outputs": [
    {
     "name": "stdout",
     "output_type": "stream",
     "text": [
      "2021-11-09 16:11:10,212 INFO sqlalchemy.engine.Engine BEGIN (implicit)\n",
      "2021-11-09 16:11:10,214 INFO sqlalchemy.engine.Engine SELECT message.id, message.content, message.user_id \n",
      "FROM message JOIN \"user\" ON \"user\".id = message.user_id \n",
      "WHERE \"user\".name = %(name_1)s\n",
      "2021-11-09 16:11:10,214 INFO sqlalchemy.engine.Engine [generated in 0.00070s] {'name_1': 'Eli'}\n",
      "2021-11-09 16:11:10,220 INFO sqlalchemy.engine.Engine ROLLBACK\n"
     ]
    },
    {
     "data": {
      "text/plain": [
       "33"
      ]
     },
     "execution_count": 19,
     "metadata": {},
     "output_type": "execute_result"
    },
    {
     "data": {
      "application/javascript": [
       "\n",
       "            setTimeout(function() {\n",
       "                var nbb_cell_id = 19;\n",
       "                var nbb_unformatted_code = \"with LocalSession() as session:\\n    messages = Message.from_user(session, \\\"Eli\\\")\\n\\nlen(messages)\";\n",
       "                var nbb_formatted_code = \"with LocalSession() as session:\\n    messages = Message.from_user(session, \\\"Eli\\\")\\n\\nlen(messages)\";\n",
       "                var nbb_cells = Jupyter.notebook.get_cells();\n",
       "                for (var i = 0; i < nbb_cells.length; ++i) {\n",
       "                    if (nbb_cells[i].input_prompt_number == nbb_cell_id) {\n",
       "                        if (nbb_cells[i].get_text() == nbb_unformatted_code) {\n",
       "                             nbb_cells[i].set_text(nbb_formatted_code);\n",
       "                        }\n",
       "                        break;\n",
       "                    }\n",
       "                }\n",
       "            }, 500);\n",
       "            "
      ],
      "text/plain": [
       "<IPython.core.display.Javascript object>"
      ]
     },
     "metadata": {},
     "output_type": "display_data"
    }
   ],
   "source": [
    "with LocalSession() as session:\n",
    "    messages = Message.from_user(session, \"Eli\")\n",
    "\n",
    "len(messages)"
   ]
  },
  {
   "cell_type": "code",
   "execution_count": 20,
   "id": "3d451f9d",
   "metadata": {
    "ExecuteTime": {
     "end_time": "2021-11-09T16:11:10.792645Z",
     "start_time": "2021-11-09T16:11:10.235335Z"
    }
   },
   "outputs": [
    {
     "data": {
      "text/plain": [
       "[Message(id=709112187769946113, user_id=709112183126392833, content='98 bottles of beer on the wall...'),\n",
       " Message(id=709112187770044417, user_id=709112183126392833, content='95 bottles of beer on the wall...'),\n",
       " Message(id=709112187770142721, user_id=709112183126392833, content='92 bottles of beer on the wall...'),\n",
       " Message(id=709112187770241025, user_id=709112183126392833, content='89 bottles of beer on the wall...'),\n",
       " Message(id=709112187770339329, user_id=709112183126392833, content='86 bottles of beer on the wall...')]"
      ]
     },
     "execution_count": 20,
     "metadata": {},
     "output_type": "execute_result"
    },
    {
     "data": {
      "application/javascript": [
       "\n",
       "            setTimeout(function() {\n",
       "                var nbb_cell_id = 20;\n",
       "                var nbb_unformatted_code = \"messages[:5]\";\n",
       "                var nbb_formatted_code = \"messages[:5]\";\n",
       "                var nbb_cells = Jupyter.notebook.get_cells();\n",
       "                for (var i = 0; i < nbb_cells.length; ++i) {\n",
       "                    if (nbb_cells[i].input_prompt_number == nbb_cell_id) {\n",
       "                        if (nbb_cells[i].get_text() == nbb_unformatted_code) {\n",
       "                             nbb_cells[i].set_text(nbb_formatted_code);\n",
       "                        }\n",
       "                        break;\n",
       "                    }\n",
       "                }\n",
       "            }, 500);\n",
       "            "
      ],
      "text/plain": [
       "<IPython.core.display.Javascript object>"
      ]
     },
     "metadata": {},
     "output_type": "display_data"
    }
   ],
   "source": [
    "messages[:5]"
   ]
  },
  {
   "cell_type": "code",
   "execution_count": null,
   "id": "273df92e",
   "metadata": {},
   "outputs": [],
   "source": []
  }
 ],
 "metadata": {
  "kernelspec": {
   "display_name": "Python 3 (ipykernel)",
   "language": "python",
   "name": "python3"
  },
  "language_info": {
   "codemirror_mode": {
    "name": "ipython",
    "version": 3
   },
   "file_extension": ".py",
   "mimetype": "text/x-python",
   "name": "python",
   "nbconvert_exporter": "python",
   "pygments_lexer": "ipython3",
   "version": "3.9.7"
  },
  "toc": {
   "base_numbering": 1,
   "nav_menu": {},
   "number_sections": true,
   "sideBar": true,
   "skip_h1_title": false,
   "title_cell": "Table of Contents",
   "title_sidebar": "Contents",
   "toc_cell": false,
   "toc_position": {},
   "toc_section_display": true,
   "toc_window_display": true
  }
 },
 "nbformat": 4,
 "nbformat_minor": 5
}
