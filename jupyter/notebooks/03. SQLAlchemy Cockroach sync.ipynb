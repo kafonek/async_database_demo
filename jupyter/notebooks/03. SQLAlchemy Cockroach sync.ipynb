{
 "cells": [
  {
   "cell_type": "markdown",
   "id": "431e0682",
   "metadata": {},
   "source": [
    "### Notebook setup"
   ]
  },
  {
   "cell_type": "code",
   "execution_count": 1,
   "id": "5f5546e9",
   "metadata": {
    "ExecuteTime": {
     "end_time": "2021-10-19T13:11:07.462704Z",
     "start_time": "2021-10-19T13:11:07.346495Z"
    }
   },
   "outputs": [
    {
     "data": {
      "application/javascript": [
       "\n",
       "            setTimeout(function() {\n",
       "                var nbb_cell_id = 1;\n",
       "                var nbb_unformatted_code = \"%load_ext nb_black\";\n",
       "                var nbb_formatted_code = \"%load_ext nb_black\";\n",
       "                var nbb_cells = Jupyter.notebook.get_cells();\n",
       "                for (var i = 0; i < nbb_cells.length; ++i) {\n",
       "                    if (nbb_cells[i].input_prompt_number == nbb_cell_id) {\n",
       "                        if (nbb_cells[i].get_text() == nbb_unformatted_code) {\n",
       "                             nbb_cells[i].set_text(nbb_formatted_code);\n",
       "                        }\n",
       "                        break;\n",
       "                    }\n",
       "                }\n",
       "            }, 500);\n",
       "            "
      ],
      "text/plain": [
       "<IPython.core.display.Javascript object>"
      ]
     },
     "metadata": {},
     "output_type": "display_data"
    }
   ],
   "source": [
    "%load_ext nb_black"
   ]
  },
  {
   "cell_type": "markdown",
   "id": "7e0aa863",
   "metadata": {},
   "source": [
    "### Create Engine/Session"
   ]
  },
  {
   "cell_type": "code",
   "execution_count": 2,
   "id": "e024348c",
   "metadata": {
    "ExecuteTime": {
     "end_time": "2021-10-19T13:11:08.472501Z",
     "start_time": "2021-10-19T13:11:07.465500Z"
    }
   },
   "outputs": [
    {
     "data": {
      "text/plain": [
       "Engine(cockroachdb://root@cockroach:26257/defaultdb?sslmode=disable)"
      ]
     },
     "execution_count": 2,
     "metadata": {},
     "output_type": "execute_result"
    },
    {
     "data": {
      "application/javascript": [
       "\n",
       "            setTimeout(function() {\n",
       "                var nbb_cell_id = 2;\n",
       "                var nbb_unformatted_code = \"import sqlalchemy as sa\\nimport sqlalchemy.orm\\n\\nengine = sa.create_engine(\\n    \\\"cockroachdb://root@cockroach:26257/defaultdb?sslmode=disable\\\", echo=True\\n)\\nengine\";\n",
       "                var nbb_formatted_code = \"import sqlalchemy as sa\\nimport sqlalchemy.orm\\n\\nengine = sa.create_engine(\\n    \\\"cockroachdb://root@cockroach:26257/defaultdb?sslmode=disable\\\", echo=True\\n)\\nengine\";\n",
       "                var nbb_cells = Jupyter.notebook.get_cells();\n",
       "                for (var i = 0; i < nbb_cells.length; ++i) {\n",
       "                    if (nbb_cells[i].input_prompt_number == nbb_cell_id) {\n",
       "                        if (nbb_cells[i].get_text() == nbb_unformatted_code) {\n",
       "                             nbb_cells[i].set_text(nbb_formatted_code);\n",
       "                        }\n",
       "                        break;\n",
       "                    }\n",
       "                }\n",
       "            }, 500);\n",
       "            "
      ],
      "text/plain": [
       "<IPython.core.display.Javascript object>"
      ]
     },
     "metadata": {},
     "output_type": "display_data"
    }
   ],
   "source": [
    "import sqlalchemy as sa\n",
    "import sqlalchemy.orm\n",
    "\n",
    "engine = sa.create_engine(\n",
    "    \"cockroachdb://root@cockroach:26257/defaultdb?sslmode=disable\", echo=True\n",
    ")\n",
    "engine"
   ]
  },
  {
   "cell_type": "code",
   "execution_count": 3,
   "id": "a84fa3c2",
   "metadata": {
    "ExecuteTime": {
     "end_time": "2021-10-19T13:11:09.031091Z",
     "start_time": "2021-10-19T13:11:08.475038Z"
    }
   },
   "outputs": [
    {
     "data": {
      "text/plain": [
       "sessionmaker(class_='Session', bind=Engine(cockroachdb://root@cockroach:26257/defaultdb?sslmode=disable), autoflush=True, autocommit=False, expire_on_commit=True)"
      ]
     },
     "execution_count": 3,
     "metadata": {},
     "output_type": "execute_result"
    },
    {
     "data": {
      "application/javascript": [
       "\n",
       "            setTimeout(function() {\n",
       "                var nbb_cell_id = 3;\n",
       "                var nbb_unformatted_code = \"LocalSession = sa.orm.sessionmaker(engine)\\nLocalSession\";\n",
       "                var nbb_formatted_code = \"LocalSession = sa.orm.sessionmaker(engine)\\nLocalSession\";\n",
       "                var nbb_cells = Jupyter.notebook.get_cells();\n",
       "                for (var i = 0; i < nbb_cells.length; ++i) {\n",
       "                    if (nbb_cells[i].input_prompt_number == nbb_cell_id) {\n",
       "                        if (nbb_cells[i].get_text() == nbb_unformatted_code) {\n",
       "                             nbb_cells[i].set_text(nbb_formatted_code);\n",
       "                        }\n",
       "                        break;\n",
       "                    }\n",
       "                }\n",
       "            }, 500);\n",
       "            "
      ],
      "text/plain": [
       "<IPython.core.display.Javascript object>"
      ]
     },
     "metadata": {},
     "output_type": "display_data"
    }
   ],
   "source": [
    "LocalSession = sa.orm.sessionmaker(engine)\n",
    "LocalSession"
   ]
  },
  {
   "cell_type": "markdown",
   "id": "accce803",
   "metadata": {},
   "source": [
    "### Cockroachdb cluster id"
   ]
  },
  {
   "cell_type": "code",
   "execution_count": 4,
   "id": "c4816a18",
   "metadata": {
    "ExecuteTime": {
     "end_time": "2021-10-19T13:11:09.824388Z",
     "start_time": "2021-10-19T13:11:09.034805Z"
    }
   },
   "outputs": [
    {
     "name": "stdout",
     "output_type": "stream",
     "text": [
      "2021-10-19 13:11:09,709 INFO sqlalchemy.engine.Engine select current_schema()\n",
      "2021-10-19 13:11:09,710 INFO sqlalchemy.engine.Engine [raw sql] {}\n",
      "2021-10-19 13:11:09,713 INFO sqlalchemy.engine.Engine select version()\n",
      "2021-10-19 13:11:09,714 INFO sqlalchemy.engine.Engine [generated in 0.00122s] {}\n",
      "2021-10-19 13:11:09,803 INFO sqlalchemy.engine.Engine SELECT crdb_internal.increment_feature_counter(%(val)s)\n",
      "2021-10-19 13:11:09,803 INFO sqlalchemy.engine.Engine [generated in 0.00090s] {'val': 'sqlalchemy-cockroachdb 1.4.1'}\n",
      "2021-10-19 13:11:09,805 INFO sqlalchemy.engine.Engine SELECT crdb_internal.increment_feature_counter(%(val)s)\n",
      "2021-10-19 13:11:09,806 INFO sqlalchemy.engine.Engine [cached since 0.003056s ago] {'val': 'sqlalchemy 1.4.25'}\n",
      "2021-10-19 13:11:09,808 INFO sqlalchemy.engine.Engine BEGIN (implicit)\n",
      "2021-10-19 13:11:09,809 INFO sqlalchemy.engine.Engine SELECT value FROM crdb_internal.node_build_info WHERE field = 'ClusterID';\n",
      "2021-10-19 13:11:09,810 INFO sqlalchemy.engine.Engine [generated in 0.00078s] {}\n",
      "2021-10-19 13:11:09,812 INFO sqlalchemy.engine.Engine ROLLBACK\n"
     ]
    },
    {
     "data": {
      "text/plain": [
       "('fbe0e6ed-49b9-4f47-a7ec-3f4ee14e978d',)"
      ]
     },
     "execution_count": 4,
     "metadata": {},
     "output_type": "execute_result"
    },
    {
     "data": {
      "application/javascript": [
       "\n",
       "            setTimeout(function() {\n",
       "                var nbb_cell_id = 4;\n",
       "                var nbb_unformatted_code = \"with LocalSession() as session:\\n    statement = sa.text(\\n        \\\"SELECT value FROM crdb_internal.node_build_info WHERE field = 'ClusterID';\\\"\\n    )\\n    result = session.execute(statement)\\n\\nresult.first()\";\n",
       "                var nbb_formatted_code = \"with LocalSession() as session:\\n    statement = sa.text(\\n        \\\"SELECT value FROM crdb_internal.node_build_info WHERE field = 'ClusterID';\\\"\\n    )\\n    result = session.execute(statement)\\n\\nresult.first()\";\n",
       "                var nbb_cells = Jupyter.notebook.get_cells();\n",
       "                for (var i = 0; i < nbb_cells.length; ++i) {\n",
       "                    if (nbb_cells[i].input_prompt_number == nbb_cell_id) {\n",
       "                        if (nbb_cells[i].get_text() == nbb_unformatted_code) {\n",
       "                             nbb_cells[i].set_text(nbb_formatted_code);\n",
       "                        }\n",
       "                        break;\n",
       "                    }\n",
       "                }\n",
       "            }, 500);\n",
       "            "
      ],
      "text/plain": [
       "<IPython.core.display.Javascript object>"
      ]
     },
     "metadata": {},
     "output_type": "display_data"
    }
   ],
   "source": [
    "with LocalSession() as session:\n",
    "    statement = sa.text(\n",
    "        \"SELECT value FROM crdb_internal.node_build_info WHERE field = 'ClusterID';\"\n",
    "    )\n",
    "    result = session.execute(statement)\n",
    "\n",
    "result.first()"
   ]
  },
  {
   "cell_type": "markdown",
   "id": "97e08b64",
   "metadata": {},
   "source": [
    "### Drop/Create tables"
   ]
  },
  {
   "cell_type": "code",
   "execution_count": 5,
   "id": "6867dc26",
   "metadata": {
    "ExecuteTime": {
     "end_time": "2021-10-19T13:11:17.051609Z",
     "start_time": "2021-10-19T13:11:09.826352Z"
    }
   },
   "outputs": [
    {
     "name": "stdout",
     "output_type": "stream",
     "text": [
      "2021-10-19 13:11:10,402 INFO sqlalchemy.engine.Engine BEGIN (implicit)\n",
      "2021-10-19 13:11:10,403 INFO sqlalchemy.engine.Engine SELECT table_name FROM information_schema.tables WHERE table_schema=%(schema)s\n",
      "2021-10-19 13:11:10,404 INFO sqlalchemy.engine.Engine [generated in 0.00102s] {'schema': 'public'}\n",
      "2021-10-19 13:11:10,412 INFO sqlalchemy.engine.Engine SELECT table_name FROM information_schema.tables WHERE table_schema=%(schema)s\n",
      "2021-10-19 13:11:10,413 INFO sqlalchemy.engine.Engine [cached since 0.009945s ago] {'schema': 'public'}\n",
      "2021-10-19 13:11:10,417 INFO sqlalchemy.engine.Engine COMMIT\n",
      "2021-10-19 13:11:10,418 INFO sqlalchemy.engine.Engine BEGIN (implicit)\n",
      "2021-10-19 13:11:10,419 INFO sqlalchemy.engine.Engine SELECT table_name FROM information_schema.tables WHERE table_schema=%(schema)s\n",
      "2021-10-19 13:11:10,421 INFO sqlalchemy.engine.Engine [cached since 0.01737s ago] {'schema': 'public'}\n",
      "2021-10-19 13:11:10,428 INFO sqlalchemy.engine.Engine SELECT table_name FROM information_schema.tables WHERE table_schema=%(schema)s\n",
      "2021-10-19 13:11:10,429 INFO sqlalchemy.engine.Engine [cached since 0.02588s ago] {'schema': 'public'}\n",
      "2021-10-19 13:11:10,433 INFO sqlalchemy.engine.Engine \n",
      "CREATE TABLE \"user\" (\n",
      "\tid SERIAL, \n",
      "\tname VARCHAR NOT NULL, \n",
      "\tPRIMARY KEY (id)\n",
      ")\n",
      "\n",
      "\n",
      "2021-10-19 13:11:10,434 INFO sqlalchemy.engine.Engine [no key 0.00132s] {}\n",
      "2021-10-19 13:11:11,058 INFO sqlalchemy.engine.Engine CREATE INDEX ix_user_name ON \"user\" (name)\n",
      "2021-10-19 13:11:11,059 INFO sqlalchemy.engine.Engine [no key 0.00107s] {}\n",
      "2021-10-19 13:11:11,498 INFO sqlalchemy.engine.Engine CREATE INDEX ix_user_id ON \"user\" (id)\n",
      "2021-10-19 13:11:11,499 INFO sqlalchemy.engine.Engine [no key 0.00103s] {}\n",
      "2021-10-19 13:11:12,565 INFO sqlalchemy.engine.Engine \n",
      "CREATE TABLE message (\n",
      "\tid SERIAL, \n",
      "\tcontent VARCHAR NOT NULL, \n",
      "\tuser_id INTEGER, \n",
      "\tPRIMARY KEY (id), \n",
      "\tFOREIGN KEY(user_id) REFERENCES \"user\" (id)\n",
      ")\n",
      "\n",
      "\n",
      "2021-10-19 13:11:12,567 INFO sqlalchemy.engine.Engine [no key 0.00166s] {}\n",
      "2021-10-19 13:11:14,309 INFO sqlalchemy.engine.Engine CREATE INDEX ix_message_content ON message (content)\n",
      "2021-10-19 13:11:14,310 INFO sqlalchemy.engine.Engine [no key 0.00085s] {}\n",
      "2021-10-19 13:11:14,314 INFO sqlalchemy.engine.Engine CREATE INDEX ix_message_id ON message (id)\n",
      "2021-10-19 13:11:14,316 INFO sqlalchemy.engine.Engine [no key 0.00162s] {}\n",
      "2021-10-19 13:11:14,998 INFO sqlalchemy.engine.Engine CREATE INDEX ix_message_user_id ON message (user_id)\n",
      "2021-10-19 13:11:14,999 INFO sqlalchemy.engine.Engine [no key 0.00093s] {}\n",
      "2021-10-19 13:11:15,366 INFO sqlalchemy.engine.Engine COMMIT\n"
     ]
    },
    {
     "data": {
      "application/javascript": [
       "\n",
       "            setTimeout(function() {\n",
       "                var nbb_cell_id = 5;\n",
       "                var nbb_unformatted_code = \"from models import Base, User, Message\\n\\nBase.metadata.drop_all(engine)\\nBase.metadata.create_all(engine)\";\n",
       "                var nbb_formatted_code = \"from models import Base, User, Message\\n\\nBase.metadata.drop_all(engine)\\nBase.metadata.create_all(engine)\";\n",
       "                var nbb_cells = Jupyter.notebook.get_cells();\n",
       "                for (var i = 0; i < nbb_cells.length; ++i) {\n",
       "                    if (nbb_cells[i].input_prompt_number == nbb_cell_id) {\n",
       "                        if (nbb_cells[i].get_text() == nbb_unformatted_code) {\n",
       "                             nbb_cells[i].set_text(nbb_formatted_code);\n",
       "                        }\n",
       "                        break;\n",
       "                    }\n",
       "                }\n",
       "            }, 500);\n",
       "            "
      ],
      "text/plain": [
       "<IPython.core.display.Javascript object>"
      ]
     },
     "metadata": {},
     "output_type": "display_data"
    }
   ],
   "source": [
    "from models import Base, User, Message\n",
    "\n",
    "Base.metadata.drop_all(engine)\n",
    "Base.metadata.create_all(engine)"
   ]
  },
  {
   "cell_type": "markdown",
   "id": "19da74c3",
   "metadata": {},
   "source": [
    "### Add data\n",
    "\n",
    "Nick, Eli, and Paul sing 99 bottles of beer..."
   ]
  },
  {
   "cell_type": "code",
   "execution_count": 6,
   "id": "b8bc89c2",
   "metadata": {
    "ExecuteTime": {
     "end_time": "2021-10-19T13:11:17.072640Z",
     "start_time": "2021-10-19T13:11:17.053744Z"
    }
   },
   "outputs": [
    {
     "data": {
      "text/plain": [
       "[User(id=None, name='Nick'),\n",
       " User(id=None, name='Eli'),\n",
       " User(id=None, name='Paul')]"
      ]
     },
     "execution_count": 6,
     "metadata": {},
     "output_type": "execute_result"
    },
    {
     "data": {
      "application/javascript": [
       "\n",
       "            setTimeout(function() {\n",
       "                var nbb_cell_id = 6;\n",
       "                var nbb_unformatted_code = \"users = [User(name=\\\"Nick\\\"), User(name=\\\"Eli\\\"), User(name=\\\"Paul\\\")]\\nusers\";\n",
       "                var nbb_formatted_code = \"users = [User(name=\\\"Nick\\\"), User(name=\\\"Eli\\\"), User(name=\\\"Paul\\\")]\\nusers\";\n",
       "                var nbb_cells = Jupyter.notebook.get_cells();\n",
       "                for (var i = 0; i < nbb_cells.length; ++i) {\n",
       "                    if (nbb_cells[i].input_prompt_number == nbb_cell_id) {\n",
       "                        if (nbb_cells[i].get_text() == nbb_unformatted_code) {\n",
       "                             nbb_cells[i].set_text(nbb_formatted_code);\n",
       "                        }\n",
       "                        break;\n",
       "                    }\n",
       "                }\n",
       "            }, 500);\n",
       "            "
      ],
      "text/plain": [
       "<IPython.core.display.Javascript object>"
      ]
     },
     "metadata": {},
     "output_type": "display_data"
    }
   ],
   "source": [
    "users = [User(name=\"Nick\"), User(name=\"Eli\"), User(name=\"Paul\")]\n",
    "users"
   ]
  },
  {
   "cell_type": "code",
   "execution_count": 7,
   "id": "7f0c2caf",
   "metadata": {
    "ExecuteTime": {
     "end_time": "2021-10-19T13:11:20.492742Z",
     "start_time": "2021-10-19T13:11:17.075608Z"
    }
   },
   "outputs": [
    {
     "name": "stdout",
     "output_type": "stream",
     "text": [
      "2021-10-19 13:11:17,697 INFO sqlalchemy.engine.Engine BEGIN (implicit)\n",
      "2021-10-19 13:11:17,700 INFO sqlalchemy.engine.Engine INSERT INTO \"user\" (name) VALUES (%(name)s) RETURNING \"user\".id\n",
      "2021-10-19 13:11:17,701 INFO sqlalchemy.engine.Engine [generated in 0.00077s] ({'name': 'Nick'}, {'name': 'Eli'}, {'name': 'Paul'})\n",
      "2021-10-19 13:11:19,779 INFO sqlalchemy.engine.Engine COMMIT\n"
     ]
    },
    {
     "data": {
      "application/javascript": [
       "\n",
       "            setTimeout(function() {\n",
       "                var nbb_cell_id = 7;\n",
       "                var nbb_unformatted_code = \"with LocalSession() as session:\\n    session.add_all(users)\\n    session.commit()\";\n",
       "                var nbb_formatted_code = \"with LocalSession() as session:\\n    session.add_all(users)\\n    session.commit()\";\n",
       "                var nbb_cells = Jupyter.notebook.get_cells();\n",
       "                for (var i = 0; i < nbb_cells.length; ++i) {\n",
       "                    if (nbb_cells[i].input_prompt_number == nbb_cell_id) {\n",
       "                        if (nbb_cells[i].get_text() == nbb_unformatted_code) {\n",
       "                             nbb_cells[i].set_text(nbb_formatted_code);\n",
       "                        }\n",
       "                        break;\n",
       "                    }\n",
       "                }\n",
       "            }, 500);\n",
       "            "
      ],
      "text/plain": [
       "<IPython.core.display.Javascript object>"
      ]
     },
     "metadata": {},
     "output_type": "display_data"
    }
   ],
   "source": [
    "with LocalSession() as session:\n",
    "    session.add_all(users)\n",
    "    session.commit()"
   ]
  },
  {
   "cell_type": "code",
   "execution_count": 8,
   "id": "28d8b790",
   "metadata": {
    "ExecuteTime": {
     "end_time": "2021-10-19T13:11:22.683183Z",
     "start_time": "2021-10-19T13:11:20.495257Z"
    }
   },
   "outputs": [
    {
     "name": "stdout",
     "output_type": "stream",
     "text": [
      "2021-10-19 13:11:20,516 INFO sqlalchemy.engine.Engine BEGIN (implicit)\n",
      "2021-10-19 13:11:20,520 INFO sqlalchemy.engine.Engine SELECT \"user\".id AS user_id, \"user\".name AS user_name \n",
      "FROM \"user\" \n",
      "WHERE \"user\".id = %(pk_1)s\n",
      "2021-10-19 13:11:20,521 INFO sqlalchemy.engine.Engine [generated in 0.00136s] {'pk_1': 703131417382486017}\n",
      "2021-10-19 13:11:20,856 INFO sqlalchemy.engine.Engine SELECT \"user\".id AS user_id, \"user\".name AS user_name \n",
      "FROM \"user\" \n",
      "WHERE \"user\".id = %(pk_1)s\n",
      "2021-10-19 13:11:20,857 INFO sqlalchemy.engine.Engine [cached since 0.3367s ago] {'pk_1': 703131417382617089}\n",
      "2021-10-19 13:11:20,860 INFO sqlalchemy.engine.Engine SELECT \"user\".id AS user_id, \"user\".name AS user_name \n",
      "FROM \"user\" \n",
      "WHERE \"user\".id = %(pk_1)s\n",
      "2021-10-19 13:11:20,861 INFO sqlalchemy.engine.Engine [cached since 0.3411s ago] {'pk_1': 703131417382649857}\n",
      "2021-10-19 13:11:20,868 INFO sqlalchemy.engine.Engine INSERT INTO message (content, user_id) VALUES (%(content)s, %(user_id)s) RETURNING message.id\n",
      "2021-10-19 13:11:20,869 INFO sqlalchemy.engine.Engine [generated in 0.00132s] ({'content': '99 bottles of beer on the wall...', 'user_id': 703131417382486017}, {'content': '98 bottles of beer on the wall...', 'user_id': 703131417382617089}, {'content': '97 bottles of beer on the wall...', 'user_id': 703131417382649857}, {'content': '96 bottles of beer on the wall...', 'user_id': 703131417382486017}, {'content': '95 bottles of beer on the wall...', 'user_id': 703131417382617089}, {'content': '94 bottles of beer on the wall...', 'user_id': 703131417382649857}, {'content': '93 bottles of beer on the wall...', 'user_id': 703131417382486017}, {'content': '92 bottles of beer on the wall...', 'user_id': 703131417382617089}  ... displaying 10 of 100 total bound parameter sets ...  {'content': '1 bottles of beer on the wall...', 'user_id': 703131417382649857}, {'content': '0 bottles of beer on the wall...', 'user_id': 703131417382486017})\n",
      "2021-10-19 13:11:22,200 INFO sqlalchemy.engine.Engine COMMIT\n"
     ]
    },
    {
     "data": {
      "application/javascript": [
       "\n",
       "            setTimeout(function() {\n",
       "                var nbb_cell_id = 8;\n",
       "                var nbb_unformatted_code = \"import itertools\\n\\ncycle = itertools.cycle(users)\\nmessages = []\\n\\nfor i in reversed(range(100)):\\n    content = f\\\"{i} bottles of beer on the wall...\\\"\\n    user = next(cycle)\\n    message = Message(user=user, content=content)\\n    messages.append(message)\\n\\nwith LocalSession() as session:\\n    session.add_all(messages)\\n    session.commit()\";\n",
       "                var nbb_formatted_code = \"import itertools\\n\\ncycle = itertools.cycle(users)\\nmessages = []\\n\\nfor i in reversed(range(100)):\\n    content = f\\\"{i} bottles of beer on the wall...\\\"\\n    user = next(cycle)\\n    message = Message(user=user, content=content)\\n    messages.append(message)\\n\\nwith LocalSession() as session:\\n    session.add_all(messages)\\n    session.commit()\";\n",
       "                var nbb_cells = Jupyter.notebook.get_cells();\n",
       "                for (var i = 0; i < nbb_cells.length; ++i) {\n",
       "                    if (nbb_cells[i].input_prompt_number == nbb_cell_id) {\n",
       "                        if (nbb_cells[i].get_text() == nbb_unformatted_code) {\n",
       "                             nbb_cells[i].set_text(nbb_formatted_code);\n",
       "                        }\n",
       "                        break;\n",
       "                    }\n",
       "                }\n",
       "            }, 500);\n",
       "            "
      ],
      "text/plain": [
       "<IPython.core.display.Javascript object>"
      ]
     },
     "metadata": {},
     "output_type": "display_data"
    }
   ],
   "source": [
    "import itertools\n",
    "\n",
    "cycle = itertools.cycle(users)\n",
    "messages = []\n",
    "\n",
    "for i in reversed(range(100)):\n",
    "    content = f\"{i} bottles of beer on the wall...\"\n",
    "    user = next(cycle)\n",
    "    message = Message(user=user, content=content)\n",
    "    messages.append(message)\n",
    "\n",
    "with LocalSession() as session:\n",
    "    session.add_all(messages)\n",
    "    session.commit()"
   ]
  },
  {
   "cell_type": "markdown",
   "id": "20472c35",
   "metadata": {},
   "source": [
    "### Query for data"
   ]
  },
  {
   "cell_type": "markdown",
   "id": "e026c804",
   "metadata": {},
   "source": [
    "#### Count query"
   ]
  },
  {
   "cell_type": "code",
   "execution_count": 9,
   "id": "2bd95088",
   "metadata": {
    "ExecuteTime": {
     "end_time": "2021-10-19T13:11:22.712038Z",
     "start_time": "2021-10-19T13:11:22.686188Z"
    }
   },
   "outputs": [
    {
     "name": "stdout",
     "output_type": "stream",
     "text": [
      "2021-10-19 13:11:22,688 INFO sqlalchemy.engine.Engine BEGIN (implicit)\n",
      "2021-10-19 13:11:22,692 INFO sqlalchemy.engine.Engine SELECT count(\"user\".id) AS count_1 \n",
      "FROM \"user\"\n",
      "2021-10-19 13:11:22,693 INFO sqlalchemy.engine.Engine [generated in 0.00179s] {}\n",
      "2021-10-19 13:11:22,697 INFO sqlalchemy.engine.Engine ROLLBACK\n"
     ]
    },
    {
     "data": {
      "text/plain": [
       "3"
      ]
     },
     "execution_count": 9,
     "metadata": {},
     "output_type": "execute_result"
    },
    {
     "data": {
      "application/javascript": [
       "\n",
       "            setTimeout(function() {\n",
       "                var nbb_cell_id = 9;\n",
       "                var nbb_unformatted_code = \"### Expect to see 3 users here\\n\\nwith LocalSession() as session:\\n    statement = sa.select(sa.func.count(User.id))\\n    results = session.scalar(statement)\\n\\nresults\";\n",
       "                var nbb_formatted_code = \"### Expect to see 3 users here\\n\\nwith LocalSession() as session:\\n    statement = sa.select(sa.func.count(User.id))\\n    results = session.scalar(statement)\\n\\nresults\";\n",
       "                var nbb_cells = Jupyter.notebook.get_cells();\n",
       "                for (var i = 0; i < nbb_cells.length; ++i) {\n",
       "                    if (nbb_cells[i].input_prompt_number == nbb_cell_id) {\n",
       "                        if (nbb_cells[i].get_text() == nbb_unformatted_code) {\n",
       "                             nbb_cells[i].set_text(nbb_formatted_code);\n",
       "                        }\n",
       "                        break;\n",
       "                    }\n",
       "                }\n",
       "            }, 500);\n",
       "            "
      ],
      "text/plain": [
       "<IPython.core.display.Javascript object>"
      ]
     },
     "metadata": {},
     "output_type": "display_data"
    }
   ],
   "source": [
    "### Expect to see 3 users here\n",
    "\n",
    "with LocalSession() as session:\n",
    "    statement = sa.select(sa.func.count(User.id))\n",
    "    results = session.scalar(statement)\n",
    "\n",
    "results"
   ]
  },
  {
   "cell_type": "code",
   "execution_count": 10,
   "id": "5af4f89a",
   "metadata": {
    "ExecuteTime": {
     "end_time": "2021-10-19T13:11:23.607034Z",
     "start_time": "2021-10-19T13:11:22.716797Z"
    }
   },
   "outputs": [
    {
     "name": "stdout",
     "output_type": "stream",
     "text": [
      "2021-10-19 13:11:23,588 INFO sqlalchemy.engine.Engine BEGIN (implicit)\n",
      "2021-10-19 13:11:23,590 INFO sqlalchemy.engine.Engine SELECT count(message.id) AS count_1 \n",
      "FROM message\n",
      "2021-10-19 13:11:23,591 INFO sqlalchemy.engine.Engine [generated in 0.00093s] {}\n",
      "2021-10-19 13:11:23,594 INFO sqlalchemy.engine.Engine ROLLBACK\n"
     ]
    },
    {
     "data": {
      "text/plain": [
       "100"
      ]
     },
     "execution_count": 10,
     "metadata": {},
     "output_type": "execute_result"
    },
    {
     "data": {
      "application/javascript": [
       "\n",
       "            setTimeout(function() {\n",
       "                var nbb_cell_id = 10;\n",
       "                var nbb_unformatted_code = \"### Expect to see 100 messages here\\n\\nwith LocalSession() as session:\\n    statement = sa.select(sa.func.count(Message.id))\\n    results = session.scalar(statement)\\n\\nresults\";\n",
       "                var nbb_formatted_code = \"### Expect to see 100 messages here\\n\\nwith LocalSession() as session:\\n    statement = sa.select(sa.func.count(Message.id))\\n    results = session.scalar(statement)\\n\\nresults\";\n",
       "                var nbb_cells = Jupyter.notebook.get_cells();\n",
       "                for (var i = 0; i < nbb_cells.length; ++i) {\n",
       "                    if (nbb_cells[i].input_prompt_number == nbb_cell_id) {\n",
       "                        if (nbb_cells[i].get_text() == nbb_unformatted_code) {\n",
       "                             nbb_cells[i].set_text(nbb_formatted_code);\n",
       "                        }\n",
       "                        break;\n",
       "                    }\n",
       "                }\n",
       "            }, 500);\n",
       "            "
      ],
      "text/plain": [
       "<IPython.core.display.Javascript object>"
      ]
     },
     "metadata": {},
     "output_type": "display_data"
    }
   ],
   "source": [
    "### Expect to see 100 messages here\n",
    "\n",
    "with LocalSession() as session:\n",
    "    statement = sa.select(sa.func.count(Message.id))\n",
    "    results = session.scalar(statement)\n",
    "\n",
    "results"
   ]
  },
  {
   "cell_type": "markdown",
   "id": "77c4b3df",
   "metadata": {},
   "source": [
    "#### Query users with messages"
   ]
  },
  {
   "cell_type": "code",
   "execution_count": 11,
   "id": "982598bd",
   "metadata": {
    "ExecuteTime": {
     "end_time": "2021-10-19T13:11:24.377879Z",
     "start_time": "2021-10-19T13:11:23.609811Z"
    }
   },
   "outputs": [
    {
     "name": "stdout",
     "output_type": "stream",
     "text": [
      "2021-10-19 13:11:24,355 INFO sqlalchemy.engine.Engine BEGIN (implicit)\n",
      "2021-10-19 13:11:24,358 INFO sqlalchemy.engine.Engine SELECT \"user\".id, \"user\".name, message_1.id AS id_1, message_1.content, message_1.user_id \n",
      "FROM \"user\" LEFT OUTER JOIN message AS message_1 ON \"user\".id = message_1.user_id\n",
      "2021-10-19 13:11:24,359 INFO sqlalchemy.engine.Engine [generated in 0.00078s] {}\n",
      "2021-10-19 13:11:24,364 INFO sqlalchemy.engine.Engine ROLLBACK\n"
     ]
    },
    {
     "data": {
      "text/plain": [
       "<sqlalchemy.engine.result.ChunkedIteratorResult at 0x7fe4f579c9a0>"
      ]
     },
     "execution_count": 11,
     "metadata": {},
     "output_type": "execute_result"
    },
    {
     "data": {
      "application/javascript": [
       "\n",
       "            setTimeout(function() {\n",
       "                var nbb_cell_id = 11;\n",
       "                var nbb_unformatted_code = \"with LocalSession() as session:\\n    statement = sa.select(User).options(sa.orm.joinedload(User.messages))\\n    results = session.execute(statement)\\n\\nresults\";\n",
       "                var nbb_formatted_code = \"with LocalSession() as session:\\n    statement = sa.select(User).options(sa.orm.joinedload(User.messages))\\n    results = session.execute(statement)\\n\\nresults\";\n",
       "                var nbb_cells = Jupyter.notebook.get_cells();\n",
       "                for (var i = 0; i < nbb_cells.length; ++i) {\n",
       "                    if (nbb_cells[i].input_prompt_number == nbb_cell_id) {\n",
       "                        if (nbb_cells[i].get_text() == nbb_unformatted_code) {\n",
       "                             nbb_cells[i].set_text(nbb_formatted_code);\n",
       "                        }\n",
       "                        break;\n",
       "                    }\n",
       "                }\n",
       "            }, 500);\n",
       "            "
      ],
      "text/plain": [
       "<IPython.core.display.Javascript object>"
      ]
     },
     "metadata": {},
     "output_type": "display_data"
    }
   ],
   "source": [
    "with LocalSession() as session:\n",
    "    statement = sa.select(User).options(sa.orm.joinedload(User.messages))\n",
    "    results = session.execute(statement)\n",
    "\n",
    "results"
   ]
  },
  {
   "cell_type": "code",
   "execution_count": 12,
   "id": "445774c3",
   "metadata": {
    "ExecuteTime": {
     "end_time": "2021-10-19T13:11:24.957533Z",
     "start_time": "2021-10-19T13:11:24.380797Z"
    }
   },
   "outputs": [
    {
     "data": {
      "text/plain": [
       "[User(name='Nick', id=703131417382486017, messages=[Message(user_id=703131417382486017, content='99 bottles of beer on the wall...', id=703131424377700353), Message(user_id=703131417382486017, content='0 bottles of beer on the wall...', id=703131424381075457), Message(user_id=703131417382486017, content='3 bottles of beer on the wall...', id=703131424380977153), Message(user_id=703131417382486017, content='6 bottles of beer on the wall...', id=703131424380878849), Message(user_id=703131417382486017, content='9 bottles of beer on the wall...', id=703131424380780545), Message(user_id=703131417382486017, content='12 bottles of beer on the wall...', id=703131424380682241), Message(user_id=703131417382486017, content='15 bottles of beer on the wall...', id=703131424380583937), Message(user_id=703131417382486017, content='18 bottles of beer on the wall...', id=703131424380485633), Message(user_id=703131417382486017, content='21 bottles of beer on the wall...', id=703131424380387329), Message(user_id=703131417382486017, content='24 bottles of beer on the wall...', id=703131424380289025), Message(user_id=703131417382486017, content='27 bottles of beer on the wall...', id=703131424380190721), Message(user_id=703131417382486017, content='30 bottles of beer on the wall...', id=703131424380092417), Message(user_id=703131417382486017, content='33 bottles of beer on the wall...', id=703131424379994113), Message(user_id=703131417382486017, content='36 bottles of beer on the wall...', id=703131424379895809), Message(user_id=703131417382486017, content='39 bottles of beer on the wall...', id=703131424379797505), Message(user_id=703131417382486017, content='42 bottles of beer on the wall...', id=703131424379699201), Message(user_id=703131417382486017, content='45 bottles of beer on the wall...', id=703131424379600897), Message(user_id=703131417382486017, content='48 bottles of beer on the wall...', id=703131424379502593), Message(user_id=703131417382486017, content='51 bottles of beer on the wall...', id=703131424379404289), Message(user_id=703131417382486017, content='54 bottles of beer on the wall...', id=703131424379305985), Message(user_id=703131417382486017, content='57 bottles of beer on the wall...', id=703131424379207681), Message(user_id=703131417382486017, content='60 bottles of beer on the wall...', id=703131424379109377), Message(user_id=703131417382486017, content='63 bottles of beer on the wall...', id=703131424379011073), Message(user_id=703131417382486017, content='66 bottles of beer on the wall...', id=703131424378912769), Message(user_id=703131417382486017, content='69 bottles of beer on the wall...', id=703131424378814465), Message(user_id=703131417382486017, content='72 bottles of beer on the wall...', id=703131424378716161), Message(user_id=703131417382486017, content='75 bottles of beer on the wall...', id=703131424378617857), Message(user_id=703131417382486017, content='78 bottles of beer on the wall...', id=703131424378519553), Message(user_id=703131417382486017, content='81 bottles of beer on the wall...', id=703131424378421249), Message(user_id=703131417382486017, content='84 bottles of beer on the wall...', id=703131424378322945), Message(user_id=703131417382486017, content='87 bottles of beer on the wall...', id=703131424378224641), Message(user_id=703131417382486017, content='90 bottles of beer on the wall...', id=703131424378126337), Message(user_id=703131417382486017, content='93 bottles of beer on the wall...', id=703131424378028033), Message(user_id=703131417382486017, content='96 bottles of beer on the wall...', id=703131424377929729)]),\n",
       " User(name='Eli', id=703131417382617089, messages=[Message(user_id=703131417382617089, content='98 bottles of beer on the wall...', id=703131424377831425), Message(user_id=703131417382617089, content='2 bottles of beer on the wall...', id=703131424381009921), Message(user_id=703131417382617089, content='5 bottles of beer on the wall...', id=703131424380911617), Message(user_id=703131417382617089, content='8 bottles of beer on the wall...', id=703131424380813313), Message(user_id=703131417382617089, content='11 bottles of beer on the wall...', id=703131424380715009), Message(user_id=703131417382617089, content='14 bottles of beer on the wall...', id=703131424380616705), Message(user_id=703131417382617089, content='17 bottles of beer on the wall...', id=703131424380518401), Message(user_id=703131417382617089, content='20 bottles of beer on the wall...', id=703131424380420097), Message(user_id=703131417382617089, content='23 bottles of beer on the wall...', id=703131424380321793), Message(user_id=703131417382617089, content='26 bottles of beer on the wall...', id=703131424380223489), Message(user_id=703131417382617089, content='29 bottles of beer on the wall...', id=703131424380125185), Message(user_id=703131417382617089, content='32 bottles of beer on the wall...', id=703131424380026881), Message(user_id=703131417382617089, content='35 bottles of beer on the wall...', id=703131424379928577), Message(user_id=703131417382617089, content='38 bottles of beer on the wall...', id=703131424379830273), Message(user_id=703131417382617089, content='41 bottles of beer on the wall...', id=703131424379731969), Message(user_id=703131417382617089, content='44 bottles of beer on the wall...', id=703131424379633665), Message(user_id=703131417382617089, content='47 bottles of beer on the wall...', id=703131424379535361), Message(user_id=703131417382617089, content='50 bottles of beer on the wall...', id=703131424379437057), Message(user_id=703131417382617089, content='53 bottles of beer on the wall...', id=703131424379338753), Message(user_id=703131417382617089, content='56 bottles of beer on the wall...', id=703131424379240449), Message(user_id=703131417382617089, content='59 bottles of beer on the wall...', id=703131424379142145), Message(user_id=703131417382617089, content='62 bottles of beer on the wall...', id=703131424379043841), Message(user_id=703131417382617089, content='65 bottles of beer on the wall...', id=703131424378945537), Message(user_id=703131417382617089, content='68 bottles of beer on the wall...', id=703131424378847233), Message(user_id=703131417382617089, content='71 bottles of beer on the wall...', id=703131424378748929), Message(user_id=703131417382617089, content='74 bottles of beer on the wall...', id=703131424378650625), Message(user_id=703131417382617089, content='77 bottles of beer on the wall...', id=703131424378552321), Message(user_id=703131417382617089, content='80 bottles of beer on the wall...', id=703131424378454017), Message(user_id=703131417382617089, content='83 bottles of beer on the wall...', id=703131424378355713), Message(user_id=703131417382617089, content='86 bottles of beer on the wall...', id=703131424378257409), Message(user_id=703131417382617089, content='89 bottles of beer on the wall...', id=703131424378159105), Message(user_id=703131417382617089, content='92 bottles of beer on the wall...', id=703131424378060801), Message(user_id=703131417382617089, content='95 bottles of beer on the wall...', id=703131424377962497)]),\n",
       " User(name='Paul', id=703131417382649857, messages=[Message(user_id=703131417382649857, content='97 bottles of beer on the wall...', id=703131424377864193), Message(user_id=703131417382649857, content='1 bottles of beer on the wall...', id=703131424381042689), Message(user_id=703131417382649857, content='4 bottles of beer on the wall...', id=703131424380944385), Message(user_id=703131417382649857, content='7 bottles of beer on the wall...', id=703131424380846081), Message(user_id=703131417382649857, content='10 bottles of beer on the wall...', id=703131424380747777), Message(user_id=703131417382649857, content='13 bottles of beer on the wall...', id=703131424380649473), Message(user_id=703131417382649857, content='16 bottles of beer on the wall...', id=703131424380551169), Message(user_id=703131417382649857, content='19 bottles of beer on the wall...', id=703131424380452865), Message(user_id=703131417382649857, content='22 bottles of beer on the wall...', id=703131424380354561), Message(user_id=703131417382649857, content='25 bottles of beer on the wall...', id=703131424380256257), Message(user_id=703131417382649857, content='28 bottles of beer on the wall...', id=703131424380157953), Message(user_id=703131417382649857, content='31 bottles of beer on the wall...', id=703131424380059649), Message(user_id=703131417382649857, content='34 bottles of beer on the wall...', id=703131424379961345), Message(user_id=703131417382649857, content='37 bottles of beer on the wall...', id=703131424379863041), Message(user_id=703131417382649857, content='40 bottles of beer on the wall...', id=703131424379764737), Message(user_id=703131417382649857, content='43 bottles of beer on the wall...', id=703131424379666433), Message(user_id=703131417382649857, content='46 bottles of beer on the wall...', id=703131424379568129), Message(user_id=703131417382649857, content='49 bottles of beer on the wall...', id=703131424379469825), Message(user_id=703131417382649857, content='52 bottles of beer on the wall...', id=703131424379371521), Message(user_id=703131417382649857, content='55 bottles of beer on the wall...', id=703131424379273217), Message(user_id=703131417382649857, content='58 bottles of beer on the wall...', id=703131424379174913), Message(user_id=703131417382649857, content='61 bottles of beer on the wall...', id=703131424379076609), Message(user_id=703131417382649857, content='64 bottles of beer on the wall...', id=703131424378978305), Message(user_id=703131417382649857, content='67 bottles of beer on the wall...', id=703131424378880001), Message(user_id=703131417382649857, content='70 bottles of beer on the wall...', id=703131424378781697), Message(user_id=703131417382649857, content='73 bottles of beer on the wall...', id=703131424378683393), Message(user_id=703131417382649857, content='76 bottles of beer on the wall...', id=703131424378585089), Message(user_id=703131417382649857, content='79 bottles of beer on the wall...', id=703131424378486785), Message(user_id=703131417382649857, content='82 bottles of beer on the wall...', id=703131424378388481), Message(user_id=703131417382649857, content='85 bottles of beer on the wall...', id=703131424378290177), Message(user_id=703131417382649857, content='88 bottles of beer on the wall...', id=703131424378191873), Message(user_id=703131417382649857, content='91 bottles of beer on the wall...', id=703131424378093569), Message(user_id=703131417382649857, content='94 bottles of beer on the wall...', id=703131424377995265)])]"
      ]
     },
     "execution_count": 12,
     "metadata": {},
     "output_type": "execute_result"
    },
    {
     "data": {
      "application/javascript": [
       "\n",
       "            setTimeout(function() {\n",
       "                var nbb_cell_id = 12;\n",
       "                var nbb_unformatted_code = \"users = results.unique().scalars().all()\\nusers\";\n",
       "                var nbb_formatted_code = \"users = results.unique().scalars().all()\\nusers\";\n",
       "                var nbb_cells = Jupyter.notebook.get_cells();\n",
       "                for (var i = 0; i < nbb_cells.length; ++i) {\n",
       "                    if (nbb_cells[i].input_prompt_number == nbb_cell_id) {\n",
       "                        if (nbb_cells[i].get_text() == nbb_unformatted_code) {\n",
       "                             nbb_cells[i].set_text(nbb_formatted_code);\n",
       "                        }\n",
       "                        break;\n",
       "                    }\n",
       "                }\n",
       "            }, 500);\n",
       "            "
      ],
      "text/plain": [
       "<IPython.core.display.Javascript object>"
      ]
     },
     "metadata": {},
     "output_type": "display_data"
    }
   ],
   "source": [
    "users = results.unique().scalars().all()\n",
    "users"
   ]
  },
  {
   "cell_type": "code",
   "execution_count": 13,
   "id": "dfdb1a81",
   "metadata": {
    "ExecuteTime": {
     "end_time": "2021-10-19T13:11:25.661562Z",
     "start_time": "2021-10-19T13:11:24.960182Z"
    }
   },
   "outputs": [
    {
     "data": {
      "text/plain": [
       "'Nick'"
      ]
     },
     "execution_count": 13,
     "metadata": {},
     "output_type": "execute_result"
    },
    {
     "data": {
      "application/javascript": [
       "\n",
       "            setTimeout(function() {\n",
       "                var nbb_cell_id = 13;\n",
       "                var nbb_unformatted_code = \"users[0].name\";\n",
       "                var nbb_formatted_code = \"users[0].name\";\n",
       "                var nbb_cells = Jupyter.notebook.get_cells();\n",
       "                for (var i = 0; i < nbb_cells.length; ++i) {\n",
       "                    if (nbb_cells[i].input_prompt_number == nbb_cell_id) {\n",
       "                        if (nbb_cells[i].get_text() == nbb_unformatted_code) {\n",
       "                             nbb_cells[i].set_text(nbb_formatted_code);\n",
       "                        }\n",
       "                        break;\n",
       "                    }\n",
       "                }\n",
       "            }, 500);\n",
       "            "
      ],
      "text/plain": [
       "<IPython.core.display.Javascript object>"
      ]
     },
     "metadata": {},
     "output_type": "display_data"
    }
   ],
   "source": [
    "users[0].name"
   ]
  },
  {
   "cell_type": "code",
   "execution_count": 14,
   "id": "eb989a81",
   "metadata": {
    "ExecuteTime": {
     "end_time": "2021-10-19T13:11:26.161684Z",
     "start_time": "2021-10-19T13:11:25.664792Z"
    }
   },
   "outputs": [
    {
     "data": {
      "text/plain": [
       "[Message(user_id=703131417382486017, content='99 bottles of beer on the wall...', id=703131424377700353),\n",
       " Message(user_id=703131417382486017, content='0 bottles of beer on the wall...', id=703131424381075457),\n",
       " Message(user_id=703131417382486017, content='3 bottles of beer on the wall...', id=703131424380977153),\n",
       " Message(user_id=703131417382486017, content='6 bottles of beer on the wall...', id=703131424380878849),\n",
       " Message(user_id=703131417382486017, content='9 bottles of beer on the wall...', id=703131424380780545)]"
      ]
     },
     "execution_count": 14,
     "metadata": {},
     "output_type": "execute_result"
    },
    {
     "data": {
      "application/javascript": [
       "\n",
       "            setTimeout(function() {\n",
       "                var nbb_cell_id = 14;\n",
       "                var nbb_unformatted_code = \"users[0].messages[:5]\";\n",
       "                var nbb_formatted_code = \"users[0].messages[:5]\";\n",
       "                var nbb_cells = Jupyter.notebook.get_cells();\n",
       "                for (var i = 0; i < nbb_cells.length; ++i) {\n",
       "                    if (nbb_cells[i].input_prompt_number == nbb_cell_id) {\n",
       "                        if (nbb_cells[i].get_text() == nbb_unformatted_code) {\n",
       "                             nbb_cells[i].set_text(nbb_formatted_code);\n",
       "                        }\n",
       "                        break;\n",
       "                    }\n",
       "                }\n",
       "            }, 500);\n",
       "            "
      ],
      "text/plain": [
       "<IPython.core.display.Javascript object>"
      ]
     },
     "metadata": {},
     "output_type": "display_data"
    }
   ],
   "source": [
    "users[0].messages[:5]"
   ]
  },
  {
   "cell_type": "code",
   "execution_count": 15,
   "id": "4ad64ccf",
   "metadata": {
    "ExecuteTime": {
     "end_time": "2021-10-19T13:11:26.857700Z",
     "start_time": "2021-10-19T13:11:26.164715Z"
    }
   },
   "outputs": [
    {
     "name": "stdout",
     "output_type": "stream",
     "text": [
      "99 bottles of beer on the wall...\n",
      "0 bottles of beer on the wall...\n",
      "3 bottles of beer on the wall...\n",
      "6 bottles of beer on the wall...\n",
      "9 bottles of beer on the wall...\n"
     ]
    },
    {
     "data": {
      "application/javascript": [
       "\n",
       "            setTimeout(function() {\n",
       "                var nbb_cell_id = 15;\n",
       "                var nbb_unformatted_code = \"for m in users[0].messages[:5]:\\n    print(m.content)\";\n",
       "                var nbb_formatted_code = \"for m in users[0].messages[:5]:\\n    print(m.content)\";\n",
       "                var nbb_cells = Jupyter.notebook.get_cells();\n",
       "                for (var i = 0; i < nbb_cells.length; ++i) {\n",
       "                    if (nbb_cells[i].input_prompt_number == nbb_cell_id) {\n",
       "                        if (nbb_cells[i].get_text() == nbb_unformatted_code) {\n",
       "                             nbb_cells[i].set_text(nbb_formatted_code);\n",
       "                        }\n",
       "                        break;\n",
       "                    }\n",
       "                }\n",
       "            }, 500);\n",
       "            "
      ],
      "text/plain": [
       "<IPython.core.display.Javascript object>"
      ]
     },
     "metadata": {},
     "output_type": "display_data"
    }
   ],
   "source": [
    "for m in users[0].messages[:5]:\n",
    "    print(m.content)"
   ]
  },
  {
   "cell_type": "markdown",
   "id": "de7d0d8b",
   "metadata": {},
   "source": [
    "#### Chained statement example"
   ]
  },
  {
   "cell_type": "code",
   "execution_count": 16,
   "id": "facc515c",
   "metadata": {
    "ExecuteTime": {
     "end_time": "2021-10-19T13:11:27.302753Z",
     "start_time": "2021-10-19T13:11:26.861081Z"
    },
    "scrolled": true
   },
   "outputs": [
    {
     "name": "stdout",
     "output_type": "stream",
     "text": [
      "2021-10-19 13:11:27,231 INFO sqlalchemy.engine.Engine BEGIN (implicit)\n",
      "2021-10-19 13:11:27,236 INFO sqlalchemy.engine.Engine SELECT \"user\".id, \"user\".name \n",
      "FROM \"user\" \n",
      "WHERE \"user\".name = %(name_1)s\n",
      "2021-10-19 13:11:27,238 INFO sqlalchemy.engine.Engine [generated in 0.00175s] {'name_1': 'Eli'}\n",
      "2021-10-19 13:11:27,245 INFO sqlalchemy.engine.Engine ROLLBACK\n",
      "2021-10-19 13:11:27,251 INFO sqlalchemy.engine.Engine BEGIN (implicit)\n",
      "2021-10-19 13:11:27,259 INFO sqlalchemy.engine.Engine SELECT message.user_id AS message_user_id, message.id AS message_id, message.content AS message_content \n",
      "FROM message \n",
      "WHERE message.user_id IN (%(primary_keys_1)s)\n",
      "2021-10-19 13:11:27,262 INFO sqlalchemy.engine.Engine [generated in 0.00427s] {'primary_keys_1': 703131417382617089}\n"
     ]
    },
    {
     "data": {
      "text/plain": [
       "User(name='Eli', id=703131417382617089, messages=[Message(user_id=703131417382617089, content='98 bottles of beer on the wall...', id=703131424377831425), Message(user_id=703131417382617089, content='95 bottles of beer on the wall...', id=703131424377962497), Message(user_id=703131417382617089, content='92 bottles of beer on the wall...', id=703131424378060801), Message(user_id=703131417382617089, content='89 bottles of beer on the wall...', id=703131424378159105), Message(user_id=703131417382617089, content='86 bottles of beer on the wall...', id=703131424378257409), Message(user_id=703131417382617089, content='83 bottles of beer on the wall...', id=703131424378355713), Message(user_id=703131417382617089, content='80 bottles of beer on the wall...', id=703131424378454017), Message(user_id=703131417382617089, content='77 bottles of beer on the wall...', id=703131424378552321), Message(user_id=703131417382617089, content='74 bottles of beer on the wall...', id=703131424378650625), Message(user_id=703131417382617089, content='71 bottles of beer on the wall...', id=703131424378748929), Message(user_id=703131417382617089, content='68 bottles of beer on the wall...', id=703131424378847233), Message(user_id=703131417382617089, content='65 bottles of beer on the wall...', id=703131424378945537), Message(user_id=703131417382617089, content='62 bottles of beer on the wall...', id=703131424379043841), Message(user_id=703131417382617089, content='59 bottles of beer on the wall...', id=703131424379142145), Message(user_id=703131417382617089, content='56 bottles of beer on the wall...', id=703131424379240449), Message(user_id=703131417382617089, content='53 bottles of beer on the wall...', id=703131424379338753), Message(user_id=703131417382617089, content='50 bottles of beer on the wall...', id=703131424379437057), Message(user_id=703131417382617089, content='47 bottles of beer on the wall...', id=703131424379535361), Message(user_id=703131417382617089, content='44 bottles of beer on the wall...', id=703131424379633665), Message(user_id=703131417382617089, content='41 bottles of beer on the wall...', id=703131424379731969), Message(user_id=703131417382617089, content='38 bottles of beer on the wall...', id=703131424379830273), Message(user_id=703131417382617089, content='35 bottles of beer on the wall...', id=703131424379928577), Message(user_id=703131417382617089, content='32 bottles of beer on the wall...', id=703131424380026881), Message(user_id=703131417382617089, content='29 bottles of beer on the wall...', id=703131424380125185), Message(user_id=703131417382617089, content='26 bottles of beer on the wall...', id=703131424380223489), Message(user_id=703131417382617089, content='23 bottles of beer on the wall...', id=703131424380321793), Message(user_id=703131417382617089, content='20 bottles of beer on the wall...', id=703131424380420097), Message(user_id=703131417382617089, content='17 bottles of beer on the wall...', id=703131424380518401), Message(user_id=703131417382617089, content='14 bottles of beer on the wall...', id=703131424380616705), Message(user_id=703131417382617089, content='11 bottles of beer on the wall...', id=703131424380715009), Message(user_id=703131417382617089, content='8 bottles of beer on the wall...', id=703131424380813313), Message(user_id=703131417382617089, content='5 bottles of beer on the wall...', id=703131424380911617), Message(user_id=703131417382617089, content='2 bottles of beer on the wall...', id=703131424381009921)])"
      ]
     },
     "execution_count": 16,
     "metadata": {},
     "output_type": "execute_result"
    },
    {
     "data": {
      "application/javascript": [
       "\n",
       "            setTimeout(function() {\n",
       "                var nbb_cell_id = 16;\n",
       "                var nbb_unformatted_code = \"with LocalSession() as session:\\n    statement = sa.select(User)\\n    statement = statement.where(User.name == \\\"Eli\\\")\\n    statement = statement.options(sa.orm.selectinload(User.messages))\\n    results = session.execute(statement)\\n\\nuser = results.scalars().first()\\nuser\";\n",
       "                var nbb_formatted_code = \"with LocalSession() as session:\\n    statement = sa.select(User)\\n    statement = statement.where(User.name == \\\"Eli\\\")\\n    statement = statement.options(sa.orm.selectinload(User.messages))\\n    results = session.execute(statement)\\n\\nuser = results.scalars().first()\\nuser\";\n",
       "                var nbb_cells = Jupyter.notebook.get_cells();\n",
       "                for (var i = 0; i < nbb_cells.length; ++i) {\n",
       "                    if (nbb_cells[i].input_prompt_number == nbb_cell_id) {\n",
       "                        if (nbb_cells[i].get_text() == nbb_unformatted_code) {\n",
       "                             nbb_cells[i].set_text(nbb_formatted_code);\n",
       "                        }\n",
       "                        break;\n",
       "                    }\n",
       "                }\n",
       "            }, 500);\n",
       "            "
      ],
      "text/plain": [
       "<IPython.core.display.Javascript object>"
      ]
     },
     "metadata": {},
     "output_type": "display_data"
    }
   ],
   "source": [
    "with LocalSession() as session:\n",
    "    statement = sa.select(User)\n",
    "    statement = statement.where(User.name == \"Eli\")\n",
    "    statement = statement.options(sa.orm.selectinload(User.messages))\n",
    "    results = session.execute(statement)\n",
    "\n",
    "user = results.scalars().first()\n",
    "user"
   ]
  },
  {
   "cell_type": "code",
   "execution_count": 17,
   "id": "c42aaf74",
   "metadata": {
    "ExecuteTime": {
     "end_time": "2021-10-19T13:11:27.735391Z",
     "start_time": "2021-10-19T13:11:27.306664Z"
    }
   },
   "outputs": [
    {
     "data": {
      "text/plain": [
       "'Eli'"
      ]
     },
     "execution_count": 17,
     "metadata": {},
     "output_type": "execute_result"
    },
    {
     "data": {
      "application/javascript": [
       "\n",
       "            setTimeout(function() {\n",
       "                var nbb_cell_id = 17;\n",
       "                var nbb_unformatted_code = \"user.name\";\n",
       "                var nbb_formatted_code = \"user.name\";\n",
       "                var nbb_cells = Jupyter.notebook.get_cells();\n",
       "                for (var i = 0; i < nbb_cells.length; ++i) {\n",
       "                    if (nbb_cells[i].input_prompt_number == nbb_cell_id) {\n",
       "                        if (nbb_cells[i].get_text() == nbb_unformatted_code) {\n",
       "                             nbb_cells[i].set_text(nbb_formatted_code);\n",
       "                        }\n",
       "                        break;\n",
       "                    }\n",
       "                }\n",
       "            }, 500);\n",
       "            "
      ],
      "text/plain": [
       "<IPython.core.display.Javascript object>"
      ]
     },
     "metadata": {},
     "output_type": "display_data"
    }
   ],
   "source": [
    "user.name"
   ]
  },
  {
   "cell_type": "code",
   "execution_count": 18,
   "id": "db5e27e8",
   "metadata": {
    "ExecuteTime": {
     "end_time": "2021-10-19T13:11:28.542049Z",
     "start_time": "2021-10-19T13:11:27.737407Z"
    }
   },
   "outputs": [
    {
     "name": "stdout",
     "output_type": "stream",
     "text": [
      "98 bottles of beer on the wall...\n",
      "95 bottles of beer on the wall...\n",
      "92 bottles of beer on the wall...\n",
      "89 bottles of beer on the wall...\n",
      "86 bottles of beer on the wall...\n"
     ]
    },
    {
     "data": {
      "application/javascript": [
       "\n",
       "            setTimeout(function() {\n",
       "                var nbb_cell_id = 18;\n",
       "                var nbb_unformatted_code = \"for m in user.messages[:5]:\\n    print(m.content)\";\n",
       "                var nbb_formatted_code = \"for m in user.messages[:5]:\\n    print(m.content)\";\n",
       "                var nbb_cells = Jupyter.notebook.get_cells();\n",
       "                for (var i = 0; i < nbb_cells.length; ++i) {\n",
       "                    if (nbb_cells[i].input_prompt_number == nbb_cell_id) {\n",
       "                        if (nbb_cells[i].get_text() == nbb_unformatted_code) {\n",
       "                             nbb_cells[i].set_text(nbb_formatted_code);\n",
       "                        }\n",
       "                        break;\n",
       "                    }\n",
       "                }\n",
       "            }, 500);\n",
       "            "
      ],
      "text/plain": [
       "<IPython.core.display.Javascript object>"
      ]
     },
     "metadata": {},
     "output_type": "display_data"
    }
   ],
   "source": [
    "for m in user.messages[:5]:\n",
    "    print(m.content)"
   ]
  },
  {
   "cell_type": "markdown",
   "id": "f8342d61",
   "metadata": {},
   "source": [
    "### Using classmethod queries"
   ]
  },
  {
   "cell_type": "code",
   "execution_count": 19,
   "id": "1d23d662",
   "metadata": {
    "ExecuteTime": {
     "end_time": "2021-10-19T13:11:29.008520Z",
     "start_time": "2021-10-19T13:11:28.545049Z"
    }
   },
   "outputs": [
    {
     "name": "stdout",
     "output_type": "stream",
     "text": [
      "2021-10-19 13:11:28,990 INFO sqlalchemy.engine.Engine BEGIN (implicit)\n",
      "2021-10-19 13:11:28,992 INFO sqlalchemy.engine.Engine SELECT message.id, message.content, message.user_id \n",
      "FROM message JOIN \"user\" ON \"user\".id = message.user_id \n",
      "WHERE \"user\".name = %(name_1)s\n",
      "2021-10-19 13:11:28,993 INFO sqlalchemy.engine.Engine [generated in 0.00089s] {'name_1': 'Eli'}\n",
      "2021-10-19 13:11:28,998 INFO sqlalchemy.engine.Engine ROLLBACK\n"
     ]
    },
    {
     "data": {
      "text/plain": [
       "33"
      ]
     },
     "execution_count": 19,
     "metadata": {},
     "output_type": "execute_result"
    },
    {
     "data": {
      "application/javascript": [
       "\n",
       "            setTimeout(function() {\n",
       "                var nbb_cell_id = 19;\n",
       "                var nbb_unformatted_code = \"with LocalSession() as session:\\n    messages = Message.from_user(session, \\\"Eli\\\")\\n\\nlen(messages)\";\n",
       "                var nbb_formatted_code = \"with LocalSession() as session:\\n    messages = Message.from_user(session, \\\"Eli\\\")\\n\\nlen(messages)\";\n",
       "                var nbb_cells = Jupyter.notebook.get_cells();\n",
       "                for (var i = 0; i < nbb_cells.length; ++i) {\n",
       "                    if (nbb_cells[i].input_prompt_number == nbb_cell_id) {\n",
       "                        if (nbb_cells[i].get_text() == nbb_unformatted_code) {\n",
       "                             nbb_cells[i].set_text(nbb_formatted_code);\n",
       "                        }\n",
       "                        break;\n",
       "                    }\n",
       "                }\n",
       "            }, 500);\n",
       "            "
      ],
      "text/plain": [
       "<IPython.core.display.Javascript object>"
      ]
     },
     "metadata": {},
     "output_type": "display_data"
    }
   ],
   "source": [
    "with LocalSession() as session:\n",
    "    messages = Message.from_user(session, \"Eli\")\n",
    "\n",
    "len(messages)"
   ]
  },
  {
   "cell_type": "code",
   "execution_count": 20,
   "id": "3d451f9d",
   "metadata": {
    "ExecuteTime": {
     "end_time": "2021-10-19T13:11:29.690976Z",
     "start_time": "2021-10-19T13:11:29.011006Z"
    }
   },
   "outputs": [
    {
     "data": {
      "text/plain": [
       "[Message(user_id=703131417382617089, content='98 bottles of beer on the wall...', id=703131424377831425),\n",
       " Message(user_id=703131417382617089, content='95 bottles of beer on the wall...', id=703131424377962497),\n",
       " Message(user_id=703131417382617089, content='92 bottles of beer on the wall...', id=703131424378060801),\n",
       " Message(user_id=703131417382617089, content='89 bottles of beer on the wall...', id=703131424378159105),\n",
       " Message(user_id=703131417382617089, content='86 bottles of beer on the wall...', id=703131424378257409)]"
      ]
     },
     "execution_count": 20,
     "metadata": {},
     "output_type": "execute_result"
    },
    {
     "data": {
      "application/javascript": [
       "\n",
       "            setTimeout(function() {\n",
       "                var nbb_cell_id = 20;\n",
       "                var nbb_unformatted_code = \"messages[:5]\";\n",
       "                var nbb_formatted_code = \"messages[:5]\";\n",
       "                var nbb_cells = Jupyter.notebook.get_cells();\n",
       "                for (var i = 0; i < nbb_cells.length; ++i) {\n",
       "                    if (nbb_cells[i].input_prompt_number == nbb_cell_id) {\n",
       "                        if (nbb_cells[i].get_text() == nbb_unformatted_code) {\n",
       "                             nbb_cells[i].set_text(nbb_formatted_code);\n",
       "                        }\n",
       "                        break;\n",
       "                    }\n",
       "                }\n",
       "            }, 500);\n",
       "            "
      ],
      "text/plain": [
       "<IPython.core.display.Javascript object>"
      ]
     },
     "metadata": {},
     "output_type": "display_data"
    }
   ],
   "source": [
    "messages[:5]"
   ]
  }
 ],
 "metadata": {
  "kernelspec": {
   "display_name": "Python 3 (ipykernel)",
   "language": "python",
   "name": "python3"
  },
  "language_info": {
   "codemirror_mode": {
    "name": "ipython",
    "version": 3
   },
   "file_extension": ".py",
   "mimetype": "text/x-python",
   "name": "python",
   "nbconvert_exporter": "python",
   "pygments_lexer": "ipython3",
   "version": "3.9.7"
  },
  "toc": {
   "base_numbering": 1,
   "nav_menu": {},
   "number_sections": true,
   "sideBar": true,
   "skip_h1_title": false,
   "title_cell": "Table of Contents",
   "title_sidebar": "Contents",
   "toc_cell": false,
   "toc_position": {},
   "toc_section_display": true,
   "toc_window_display": true
  }
 },
 "nbformat": 4,
 "nbformat_minor": 5
}
