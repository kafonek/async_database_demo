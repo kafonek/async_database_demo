{
 "cells": [
  {
   "cell_type": "markdown",
   "id": "431e0682",
   "metadata": {},
   "source": [
    "### Notebook setup"
   ]
  },
  {
   "cell_type": "code",
   "execution_count": 1,
   "id": "5f5546e9",
   "metadata": {
    "ExecuteTime": {
     "end_time": "2021-10-19T12:49:28.237286Z",
     "start_time": "2021-10-19T12:49:28.122282Z"
    }
   },
   "outputs": [
    {
     "data": {
      "application/javascript": [
       "\n",
       "            setTimeout(function() {\n",
       "                var nbb_cell_id = 1;\n",
       "                var nbb_unformatted_code = \"%load_ext nb_black\";\n",
       "                var nbb_formatted_code = \"%load_ext nb_black\";\n",
       "                var nbb_cells = Jupyter.notebook.get_cells();\n",
       "                for (var i = 0; i < nbb_cells.length; ++i) {\n",
       "                    if (nbb_cells[i].input_prompt_number == nbb_cell_id) {\n",
       "                        if (nbb_cells[i].get_text() == nbb_unformatted_code) {\n",
       "                             nbb_cells[i].set_text(nbb_formatted_code);\n",
       "                        }\n",
       "                        break;\n",
       "                    }\n",
       "                }\n",
       "            }, 500);\n",
       "            "
      ],
      "text/plain": [
       "<IPython.core.display.Javascript object>"
      ]
     },
     "metadata": {},
     "output_type": "display_data"
    }
   ],
   "source": [
    "%load_ext nb_black"
   ]
  },
  {
   "cell_type": "markdown",
   "id": "7e0aa863",
   "metadata": {},
   "source": [
    "### Create Engine/Session"
   ]
  },
  {
   "cell_type": "code",
   "execution_count": 2,
   "id": "e024348c",
   "metadata": {
    "ExecuteTime": {
     "end_time": "2021-10-19T12:49:28.941767Z",
     "start_time": "2021-10-19T12:49:28.240161Z"
    }
   },
   "outputs": [
    {
     "data": {
      "text/plain": [
       "Engine(cockroachdb://root@cockroach:26257/defaultdb?sslmode=disable)"
      ]
     },
     "execution_count": 2,
     "metadata": {},
     "output_type": "execute_result"
    },
    {
     "data": {
      "application/javascript": [
       "\n",
       "            setTimeout(function() {\n",
       "                var nbb_cell_id = 2;\n",
       "                var nbb_unformatted_code = \"import sqlalchemy as sa\\nimport sqlalchemy.orm\\n\\nengine = sa.create_engine(\\n    \\\"cockroachdb://root@cockroach:26257/defaultdb?sslmode=disable\\\", echo=True\\n)\\nengine\";\n",
       "                var nbb_formatted_code = \"import sqlalchemy as sa\\nimport sqlalchemy.orm\\n\\nengine = sa.create_engine(\\n    \\\"cockroachdb://root@cockroach:26257/defaultdb?sslmode=disable\\\", echo=True\\n)\\nengine\";\n",
       "                var nbb_cells = Jupyter.notebook.get_cells();\n",
       "                for (var i = 0; i < nbb_cells.length; ++i) {\n",
       "                    if (nbb_cells[i].input_prompt_number == nbb_cell_id) {\n",
       "                        if (nbb_cells[i].get_text() == nbb_unformatted_code) {\n",
       "                             nbb_cells[i].set_text(nbb_formatted_code);\n",
       "                        }\n",
       "                        break;\n",
       "                    }\n",
       "                }\n",
       "            }, 500);\n",
       "            "
      ],
      "text/plain": [
       "<IPython.core.display.Javascript object>"
      ]
     },
     "metadata": {},
     "output_type": "display_data"
    }
   ],
   "source": [
    "import sqlalchemy as sa\n",
    "import sqlalchemy.orm\n",
    "\n",
    "engine = sa.create_engine(\n",
    "    \"cockroachdb://root@cockroach:26257/defaultdb?sslmode=disable\", echo=True\n",
    ")\n",
    "engine"
   ]
  },
  {
   "cell_type": "code",
   "execution_count": 3,
   "id": "a84fa3c2",
   "metadata": {
    "ExecuteTime": {
     "end_time": "2021-10-19T12:49:29.253018Z",
     "start_time": "2021-10-19T12:49:28.944019Z"
    }
   },
   "outputs": [
    {
     "data": {
      "text/plain": [
       "sessionmaker(class_='Session', bind=Engine(cockroachdb://root@cockroach:26257/defaultdb?sslmode=disable), autoflush=True, autocommit=False, expire_on_commit=True)"
      ]
     },
     "execution_count": 3,
     "metadata": {},
     "output_type": "execute_result"
    },
    {
     "data": {
      "application/javascript": [
       "\n",
       "            setTimeout(function() {\n",
       "                var nbb_cell_id = 3;\n",
       "                var nbb_unformatted_code = \"LocalSession = sa.orm.sessionmaker(engine)\\nLocalSession\";\n",
       "                var nbb_formatted_code = \"LocalSession = sa.orm.sessionmaker(engine)\\nLocalSession\";\n",
       "                var nbb_cells = Jupyter.notebook.get_cells();\n",
       "                for (var i = 0; i < nbb_cells.length; ++i) {\n",
       "                    if (nbb_cells[i].input_prompt_number == nbb_cell_id) {\n",
       "                        if (nbb_cells[i].get_text() == nbb_unformatted_code) {\n",
       "                             nbb_cells[i].set_text(nbb_formatted_code);\n",
       "                        }\n",
       "                        break;\n",
       "                    }\n",
       "                }\n",
       "            }, 500);\n",
       "            "
      ],
      "text/plain": [
       "<IPython.core.display.Javascript object>"
      ]
     },
     "metadata": {},
     "output_type": "display_data"
    }
   ],
   "source": [
    "LocalSession = sa.orm.sessionmaker(engine)\n",
    "LocalSession"
   ]
  },
  {
   "cell_type": "markdown",
   "id": "97e08b64",
   "metadata": {},
   "source": [
    "### Drop/Create tables"
   ]
  },
  {
   "cell_type": "code",
   "execution_count": 4,
   "id": "6867dc26",
   "metadata": {
    "ExecuteTime": {
     "end_time": "2021-10-19T12:49:35.226227Z",
     "start_time": "2021-10-19T12:49:29.255887Z"
    }
   },
   "outputs": [
    {
     "name": "stdout",
     "output_type": "stream",
     "text": [
      "2021-10-19 12:49:30,429 INFO sqlalchemy.engine.Engine select current_schema()\n",
      "2021-10-19 12:49:30,430 INFO sqlalchemy.engine.Engine [raw sql] {}\n",
      "2021-10-19 12:49:30,434 INFO sqlalchemy.engine.Engine select version()\n",
      "2021-10-19 12:49:30,435 INFO sqlalchemy.engine.Engine [generated in 0.00086s] {}\n",
      "2021-10-19 12:49:30,512 INFO sqlalchemy.engine.Engine SELECT crdb_internal.increment_feature_counter(%(val)s)\n",
      "2021-10-19 12:49:30,513 INFO sqlalchemy.engine.Engine [generated in 0.00096s] {'val': 'sqlalchemy-cockroachdb 1.4.1'}\n",
      "2021-10-19 12:49:30,515 INFO sqlalchemy.engine.Engine SELECT crdb_internal.increment_feature_counter(%(val)s)\n",
      "2021-10-19 12:49:30,516 INFO sqlalchemy.engine.Engine [cached since 0.003827s ago] {'val': 'sqlalchemy 1.4.25'}\n",
      "2021-10-19 12:49:30,518 INFO sqlalchemy.engine.Engine BEGIN (implicit)\n",
      "2021-10-19 12:49:30,520 INFO sqlalchemy.engine.Engine SELECT table_name FROM information_schema.tables WHERE table_schema=%(schema)s\n",
      "2021-10-19 12:49:30,521 INFO sqlalchemy.engine.Engine [generated in 0.00111s] {'schema': 'public'}\n",
      "2021-10-19 12:49:30,528 INFO sqlalchemy.engine.Engine SELECT table_name FROM information_schema.tables WHERE table_schema=%(schema)s\n",
      "2021-10-19 12:49:30,529 INFO sqlalchemy.engine.Engine [cached since 0.009092s ago] {'schema': 'public'}\n",
      "2021-10-19 12:49:30,532 INFO sqlalchemy.engine.Engine COMMIT\n",
      "2021-10-19 12:49:30,533 INFO sqlalchemy.engine.Engine BEGIN (implicit)\n",
      "2021-10-19 12:49:30,534 INFO sqlalchemy.engine.Engine SELECT table_name FROM information_schema.tables WHERE table_schema=%(schema)s\n",
      "2021-10-19 12:49:30,534 INFO sqlalchemy.engine.Engine [cached since 0.01452s ago] {'schema': 'public'}\n",
      "2021-10-19 12:49:30,540 INFO sqlalchemy.engine.Engine SELECT table_name FROM information_schema.tables WHERE table_schema=%(schema)s\n",
      "2021-10-19 12:49:30,540 INFO sqlalchemy.engine.Engine [cached since 0.02032s ago] {'schema': 'public'}\n",
      "2021-10-19 12:49:30,543 INFO sqlalchemy.engine.Engine \n",
      "CREATE TABLE \"user\" (\n",
      "\tid SERIAL, \n",
      "\tname VARCHAR NOT NULL, \n",
      "\tPRIMARY KEY (id)\n",
      ")\n",
      "\n",
      "\n",
      "2021-10-19 12:49:30,544 INFO sqlalchemy.engine.Engine [no key 0.00088s] {}\n",
      "2021-10-19 12:49:30,914 INFO sqlalchemy.engine.Engine CREATE INDEX ix_user_name ON \"user\" (name)\n",
      "2021-10-19 12:49:30,915 INFO sqlalchemy.engine.Engine [no key 0.00105s] {}\n",
      "2021-10-19 12:49:31,130 INFO sqlalchemy.engine.Engine CREATE INDEX ix_user_id ON \"user\" (id)\n",
      "2021-10-19 12:49:31,131 INFO sqlalchemy.engine.Engine [no key 0.00136s] {}\n",
      "2021-10-19 12:49:31,455 INFO sqlalchemy.engine.Engine \n",
      "CREATE TABLE message (\n",
      "\tid SERIAL, \n",
      "\tcontent VARCHAR NOT NULL, \n",
      "\tuser_id INTEGER, \n",
      "\tPRIMARY KEY (id), \n",
      "\tFOREIGN KEY(user_id) REFERENCES \"user\" (id)\n",
      ")\n",
      "\n",
      "\n",
      "2021-10-19 12:49:31,456 INFO sqlalchemy.engine.Engine [no key 0.00101s] {}\n",
      "2021-10-19 12:49:32,493 INFO sqlalchemy.engine.Engine CREATE INDEX ix_message_content ON message (content)\n",
      "2021-10-19 12:49:32,494 INFO sqlalchemy.engine.Engine [no key 0.00107s] {}\n",
      "2021-10-19 12:49:32,499 INFO sqlalchemy.engine.Engine CREATE INDEX ix_message_id ON message (id)\n",
      "2021-10-19 12:49:32,501 INFO sqlalchemy.engine.Engine [no key 0.00124s] {}\n",
      "2021-10-19 12:49:32,963 INFO sqlalchemy.engine.Engine CREATE INDEX ix_message_user_id ON message (user_id)\n",
      "2021-10-19 12:49:32,964 INFO sqlalchemy.engine.Engine [no key 0.00107s] {}\n",
      "2021-10-19 12:49:33,938 INFO sqlalchemy.engine.Engine COMMIT\n"
     ]
    },
    {
     "data": {
      "application/javascript": [
       "\n",
       "            setTimeout(function() {\n",
       "                var nbb_cell_id = 4;\n",
       "                var nbb_unformatted_code = \"from models import Base, User, Message\\n\\nBase.metadata.drop_all(engine)\\nBase.metadata.create_all(engine)\";\n",
       "                var nbb_formatted_code = \"from models import Base, User, Message\\n\\nBase.metadata.drop_all(engine)\\nBase.metadata.create_all(engine)\";\n",
       "                var nbb_cells = Jupyter.notebook.get_cells();\n",
       "                for (var i = 0; i < nbb_cells.length; ++i) {\n",
       "                    if (nbb_cells[i].input_prompt_number == nbb_cell_id) {\n",
       "                        if (nbb_cells[i].get_text() == nbb_unformatted_code) {\n",
       "                             nbb_cells[i].set_text(nbb_formatted_code);\n",
       "                        }\n",
       "                        break;\n",
       "                    }\n",
       "                }\n",
       "            }, 500);\n",
       "            "
      ],
      "text/plain": [
       "<IPython.core.display.Javascript object>"
      ]
     },
     "metadata": {},
     "output_type": "display_data"
    }
   ],
   "source": [
    "from models import Base, User, Message\n",
    "\n",
    "Base.metadata.drop_all(engine)\n",
    "Base.metadata.create_all(engine)"
   ]
  },
  {
   "cell_type": "markdown",
   "id": "19da74c3",
   "metadata": {},
   "source": [
    "### Add data\n",
    "\n",
    "Nick, Eli, and Paul sing 99 bottles of beer..."
   ]
  },
  {
   "cell_type": "code",
   "execution_count": 5,
   "id": "b8bc89c2",
   "metadata": {
    "ExecuteTime": {
     "end_time": "2021-10-19T12:49:35.250095Z",
     "start_time": "2021-10-19T12:49:35.228957Z"
    }
   },
   "outputs": [
    {
     "data": {
      "text/plain": [
       "[User(id=None, name='Nick'),\n",
       " User(id=None, name='Eli'),\n",
       " User(id=None, name='Paul')]"
      ]
     },
     "execution_count": 5,
     "metadata": {},
     "output_type": "execute_result"
    },
    {
     "data": {
      "application/javascript": [
       "\n",
       "            setTimeout(function() {\n",
       "                var nbb_cell_id = 5;\n",
       "                var nbb_unformatted_code = \"users = [User(name=\\\"Nick\\\"), User(name=\\\"Eli\\\"), User(name=\\\"Paul\\\")]\\nusers\";\n",
       "                var nbb_formatted_code = \"users = [User(name=\\\"Nick\\\"), User(name=\\\"Eli\\\"), User(name=\\\"Paul\\\")]\\nusers\";\n",
       "                var nbb_cells = Jupyter.notebook.get_cells();\n",
       "                for (var i = 0; i < nbb_cells.length; ++i) {\n",
       "                    if (nbb_cells[i].input_prompt_number == nbb_cell_id) {\n",
       "                        if (nbb_cells[i].get_text() == nbb_unformatted_code) {\n",
       "                             nbb_cells[i].set_text(nbb_formatted_code);\n",
       "                        }\n",
       "                        break;\n",
       "                    }\n",
       "                }\n",
       "            }, 500);\n",
       "            "
      ],
      "text/plain": [
       "<IPython.core.display.Javascript object>"
      ]
     },
     "metadata": {},
     "output_type": "display_data"
    }
   ],
   "source": [
    "users = [User(name=\"Nick\"), User(name=\"Eli\"), User(name=\"Paul\")]\n",
    "users"
   ]
  },
  {
   "cell_type": "code",
   "execution_count": 6,
   "id": "7f0c2caf",
   "metadata": {
    "ExecuteTime": {
     "end_time": "2021-10-19T12:49:37.897757Z",
     "start_time": "2021-10-19T12:49:35.252578Z"
    }
   },
   "outputs": [
    {
     "name": "stdout",
     "output_type": "stream",
     "text": [
      "2021-10-19 12:49:35,713 INFO sqlalchemy.engine.Engine BEGIN (implicit)\n",
      "2021-10-19 12:49:35,715 INFO sqlalchemy.engine.Engine INSERT INTO \"user\" (name) VALUES (%(name)s) RETURNING \"user\".id\n",
      "2021-10-19 12:49:35,716 INFO sqlalchemy.engine.Engine [generated in 0.00113s] ({'name': 'Nick'}, {'name': 'Eli'}, {'name': 'Paul'})\n",
      "2021-10-19 12:49:37,297 INFO sqlalchemy.engine.Engine COMMIT\n"
     ]
    },
    {
     "data": {
      "application/javascript": [
       "\n",
       "            setTimeout(function() {\n",
       "                var nbb_cell_id = 6;\n",
       "                var nbb_unformatted_code = \"with LocalSession() as session:\\n    session.add_all(users)\\n    session.commit()\";\n",
       "                var nbb_formatted_code = \"with LocalSession() as session:\\n    session.add_all(users)\\n    session.commit()\";\n",
       "                var nbb_cells = Jupyter.notebook.get_cells();\n",
       "                for (var i = 0; i < nbb_cells.length; ++i) {\n",
       "                    if (nbb_cells[i].input_prompt_number == nbb_cell_id) {\n",
       "                        if (nbb_cells[i].get_text() == nbb_unformatted_code) {\n",
       "                             nbb_cells[i].set_text(nbb_formatted_code);\n",
       "                        }\n",
       "                        break;\n",
       "                    }\n",
       "                }\n",
       "            }, 500);\n",
       "            "
      ],
      "text/plain": [
       "<IPython.core.display.Javascript object>"
      ]
     },
     "metadata": {},
     "output_type": "display_data"
    }
   ],
   "source": [
    "with LocalSession() as session:\n",
    "    session.add_all(users)\n",
    "    session.commit()"
   ]
  },
  {
   "cell_type": "code",
   "execution_count": 7,
   "id": "28d8b790",
   "metadata": {
    "ExecuteTime": {
     "end_time": "2021-10-19T12:49:40.343827Z",
     "start_time": "2021-10-19T12:49:37.901091Z"
    }
   },
   "outputs": [
    {
     "name": "stdout",
     "output_type": "stream",
     "text": [
      "2021-10-19 12:49:37,922 INFO sqlalchemy.engine.Engine BEGIN (implicit)\n",
      "2021-10-19 12:49:37,926 INFO sqlalchemy.engine.Engine SELECT \"user\".id AS user_id, \"user\".name AS user_name \n",
      "FROM \"user\" \n",
      "WHERE \"user\".id = %(pk_1)s\n",
      "2021-10-19 12:49:37,928 INFO sqlalchemy.engine.Engine [generated in 0.00243s] {'pk_1': 703127149923827713}\n",
      "2021-10-19 12:49:38,362 INFO sqlalchemy.engine.Engine SELECT \"user\".id AS user_id, \"user\".name AS user_name \n",
      "FROM \"user\" \n",
      "WHERE \"user\".id = %(pk_1)s\n",
      "2021-10-19 12:49:38,363 INFO sqlalchemy.engine.Engine [cached since 0.4375s ago] {'pk_1': 703127149923794945}\n",
      "2021-10-19 12:49:38,367 INFO sqlalchemy.engine.Engine SELECT \"user\".id AS user_id, \"user\".name AS user_name \n",
      "FROM \"user\" \n",
      "WHERE \"user\".id = %(pk_1)s\n",
      "2021-10-19 12:49:38,369 INFO sqlalchemy.engine.Engine [cached since 0.4428s ago] {'pk_1': 703127149923237889}\n",
      "2021-10-19 12:49:38,376 INFO sqlalchemy.engine.Engine INSERT INTO message (content, user_id) VALUES (%(content)s, %(user_id)s) RETURNING message.id\n",
      "2021-10-19 12:49:38,377 INFO sqlalchemy.engine.Engine [generated in 0.00130s] ({'content': '99 bottles of beer on the wall...', 'user_id': 703127149923237889}, {'content': '98 bottles of beer on the wall...', 'user_id': 703127149923794945}, {'content': '97 bottles of beer on the wall...', 'user_id': 703127149923827713}, {'content': '96 bottles of beer on the wall...', 'user_id': 703127149923237889}, {'content': '95 bottles of beer on the wall...', 'user_id': 703127149923794945}, {'content': '94 bottles of beer on the wall...', 'user_id': 703127149923827713}, {'content': '93 bottles of beer on the wall...', 'user_id': 703127149923237889}, {'content': '92 bottles of beer on the wall...', 'user_id': 703127149923794945}  ... displaying 10 of 100 total bound parameter sets ...  {'content': '1 bottles of beer on the wall...', 'user_id': 703127149923827713}, {'content': '0 bottles of beer on the wall...', 'user_id': 703127149923237889})\n",
      "2021-10-19 12:49:39,536 INFO sqlalchemy.engine.Engine COMMIT\n"
     ]
    },
    {
     "data": {
      "application/javascript": [
       "\n",
       "            setTimeout(function() {\n",
       "                var nbb_cell_id = 7;\n",
       "                var nbb_unformatted_code = \"import itertools\\n\\ncycle = itertools.cycle(users)\\nmessages = []\\n\\nfor i in reversed(range(100)):\\n    content = f\\\"{i} bottles of beer on the wall...\\\"\\n    user = next(cycle)\\n    message = Message(user=user, content=content)\\n    messages.append(message)\\n\\nwith LocalSession() as session:\\n    session.add_all(messages)\\n    session.commit()\";\n",
       "                var nbb_formatted_code = \"import itertools\\n\\ncycle = itertools.cycle(users)\\nmessages = []\\n\\nfor i in reversed(range(100)):\\n    content = f\\\"{i} bottles of beer on the wall...\\\"\\n    user = next(cycle)\\n    message = Message(user=user, content=content)\\n    messages.append(message)\\n\\nwith LocalSession() as session:\\n    session.add_all(messages)\\n    session.commit()\";\n",
       "                var nbb_cells = Jupyter.notebook.get_cells();\n",
       "                for (var i = 0; i < nbb_cells.length; ++i) {\n",
       "                    if (nbb_cells[i].input_prompt_number == nbb_cell_id) {\n",
       "                        if (nbb_cells[i].get_text() == nbb_unformatted_code) {\n",
       "                             nbb_cells[i].set_text(nbb_formatted_code);\n",
       "                        }\n",
       "                        break;\n",
       "                    }\n",
       "                }\n",
       "            }, 500);\n",
       "            "
      ],
      "text/plain": [
       "<IPython.core.display.Javascript object>"
      ]
     },
     "metadata": {},
     "output_type": "display_data"
    }
   ],
   "source": [
    "import itertools\n",
    "\n",
    "cycle = itertools.cycle(users)\n",
    "messages = []\n",
    "\n",
    "for i in reversed(range(100)):\n",
    "    content = f\"{i} bottles of beer on the wall...\"\n",
    "    user = next(cycle)\n",
    "    message = Message(user=user, content=content)\n",
    "    messages.append(message)\n",
    "\n",
    "with LocalSession() as session:\n",
    "    session.add_all(messages)\n",
    "    session.commit()"
   ]
  },
  {
   "cell_type": "markdown",
   "id": "20472c35",
   "metadata": {},
   "source": [
    "### Query for data"
   ]
  },
  {
   "cell_type": "markdown",
   "id": "e026c804",
   "metadata": {},
   "source": [
    "#### Count query"
   ]
  },
  {
   "cell_type": "code",
   "execution_count": 8,
   "id": "2bd95088",
   "metadata": {
    "ExecuteTime": {
     "end_time": "2021-10-19T12:49:40.363396Z",
     "start_time": "2021-10-19T12:49:40.346196Z"
    }
   },
   "outputs": [
    {
     "name": "stdout",
     "output_type": "stream",
     "text": [
      "2021-10-19 12:49:40,347 INFO sqlalchemy.engine.Engine BEGIN (implicit)\n",
      "2021-10-19 12:49:40,350 INFO sqlalchemy.engine.Engine SELECT count(\"user\".id) AS count_1 \n",
      "FROM \"user\"\n",
      "2021-10-19 12:49:40,351 INFO sqlalchemy.engine.Engine [generated in 0.00133s] {}\n",
      "2021-10-19 12:49:40,353 INFO sqlalchemy.engine.Engine ROLLBACK\n"
     ]
    },
    {
     "data": {
      "text/plain": [
       "3"
      ]
     },
     "execution_count": 8,
     "metadata": {},
     "output_type": "execute_result"
    },
    {
     "data": {
      "application/javascript": [
       "\n",
       "            setTimeout(function() {\n",
       "                var nbb_cell_id = 8;\n",
       "                var nbb_unformatted_code = \"### Expect to see 3 users here\\n\\nwith LocalSession() as session:\\n    statement = sa.select(sa.func.count(User.id))\\n    results = session.scalar(statement)\\n\\nresults\";\n",
       "                var nbb_formatted_code = \"### Expect to see 3 users here\\n\\nwith LocalSession() as session:\\n    statement = sa.select(sa.func.count(User.id))\\n    results = session.scalar(statement)\\n\\nresults\";\n",
       "                var nbb_cells = Jupyter.notebook.get_cells();\n",
       "                for (var i = 0; i < nbb_cells.length; ++i) {\n",
       "                    if (nbb_cells[i].input_prompt_number == nbb_cell_id) {\n",
       "                        if (nbb_cells[i].get_text() == nbb_unformatted_code) {\n",
       "                             nbb_cells[i].set_text(nbb_formatted_code);\n",
       "                        }\n",
       "                        break;\n",
       "                    }\n",
       "                }\n",
       "            }, 500);\n",
       "            "
      ],
      "text/plain": [
       "<IPython.core.display.Javascript object>"
      ]
     },
     "metadata": {},
     "output_type": "display_data"
    }
   ],
   "source": [
    "### Expect to see 3 users here\n",
    "\n",
    "with LocalSession() as session:\n",
    "    statement = sa.select(sa.func.count(User.id))\n",
    "    results = session.scalar(statement)\n",
    "\n",
    "results"
   ]
  },
  {
   "cell_type": "code",
   "execution_count": 9,
   "id": "5af4f89a",
   "metadata": {
    "ExecuteTime": {
     "end_time": "2021-10-19T12:49:41.281528Z",
     "start_time": "2021-10-19T12:49:40.364999Z"
    }
   },
   "outputs": [
    {
     "name": "stdout",
     "output_type": "stream",
     "text": [
      "2021-10-19 12:49:41,261 INFO sqlalchemy.engine.Engine BEGIN (implicit)\n",
      "2021-10-19 12:49:41,264 INFO sqlalchemy.engine.Engine SELECT count(message.id) AS count_1 \n",
      "FROM message\n",
      "2021-10-19 12:49:41,265 INFO sqlalchemy.engine.Engine [generated in 0.00107s] {}\n",
      "2021-10-19 12:49:41,269 INFO sqlalchemy.engine.Engine ROLLBACK\n"
     ]
    },
    {
     "data": {
      "text/plain": [
       "100"
      ]
     },
     "execution_count": 9,
     "metadata": {},
     "output_type": "execute_result"
    },
    {
     "data": {
      "application/javascript": [
       "\n",
       "            setTimeout(function() {\n",
       "                var nbb_cell_id = 9;\n",
       "                var nbb_unformatted_code = \"### Expect to see 100 messages here\\n\\nwith LocalSession() as session:\\n    statement = sa.select(sa.func.count(Message.id))\\n    results = session.scalar(statement)\\n\\nresults\";\n",
       "                var nbb_formatted_code = \"### Expect to see 100 messages here\\n\\nwith LocalSession() as session:\\n    statement = sa.select(sa.func.count(Message.id))\\n    results = session.scalar(statement)\\n\\nresults\";\n",
       "                var nbb_cells = Jupyter.notebook.get_cells();\n",
       "                for (var i = 0; i < nbb_cells.length; ++i) {\n",
       "                    if (nbb_cells[i].input_prompt_number == nbb_cell_id) {\n",
       "                        if (nbb_cells[i].get_text() == nbb_unformatted_code) {\n",
       "                             nbb_cells[i].set_text(nbb_formatted_code);\n",
       "                        }\n",
       "                        break;\n",
       "                    }\n",
       "                }\n",
       "            }, 500);\n",
       "            "
      ],
      "text/plain": [
       "<IPython.core.display.Javascript object>"
      ]
     },
     "metadata": {},
     "output_type": "display_data"
    }
   ],
   "source": [
    "### Expect to see 100 messages here\n",
    "\n",
    "with LocalSession() as session:\n",
    "    statement = sa.select(sa.func.count(Message.id))\n",
    "    results = session.scalar(statement)\n",
    "\n",
    "results"
   ]
  },
  {
   "cell_type": "markdown",
   "id": "77c4b3df",
   "metadata": {},
   "source": [
    "#### Query users with messages"
   ]
  },
  {
   "cell_type": "code",
   "execution_count": 10,
   "id": "982598bd",
   "metadata": {
    "ExecuteTime": {
     "end_time": "2021-10-19T12:49:42.049392Z",
     "start_time": "2021-10-19T12:49:41.285824Z"
    }
   },
   "outputs": [
    {
     "name": "stdout",
     "output_type": "stream",
     "text": [
      "2021-10-19 12:49:41,986 INFO sqlalchemy.engine.Engine BEGIN (implicit)\n",
      "2021-10-19 12:49:41,989 INFO sqlalchemy.engine.Engine SELECT \"user\".id, \"user\".name, message_1.id AS id_1, message_1.content, message_1.user_id \n",
      "FROM \"user\" LEFT OUTER JOIN message AS message_1 ON \"user\".id = message_1.user_id\n",
      "2021-10-19 12:49:41,990 INFO sqlalchemy.engine.Engine [generated in 0.00125s] {}\n",
      "2021-10-19 12:49:42,037 INFO sqlalchemy.engine.Engine ROLLBACK\n"
     ]
    },
    {
     "data": {
      "text/plain": [
       "<sqlalchemy.engine.result.ChunkedIteratorResult at 0x7f41cde9c2e0>"
      ]
     },
     "execution_count": 10,
     "metadata": {},
     "output_type": "execute_result"
    },
    {
     "data": {
      "application/javascript": [
       "\n",
       "            setTimeout(function() {\n",
       "                var nbb_cell_id = 10;\n",
       "                var nbb_unformatted_code = \"with LocalSession() as session:\\n    statement = sa.select(User).options(sa.orm.joinedload(User.messages))\\n    results = session.execute(statement)\\n\\nresults\";\n",
       "                var nbb_formatted_code = \"with LocalSession() as session:\\n    statement = sa.select(User).options(sa.orm.joinedload(User.messages))\\n    results = session.execute(statement)\\n\\nresults\";\n",
       "                var nbb_cells = Jupyter.notebook.get_cells();\n",
       "                for (var i = 0; i < nbb_cells.length; ++i) {\n",
       "                    if (nbb_cells[i].input_prompt_number == nbb_cell_id) {\n",
       "                        if (nbb_cells[i].get_text() == nbb_unformatted_code) {\n",
       "                             nbb_cells[i].set_text(nbb_formatted_code);\n",
       "                        }\n",
       "                        break;\n",
       "                    }\n",
       "                }\n",
       "            }, 500);\n",
       "            "
      ],
      "text/plain": [
       "<IPython.core.display.Javascript object>"
      ]
     },
     "metadata": {},
     "output_type": "display_data"
    }
   ],
   "source": [
    "with LocalSession() as session:\n",
    "    statement = sa.select(User).options(sa.orm.joinedload(User.messages))\n",
    "    results = session.execute(statement)\n",
    "\n",
    "results"
   ]
  },
  {
   "cell_type": "code",
   "execution_count": 11,
   "id": "445774c3",
   "metadata": {
    "ExecuteTime": {
     "end_time": "2021-10-19T12:49:42.399698Z",
     "start_time": "2021-10-19T12:49:42.052178Z"
    }
   },
   "outputs": [
    {
     "data": {
      "text/plain": [
       "[User(id=703127149923237889, name='Nick', messages=[Message(content='99 bottles of beer on the wall...', id=703127156151255041, user_id=703127149923237889), Message(content='0 bottles of beer on the wall...', id=703127156154630145, user_id=703127149923237889), Message(content='3 bottles of beer on the wall...', id=703127156154531841, user_id=703127149923237889), Message(content='6 bottles of beer on the wall...', id=703127156154433537, user_id=703127149923237889), Message(content='9 bottles of beer on the wall...', id=703127156154335233, user_id=703127149923237889), Message(content='12 bottles of beer on the wall...', id=703127156154236929, user_id=703127149923237889), Message(content='15 bottles of beer on the wall...', id=703127156154138625, user_id=703127149923237889), Message(content='18 bottles of beer on the wall...', id=703127156154040321, user_id=703127149923237889), Message(content='21 bottles of beer on the wall...', id=703127156153942017, user_id=703127149923237889), Message(content='24 bottles of beer on the wall...', id=703127156153843713, user_id=703127149923237889), Message(content='27 bottles of beer on the wall...', id=703127156153745409, user_id=703127149923237889), Message(content='30 bottles of beer on the wall...', id=703127156153647105, user_id=703127149923237889), Message(content='33 bottles of beer on the wall...', id=703127156153548801, user_id=703127149923237889), Message(content='36 bottles of beer on the wall...', id=703127156153450497, user_id=703127149923237889), Message(content='39 bottles of beer on the wall...', id=703127156153352193, user_id=703127149923237889), Message(content='42 bottles of beer on the wall...', id=703127156153253889, user_id=703127149923237889), Message(content='45 bottles of beer on the wall...', id=703127156153155585, user_id=703127149923237889), Message(content='48 bottles of beer on the wall...', id=703127156153057281, user_id=703127149923237889), Message(content='51 bottles of beer on the wall...', id=703127156152958977, user_id=703127149923237889), Message(content='54 bottles of beer on the wall...', id=703127156152860673, user_id=703127149923237889), Message(content='57 bottles of beer on the wall...', id=703127156152762369, user_id=703127149923237889), Message(content='60 bottles of beer on the wall...', id=703127156152664065, user_id=703127149923237889), Message(content='63 bottles of beer on the wall...', id=703127156152565761, user_id=703127149923237889), Message(content='66 bottles of beer on the wall...', id=703127156152467457, user_id=703127149923237889), Message(content='69 bottles of beer on the wall...', id=703127156152369153, user_id=703127149923237889), Message(content='72 bottles of beer on the wall...', id=703127156152270849, user_id=703127149923237889), Message(content='75 bottles of beer on the wall...', id=703127156152172545, user_id=703127149923237889), Message(content='78 bottles of beer on the wall...', id=703127156152074241, user_id=703127149923237889), Message(content='81 bottles of beer on the wall...', id=703127156151975937, user_id=703127149923237889), Message(content='84 bottles of beer on the wall...', id=703127156151877633, user_id=703127149923237889), Message(content='87 bottles of beer on the wall...', id=703127156151779329, user_id=703127149923237889), Message(content='90 bottles of beer on the wall...', id=703127156151681025, user_id=703127149923237889), Message(content='93 bottles of beer on the wall...', id=703127156151582721, user_id=703127149923237889), Message(content='96 bottles of beer on the wall...', id=703127156151484417, user_id=703127149923237889)]),\n",
       " User(id=703127149923794945, name='Eli', messages=[Message(content='98 bottles of beer on the wall...', id=703127156151418881, user_id=703127149923794945), Message(content='2 bottles of beer on the wall...', id=703127156154564609, user_id=703127149923794945), Message(content='5 bottles of beer on the wall...', id=703127156154466305, user_id=703127149923794945), Message(content='8 bottles of beer on the wall...', id=703127156154368001, user_id=703127149923794945), Message(content='11 bottles of beer on the wall...', id=703127156154269697, user_id=703127149923794945), Message(content='14 bottles of beer on the wall...', id=703127156154171393, user_id=703127149923794945), Message(content='17 bottles of beer on the wall...', id=703127156154073089, user_id=703127149923794945), Message(content='20 bottles of beer on the wall...', id=703127156153974785, user_id=703127149923794945), Message(content='23 bottles of beer on the wall...', id=703127156153876481, user_id=703127149923794945), Message(content='26 bottles of beer on the wall...', id=703127156153778177, user_id=703127149923794945), Message(content='29 bottles of beer on the wall...', id=703127156153679873, user_id=703127149923794945), Message(content='32 bottles of beer on the wall...', id=703127156153581569, user_id=703127149923794945), Message(content='35 bottles of beer on the wall...', id=703127156153483265, user_id=703127149923794945), Message(content='38 bottles of beer on the wall...', id=703127156153384961, user_id=703127149923794945), Message(content='41 bottles of beer on the wall...', id=703127156153286657, user_id=703127149923794945), Message(content='44 bottles of beer on the wall...', id=703127156153188353, user_id=703127149923794945), Message(content='47 bottles of beer on the wall...', id=703127156153090049, user_id=703127149923794945), Message(content='50 bottles of beer on the wall...', id=703127156152991745, user_id=703127149923794945), Message(content='53 bottles of beer on the wall...', id=703127156152893441, user_id=703127149923794945), Message(content='56 bottles of beer on the wall...', id=703127156152795137, user_id=703127149923794945), Message(content='59 bottles of beer on the wall...', id=703127156152696833, user_id=703127149923794945), Message(content='62 bottles of beer on the wall...', id=703127156152598529, user_id=703127149923794945), Message(content='65 bottles of beer on the wall...', id=703127156152500225, user_id=703127149923794945), Message(content='68 bottles of beer on the wall...', id=703127156152401921, user_id=703127149923794945), Message(content='71 bottles of beer on the wall...', id=703127156152303617, user_id=703127149923794945), Message(content='74 bottles of beer on the wall...', id=703127156152205313, user_id=703127149923794945), Message(content='77 bottles of beer on the wall...', id=703127156152107009, user_id=703127149923794945), Message(content='80 bottles of beer on the wall...', id=703127156152008705, user_id=703127149923794945), Message(content='83 bottles of beer on the wall...', id=703127156151910401, user_id=703127149923794945), Message(content='86 bottles of beer on the wall...', id=703127156151812097, user_id=703127149923794945), Message(content='89 bottles of beer on the wall...', id=703127156151713793, user_id=703127149923794945), Message(content='92 bottles of beer on the wall...', id=703127156151615489, user_id=703127149923794945), Message(content='95 bottles of beer on the wall...', id=703127156151517185, user_id=703127149923794945)]),\n",
       " User(id=703127149923827713, name='Paul', messages=[Message(content='97 bottles of beer on the wall...', id=703127156151451649, user_id=703127149923827713), Message(content='1 bottles of beer on the wall...', id=703127156154597377, user_id=703127149923827713), Message(content='4 bottles of beer on the wall...', id=703127156154499073, user_id=703127149923827713), Message(content='7 bottles of beer on the wall...', id=703127156154400769, user_id=703127149923827713), Message(content='10 bottles of beer on the wall...', id=703127156154302465, user_id=703127149923827713), Message(content='13 bottles of beer on the wall...', id=703127156154204161, user_id=703127149923827713), Message(content='16 bottles of beer on the wall...', id=703127156154105857, user_id=703127149923827713), Message(content='19 bottles of beer on the wall...', id=703127156154007553, user_id=703127149923827713), Message(content='22 bottles of beer on the wall...', id=703127156153909249, user_id=703127149923827713), Message(content='25 bottles of beer on the wall...', id=703127156153810945, user_id=703127149923827713), Message(content='28 bottles of beer on the wall...', id=703127156153712641, user_id=703127149923827713), Message(content='31 bottles of beer on the wall...', id=703127156153614337, user_id=703127149923827713), Message(content='34 bottles of beer on the wall...', id=703127156153516033, user_id=703127149923827713), Message(content='37 bottles of beer on the wall...', id=703127156153417729, user_id=703127149923827713), Message(content='40 bottles of beer on the wall...', id=703127156153319425, user_id=703127149923827713), Message(content='43 bottles of beer on the wall...', id=703127156153221121, user_id=703127149923827713), Message(content='46 bottles of beer on the wall...', id=703127156153122817, user_id=703127149923827713), Message(content='49 bottles of beer on the wall...', id=703127156153024513, user_id=703127149923827713), Message(content='52 bottles of beer on the wall...', id=703127156152926209, user_id=703127149923827713), Message(content='55 bottles of beer on the wall...', id=703127156152827905, user_id=703127149923827713), Message(content='58 bottles of beer on the wall...', id=703127156152729601, user_id=703127149923827713), Message(content='61 bottles of beer on the wall...', id=703127156152631297, user_id=703127149923827713), Message(content='64 bottles of beer on the wall...', id=703127156152532993, user_id=703127149923827713), Message(content='67 bottles of beer on the wall...', id=703127156152434689, user_id=703127149923827713), Message(content='70 bottles of beer on the wall...', id=703127156152336385, user_id=703127149923827713), Message(content='73 bottles of beer on the wall...', id=703127156152238081, user_id=703127149923827713), Message(content='76 bottles of beer on the wall...', id=703127156152139777, user_id=703127149923827713), Message(content='79 bottles of beer on the wall...', id=703127156152041473, user_id=703127149923827713), Message(content='82 bottles of beer on the wall...', id=703127156151943169, user_id=703127149923827713), Message(content='85 bottles of beer on the wall...', id=703127156151844865, user_id=703127149923827713), Message(content='88 bottles of beer on the wall...', id=703127156151746561, user_id=703127149923827713), Message(content='91 bottles of beer on the wall...', id=703127156151648257, user_id=703127149923827713), Message(content='94 bottles of beer on the wall...', id=703127156151549953, user_id=703127149923827713)])]"
      ]
     },
     "execution_count": 11,
     "metadata": {},
     "output_type": "execute_result"
    },
    {
     "data": {
      "application/javascript": [
       "\n",
       "            setTimeout(function() {\n",
       "                var nbb_cell_id = 11;\n",
       "                var nbb_unformatted_code = \"users = results.unique().scalars().all()\\nusers\";\n",
       "                var nbb_formatted_code = \"users = results.unique().scalars().all()\\nusers\";\n",
       "                var nbb_cells = Jupyter.notebook.get_cells();\n",
       "                for (var i = 0; i < nbb_cells.length; ++i) {\n",
       "                    if (nbb_cells[i].input_prompt_number == nbb_cell_id) {\n",
       "                        if (nbb_cells[i].get_text() == nbb_unformatted_code) {\n",
       "                             nbb_cells[i].set_text(nbb_formatted_code);\n",
       "                        }\n",
       "                        break;\n",
       "                    }\n",
       "                }\n",
       "            }, 500);\n",
       "            "
      ],
      "text/plain": [
       "<IPython.core.display.Javascript object>"
      ]
     },
     "metadata": {},
     "output_type": "display_data"
    }
   ],
   "source": [
    "users = results.unique().scalars().all()\n",
    "users"
   ]
  },
  {
   "cell_type": "code",
   "execution_count": 12,
   "id": "dfdb1a81",
   "metadata": {
    "ExecuteTime": {
     "end_time": "2021-10-19T12:49:43.290451Z",
     "start_time": "2021-10-19T12:49:42.402361Z"
    }
   },
   "outputs": [
    {
     "data": {
      "text/plain": [
       "'Nick'"
      ]
     },
     "execution_count": 12,
     "metadata": {},
     "output_type": "execute_result"
    },
    {
     "data": {
      "application/javascript": [
       "\n",
       "            setTimeout(function() {\n",
       "                var nbb_cell_id = 12;\n",
       "                var nbb_unformatted_code = \"users[0].name\";\n",
       "                var nbb_formatted_code = \"users[0].name\";\n",
       "                var nbb_cells = Jupyter.notebook.get_cells();\n",
       "                for (var i = 0; i < nbb_cells.length; ++i) {\n",
       "                    if (nbb_cells[i].input_prompt_number == nbb_cell_id) {\n",
       "                        if (nbb_cells[i].get_text() == nbb_unformatted_code) {\n",
       "                             nbb_cells[i].set_text(nbb_formatted_code);\n",
       "                        }\n",
       "                        break;\n",
       "                    }\n",
       "                }\n",
       "            }, 500);\n",
       "            "
      ],
      "text/plain": [
       "<IPython.core.display.Javascript object>"
      ]
     },
     "metadata": {},
     "output_type": "display_data"
    }
   ],
   "source": [
    "users[0].name"
   ]
  },
  {
   "cell_type": "code",
   "execution_count": 13,
   "id": "eb989a81",
   "metadata": {
    "ExecuteTime": {
     "end_time": "2021-10-19T12:49:44.068444Z",
     "start_time": "2021-10-19T12:49:43.292852Z"
    }
   },
   "outputs": [
    {
     "data": {
      "text/plain": [
       "[Message(content='99 bottles of beer on the wall...', id=703127156151255041, user_id=703127149923237889),\n",
       " Message(content='0 bottles of beer on the wall...', id=703127156154630145, user_id=703127149923237889),\n",
       " Message(content='3 bottles of beer on the wall...', id=703127156154531841, user_id=703127149923237889),\n",
       " Message(content='6 bottles of beer on the wall...', id=703127156154433537, user_id=703127149923237889),\n",
       " Message(content='9 bottles of beer on the wall...', id=703127156154335233, user_id=703127149923237889)]"
      ]
     },
     "execution_count": 13,
     "metadata": {},
     "output_type": "execute_result"
    },
    {
     "data": {
      "application/javascript": [
       "\n",
       "            setTimeout(function() {\n",
       "                var nbb_cell_id = 13;\n",
       "                var nbb_unformatted_code = \"users[0].messages[:5]\";\n",
       "                var nbb_formatted_code = \"users[0].messages[:5]\";\n",
       "                var nbb_cells = Jupyter.notebook.get_cells();\n",
       "                for (var i = 0; i < nbb_cells.length; ++i) {\n",
       "                    if (nbb_cells[i].input_prompt_number == nbb_cell_id) {\n",
       "                        if (nbb_cells[i].get_text() == nbb_unformatted_code) {\n",
       "                             nbb_cells[i].set_text(nbb_formatted_code);\n",
       "                        }\n",
       "                        break;\n",
       "                    }\n",
       "                }\n",
       "            }, 500);\n",
       "            "
      ],
      "text/plain": [
       "<IPython.core.display.Javascript object>"
      ]
     },
     "metadata": {},
     "output_type": "display_data"
    }
   ],
   "source": [
    "users[0].messages[:5]"
   ]
  },
  {
   "cell_type": "code",
   "execution_count": 14,
   "id": "4ad64ccf",
   "metadata": {
    "ExecuteTime": {
     "end_time": "2021-10-19T12:49:44.520036Z",
     "start_time": "2021-10-19T12:49:44.071194Z"
    }
   },
   "outputs": [
    {
     "name": "stdout",
     "output_type": "stream",
     "text": [
      "99 bottles of beer on the wall...\n",
      "0 bottles of beer on the wall...\n",
      "3 bottles of beer on the wall...\n",
      "6 bottles of beer on the wall...\n",
      "9 bottles of beer on the wall...\n"
     ]
    },
    {
     "data": {
      "application/javascript": [
       "\n",
       "            setTimeout(function() {\n",
       "                var nbb_cell_id = 14;\n",
       "                var nbb_unformatted_code = \"for m in users[0].messages[:5]:\\n    print(m.content)\";\n",
       "                var nbb_formatted_code = \"for m in users[0].messages[:5]:\\n    print(m.content)\";\n",
       "                var nbb_cells = Jupyter.notebook.get_cells();\n",
       "                for (var i = 0; i < nbb_cells.length; ++i) {\n",
       "                    if (nbb_cells[i].input_prompt_number == nbb_cell_id) {\n",
       "                        if (nbb_cells[i].get_text() == nbb_unformatted_code) {\n",
       "                             nbb_cells[i].set_text(nbb_formatted_code);\n",
       "                        }\n",
       "                        break;\n",
       "                    }\n",
       "                }\n",
       "            }, 500);\n",
       "            "
      ],
      "text/plain": [
       "<IPython.core.display.Javascript object>"
      ]
     },
     "metadata": {},
     "output_type": "display_data"
    }
   ],
   "source": [
    "for m in users[0].messages[:5]:\n",
    "    print(m.content)"
   ]
  },
  {
   "cell_type": "markdown",
   "id": "de7d0d8b",
   "metadata": {},
   "source": [
    "#### Chained statement example"
   ]
  },
  {
   "cell_type": "code",
   "execution_count": 15,
   "id": "facc515c",
   "metadata": {
    "ExecuteTime": {
     "end_time": "2021-10-19T12:49:45.535717Z",
     "start_time": "2021-10-19T12:49:44.522823Z"
    },
    "scrolled": true
   },
   "outputs": [
    {
     "name": "stdout",
     "output_type": "stream",
     "text": [
      "2021-10-19 12:49:45,502 INFO sqlalchemy.engine.Engine BEGIN (implicit)\n",
      "2021-10-19 12:49:45,505 INFO sqlalchemy.engine.Engine SELECT \"user\".id, \"user\".name \n",
      "FROM \"user\" \n",
      "WHERE \"user\".name = %(name_1)s\n",
      "2021-10-19 12:49:45,505 INFO sqlalchemy.engine.Engine [generated in 0.00076s] {'name_1': 'Eli'}\n",
      "2021-10-19 12:49:45,508 INFO sqlalchemy.engine.Engine ROLLBACK\n",
      "2021-10-19 12:49:45,511 INFO sqlalchemy.engine.Engine BEGIN (implicit)\n",
      "2021-10-19 12:49:45,513 INFO sqlalchemy.engine.Engine SELECT message.user_id AS message_user_id, message.id AS message_id, message.content AS message_content \n",
      "FROM message \n",
      "WHERE message.user_id IN (%(primary_keys_1)s)\n",
      "2021-10-19 12:49:45,514 INFO sqlalchemy.engine.Engine [generated in 0.00148s] {'primary_keys_1': 703127149923794945}\n"
     ]
    },
    {
     "data": {
      "text/plain": [
       "User(id=703127149923794945, name='Eli', messages=[Message(content='98 bottles of beer on the wall...', id=703127156151418881, user_id=703127149923794945), Message(content='95 bottles of beer on the wall...', id=703127156151517185, user_id=703127149923794945), Message(content='92 bottles of beer on the wall...', id=703127156151615489, user_id=703127149923794945), Message(content='89 bottles of beer on the wall...', id=703127156151713793, user_id=703127149923794945), Message(content='86 bottles of beer on the wall...', id=703127156151812097, user_id=703127149923794945), Message(content='83 bottles of beer on the wall...', id=703127156151910401, user_id=703127149923794945), Message(content='80 bottles of beer on the wall...', id=703127156152008705, user_id=703127149923794945), Message(content='77 bottles of beer on the wall...', id=703127156152107009, user_id=703127149923794945), Message(content='74 bottles of beer on the wall...', id=703127156152205313, user_id=703127149923794945), Message(content='71 bottles of beer on the wall...', id=703127156152303617, user_id=703127149923794945), Message(content='68 bottles of beer on the wall...', id=703127156152401921, user_id=703127149923794945), Message(content='65 bottles of beer on the wall...', id=703127156152500225, user_id=703127149923794945), Message(content='62 bottles of beer on the wall...', id=703127156152598529, user_id=703127149923794945), Message(content='59 bottles of beer on the wall...', id=703127156152696833, user_id=703127149923794945), Message(content='56 bottles of beer on the wall...', id=703127156152795137, user_id=703127149923794945), Message(content='53 bottles of beer on the wall...', id=703127156152893441, user_id=703127149923794945), Message(content='50 bottles of beer on the wall...', id=703127156152991745, user_id=703127149923794945), Message(content='47 bottles of beer on the wall...', id=703127156153090049, user_id=703127149923794945), Message(content='44 bottles of beer on the wall...', id=703127156153188353, user_id=703127149923794945), Message(content='41 bottles of beer on the wall...', id=703127156153286657, user_id=703127149923794945), Message(content='38 bottles of beer on the wall...', id=703127156153384961, user_id=703127149923794945), Message(content='35 bottles of beer on the wall...', id=703127156153483265, user_id=703127149923794945), Message(content='32 bottles of beer on the wall...', id=703127156153581569, user_id=703127149923794945), Message(content='29 bottles of beer on the wall...', id=703127156153679873, user_id=703127149923794945), Message(content='26 bottles of beer on the wall...', id=703127156153778177, user_id=703127149923794945), Message(content='23 bottles of beer on the wall...', id=703127156153876481, user_id=703127149923794945), Message(content='20 bottles of beer on the wall...', id=703127156153974785, user_id=703127149923794945), Message(content='17 bottles of beer on the wall...', id=703127156154073089, user_id=703127149923794945), Message(content='14 bottles of beer on the wall...', id=703127156154171393, user_id=703127149923794945), Message(content='11 bottles of beer on the wall...', id=703127156154269697, user_id=703127149923794945), Message(content='8 bottles of beer on the wall...', id=703127156154368001, user_id=703127149923794945), Message(content='5 bottles of beer on the wall...', id=703127156154466305, user_id=703127149923794945), Message(content='2 bottles of beer on the wall...', id=703127156154564609, user_id=703127149923794945)])"
      ]
     },
     "execution_count": 15,
     "metadata": {},
     "output_type": "execute_result"
    },
    {
     "data": {
      "application/javascript": [
       "\n",
       "            setTimeout(function() {\n",
       "                var nbb_cell_id = 15;\n",
       "                var nbb_unformatted_code = \"with LocalSession() as session:\\n    statement = sa.select(User)\\n    statement = statement.where(User.name == \\\"Eli\\\")\\n    statement = statement.options(sa.orm.selectinload(User.messages))\\n    results = session.execute(statement)\\n\\nuser = results.scalars().first()\\nuser\";\n",
       "                var nbb_formatted_code = \"with LocalSession() as session:\\n    statement = sa.select(User)\\n    statement = statement.where(User.name == \\\"Eli\\\")\\n    statement = statement.options(sa.orm.selectinload(User.messages))\\n    results = session.execute(statement)\\n\\nuser = results.scalars().first()\\nuser\";\n",
       "                var nbb_cells = Jupyter.notebook.get_cells();\n",
       "                for (var i = 0; i < nbb_cells.length; ++i) {\n",
       "                    if (nbb_cells[i].input_prompt_number == nbb_cell_id) {\n",
       "                        if (nbb_cells[i].get_text() == nbb_unformatted_code) {\n",
       "                             nbb_cells[i].set_text(nbb_formatted_code);\n",
       "                        }\n",
       "                        break;\n",
       "                    }\n",
       "                }\n",
       "            }, 500);\n",
       "            "
      ],
      "text/plain": [
       "<IPython.core.display.Javascript object>"
      ]
     },
     "metadata": {},
     "output_type": "display_data"
    }
   ],
   "source": [
    "with LocalSession() as session:\n",
    "    statement = sa.select(User)\n",
    "    statement = statement.where(User.name == \"Eli\")\n",
    "    statement = statement.options(sa.orm.selectinload(User.messages))\n",
    "    results = session.execute(statement)\n",
    "\n",
    "user = results.scalars().first()\n",
    "user"
   ]
  },
  {
   "cell_type": "code",
   "execution_count": 16,
   "id": "c42aaf74",
   "metadata": {
    "ExecuteTime": {
     "end_time": "2021-10-19T12:49:46.291192Z",
     "start_time": "2021-10-19T12:49:45.537725Z"
    }
   },
   "outputs": [
    {
     "data": {
      "text/plain": [
       "'Eli'"
      ]
     },
     "execution_count": 16,
     "metadata": {},
     "output_type": "execute_result"
    },
    {
     "data": {
      "application/javascript": [
       "\n",
       "            setTimeout(function() {\n",
       "                var nbb_cell_id = 16;\n",
       "                var nbb_unformatted_code = \"user.name\";\n",
       "                var nbb_formatted_code = \"user.name\";\n",
       "                var nbb_cells = Jupyter.notebook.get_cells();\n",
       "                for (var i = 0; i < nbb_cells.length; ++i) {\n",
       "                    if (nbb_cells[i].input_prompt_number == nbb_cell_id) {\n",
       "                        if (nbb_cells[i].get_text() == nbb_unformatted_code) {\n",
       "                             nbb_cells[i].set_text(nbb_formatted_code);\n",
       "                        }\n",
       "                        break;\n",
       "                    }\n",
       "                }\n",
       "            }, 500);\n",
       "            "
      ],
      "text/plain": [
       "<IPython.core.display.Javascript object>"
      ]
     },
     "metadata": {},
     "output_type": "display_data"
    }
   ],
   "source": [
    "user.name"
   ]
  },
  {
   "cell_type": "code",
   "execution_count": 17,
   "id": "db5e27e8",
   "metadata": {
    "ExecuteTime": {
     "end_time": "2021-10-19T12:49:46.843119Z",
     "start_time": "2021-10-19T12:49:46.293467Z"
    }
   },
   "outputs": [
    {
     "name": "stdout",
     "output_type": "stream",
     "text": [
      "98 bottles of beer on the wall...\n",
      "95 bottles of beer on the wall...\n",
      "92 bottles of beer on the wall...\n",
      "89 bottles of beer on the wall...\n",
      "86 bottles of beer on the wall...\n"
     ]
    },
    {
     "data": {
      "application/javascript": [
       "\n",
       "            setTimeout(function() {\n",
       "                var nbb_cell_id = 17;\n",
       "                var nbb_unformatted_code = \"for m in user.messages[:5]:\\n    print(m.content)\";\n",
       "                var nbb_formatted_code = \"for m in user.messages[:5]:\\n    print(m.content)\";\n",
       "                var nbb_cells = Jupyter.notebook.get_cells();\n",
       "                for (var i = 0; i < nbb_cells.length; ++i) {\n",
       "                    if (nbb_cells[i].input_prompt_number == nbb_cell_id) {\n",
       "                        if (nbb_cells[i].get_text() == nbb_unformatted_code) {\n",
       "                             nbb_cells[i].set_text(nbb_formatted_code);\n",
       "                        }\n",
       "                        break;\n",
       "                    }\n",
       "                }\n",
       "            }, 500);\n",
       "            "
      ],
      "text/plain": [
       "<IPython.core.display.Javascript object>"
      ]
     },
     "metadata": {},
     "output_type": "display_data"
    }
   ],
   "source": [
    "for m in user.messages[:5]:\n",
    "    print(m.content)"
   ]
  },
  {
   "cell_type": "markdown",
   "id": "f8342d61",
   "metadata": {},
   "source": [
    "### Using classmethod queries"
   ]
  },
  {
   "cell_type": "code",
   "execution_count": 18,
   "id": "1d23d662",
   "metadata": {
    "ExecuteTime": {
     "end_time": "2021-10-19T12:49:47.425008Z",
     "start_time": "2021-10-19T12:49:46.846053Z"
    }
   },
   "outputs": [
    {
     "name": "stdout",
     "output_type": "stream",
     "text": [
      "2021-10-19 12:49:47,405 INFO sqlalchemy.engine.Engine BEGIN (implicit)\n",
      "2021-10-19 12:49:47,407 INFO sqlalchemy.engine.Engine SELECT message.id, message.content, message.user_id \n",
      "FROM message JOIN \"user\" ON \"user\".id = message.user_id \n",
      "WHERE \"user\".name = %(name_1)s\n",
      "2021-10-19 12:49:47,408 INFO sqlalchemy.engine.Engine [generated in 0.00092s] {'name_1': 'Eli'}\n",
      "2021-10-19 12:49:47,414 INFO sqlalchemy.engine.Engine ROLLBACK\n"
     ]
    },
    {
     "data": {
      "text/plain": [
       "33"
      ]
     },
     "execution_count": 18,
     "metadata": {},
     "output_type": "execute_result"
    },
    {
     "data": {
      "application/javascript": [
       "\n",
       "            setTimeout(function() {\n",
       "                var nbb_cell_id = 18;\n",
       "                var nbb_unformatted_code = \"with LocalSession() as session:\\n    messages = Message.from_user(session, \\\"Eli\\\")\\n\\nlen(messages)\";\n",
       "                var nbb_formatted_code = \"with LocalSession() as session:\\n    messages = Message.from_user(session, \\\"Eli\\\")\\n\\nlen(messages)\";\n",
       "                var nbb_cells = Jupyter.notebook.get_cells();\n",
       "                for (var i = 0; i < nbb_cells.length; ++i) {\n",
       "                    if (nbb_cells[i].input_prompt_number == nbb_cell_id) {\n",
       "                        if (nbb_cells[i].get_text() == nbb_unformatted_code) {\n",
       "                             nbb_cells[i].set_text(nbb_formatted_code);\n",
       "                        }\n",
       "                        break;\n",
       "                    }\n",
       "                }\n",
       "            }, 500);\n",
       "            "
      ],
      "text/plain": [
       "<IPython.core.display.Javascript object>"
      ]
     },
     "metadata": {},
     "output_type": "display_data"
    }
   ],
   "source": [
    "with LocalSession() as session:\n",
    "    messages = Message.from_user(session, \"Eli\")\n",
    "\n",
    "len(messages)"
   ]
  },
  {
   "cell_type": "code",
   "execution_count": 19,
   "id": "3d451f9d",
   "metadata": {
    "ExecuteTime": {
     "end_time": "2021-10-19T12:49:47.976782Z",
     "start_time": "2021-10-19T12:49:47.428307Z"
    }
   },
   "outputs": [
    {
     "data": {
      "text/plain": [
       "[Message(content='98 bottles of beer on the wall...', id=703127156151418881, user_id=703127149923794945),\n",
       " Message(content='95 bottles of beer on the wall...', id=703127156151517185, user_id=703127149923794945),\n",
       " Message(content='92 bottles of beer on the wall...', id=703127156151615489, user_id=703127149923794945),\n",
       " Message(content='89 bottles of beer on the wall...', id=703127156151713793, user_id=703127149923794945),\n",
       " Message(content='86 bottles of beer on the wall...', id=703127156151812097, user_id=703127149923794945)]"
      ]
     },
     "execution_count": 19,
     "metadata": {},
     "output_type": "execute_result"
    },
    {
     "data": {
      "application/javascript": [
       "\n",
       "            setTimeout(function() {\n",
       "                var nbb_cell_id = 19;\n",
       "                var nbb_unformatted_code = \"messages[:5]\";\n",
       "                var nbb_formatted_code = \"messages[:5]\";\n",
       "                var nbb_cells = Jupyter.notebook.get_cells();\n",
       "                for (var i = 0; i < nbb_cells.length; ++i) {\n",
       "                    if (nbb_cells[i].input_prompt_number == nbb_cell_id) {\n",
       "                        if (nbb_cells[i].get_text() == nbb_unformatted_code) {\n",
       "                             nbb_cells[i].set_text(nbb_formatted_code);\n",
       "                        }\n",
       "                        break;\n",
       "                    }\n",
       "                }\n",
       "            }, 500);\n",
       "            "
      ],
      "text/plain": [
       "<IPython.core.display.Javascript object>"
      ]
     },
     "metadata": {},
     "output_type": "display_data"
    }
   ],
   "source": [
    "messages[:5]"
   ]
  }
 ],
 "metadata": {
  "kernelspec": {
   "display_name": "Python 3 (ipykernel)",
   "language": "python",
   "name": "python3"
  },
  "language_info": {
   "codemirror_mode": {
    "name": "ipython",
    "version": 3
   },
   "file_extension": ".py",
   "mimetype": "text/x-python",
   "name": "python",
   "nbconvert_exporter": "python",
   "pygments_lexer": "ipython3",
   "version": "3.9.7"
  },
  "toc": {
   "base_numbering": 1,
   "nav_menu": {},
   "number_sections": true,
   "sideBar": true,
   "skip_h1_title": false,
   "title_cell": "Table of Contents",
   "title_sidebar": "Contents",
   "toc_cell": false,
   "toc_position": {},
   "toc_section_display": true,
   "toc_window_display": true
  }
 },
 "nbformat": 4,
 "nbformat_minor": 5
}
